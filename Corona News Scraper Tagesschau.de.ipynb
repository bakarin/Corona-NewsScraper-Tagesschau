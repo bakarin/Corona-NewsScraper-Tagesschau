{
 "cells": [
  {
   "cell_type": "markdown",
   "metadata": {},
   "source": [
    "## Corona-News Scraper from Tagesschau.de"
   ]
  },
  {
   "cell_type": "code",
   "execution_count": 30,
   "metadata": {},
   "outputs": [],
   "source": [
    "import re\n",
    "from urllib.request import urlopen\n",
    "from bs4 import BeautifulSoup\n",
    "\n",
    "import datetime\n",
    "import pandas as pd"
   ]
  },
  {
   "cell_type": "code",
   "execution_count": 31,
   "metadata": {},
   "outputs": [],
   "source": [
    "todays_date = datetime.datetime.now()\n",
    "date_stamp = str(todays_date.date())"
   ]
  },
  {
   "cell_type": "code",
   "execution_count": 32,
   "metadata": {},
   "outputs": [],
   "source": [
    "url = 'https://www.tagesschau.de/'\n",
    "html = urlopen(url)\n",
    "soup = BeautifulSoup(html, \"html5lib\")"
   ]
  },
  {
   "cell_type": "markdown",
   "metadata": {},
   "source": [
    "### Parse Tagesschau.de homepage for new articles"
   ]
  },
  {
   "cell_type": "code",
   "execution_count": 33,
   "metadata": {},
   "outputs": [],
   "source": [
    "headlines = []\n",
    "dachzeilen = []\n",
    "teasers = []\n",
    "links = []\n",
    "texts = []\n",
    "a = soup.find_all('a')\n",
    "for item in a:\n",
    "    if item.find('p', class_='dachzeile'):\n",
    "        links.append(item.get('href'))\n",
    "        texts.append(item.get_text())"
   ]
  },
  {
   "cell_type": "code",
   "execution_count": 34,
   "metadata": {},
   "outputs": [
    {
     "name": "stdout",
     "output_type": "stream",
     "text": [
      "\n",
      "Maßnahmen gegen Corona\n",
      "Südkorea als Vorbild?\n",
      "Auf der Suche nach Maßnahmen gegen die Ausbreitung des Coronavirus gilt Südkorea als Vorbild. Dort blieb die Zahl der Infektionen relativ niedrig. Aber auch dort ist die Krise noch nicht vorbei. Von Silvia Stöber.\n",
      "| mehr\n",
      "\n",
      "\n",
      "/faktenfinder/corona-suedkorea-111.html\n"
     ]
    }
   ],
   "source": [
    "# check the first text / link\n",
    "print(texts[0])\n",
    "\n",
    "print(links[0])\n"
   ]
  },
  {
   "cell_type": "markdown",
   "metadata": {},
   "source": [
    "### Check which articles on the homepage are about the Corona virus"
   ]
  },
  {
   "cell_type": "code",
   "execution_count": 35,
   "metadata": {},
   "outputs": [],
   "source": [
    "# corona, covid19, coronavirus\n",
    "corona_links = []\n",
    "corona_texts = []\n",
    "for i in range(len(texts)):\n",
    "    if (\"corona\" in texts[i].lower()) | (\"covid\" in texts[i].lower()):\n",
    "        if links[i].startswith(\"/\"):\n",
    "            corona_links.append(links[i])\n",
    "            corona_texts.append(texts[i])"
   ]
  },
  {
   "cell_type": "code",
   "execution_count": 36,
   "metadata": {},
   "outputs": [
    {
     "name": "stdout",
     "output_type": "stream",
     "text": [
      "['/faktenfinder/corona-suedkorea-111.html', '/ausland/taiwan-corona-101.html', '/ausland/china-corona-fallzahlen-kommission-101.html', '/ausland/trump-analyse-105.html', '/inland/corona-entwicklung-interview-101.html', '/ausland/coronavirus-karten-101.html', '/newsticker/liveblog-corona-dienstag-101.html', '/wirtschaft/heil-kurzarbeit-corona-101.html', '/inland/corona-test-105.html', '/ausland/corona-neuseeland-101.html', '/ausland/usa-kreuzfahrtschiff-zaandam-101.html', '/ausland/corona-usa-111.html', '/inland/corona-bundeswehr-inland-amtshilfe-101.html', '/sport/sportschau/bundesliga-corona-101.html']\n",
      "\n",
      "['\\nMaßnahmen gegen Corona\\nSüdkorea als Vorbild?\\nAuf der Suche nach Maßnahmen gegen die Ausbreitung des Coronavirus gilt Südkorea als Vorbild. Dort blieb die Zahl der Infektionen relativ niedrig. Aber auch dort ist die Krise noch nicht vorbei. Von Silvia Stöber.\\n|\\xa0mehr\\n\\n', '\\nTaiwans Corona-Strategie\\nWo es Masken von der Krankenkasse gibt\\nIn Taiwan gibt es laut Statistik nur etwa 300 Corona-Infizierte. Und das, obwohl viel getestet wird und Zehntausende im Nachbarland China arbeiten. Wie macht Taiwan das und warum beachtet die WHO dies kaum? Von Kathrin Erdmann.\\n|\\xa0mehr\\n\\n', '\\nCorona-Statistik\\nChina verspricht mehr Zahlen\\nChinas Coronavirus-Statistiken fallen ungewöhnlich gut aus. Doch an ihnen gibt es massive Zweifel. Nun steuert die Gesundheitskommission bei und will in Zukunft umfangreichere Statistiken veröffentlichen. \\xa0\\n|\\xa0mehr\\n\\n', '\\nTrump und die Coronakrise \\nIm Nebel des Postfaktischen\\nLange hat US-Präsident Trump die Corona-Krise ignoriert, viel zu spät scheint er die Gefahr zu erkennen. Dennoch ist er laut einer Umfrage so beliebt wie nie. Wie kann das sein? Eine Analyse von Klaus Scherer.\\n|\\xa0mehr\\n\\n', '\\nCorona-Pandemie\\n\"... dann geht alles von vorne los\"\\nDie aktuellen Maßnahmen verschaffen uns Zeit zur Vorbereitung auf die Folgen der Corona-Pandemie. Doch sie lösen das Problem nicht, sagt Epidemiologe Eichner im tagesschau.de-Interview. \"Sie verschieben es nur nach hinten.\"  |\\xa0mehr\\n', '\\nKarten mit Fallzahlen\\nWo sich das Coronavirus ausbreitet\\nWie viele bestätigte Coronavirus-Fälle gibt es derzeit? Die Coronavirus-Karten von tagesschau.de geben einen aktuellen, interaktiven Überblick für Deutschland und die Welt.  |\\xa0mehr\\n', '\\nLiveblog zum Coronavirus \\n++ VW verlängert Werksschließung ++ \\nDie VW-Werke in Deutschland bleiben zehn weitere Tage geschlossen. Der BA-Chef erwartet bis zu 200.000 Arbeitslose mehr. In den Niederlanden sind fast alle Intensivbetten belegt. Die Entwicklungen im Liveblog.\\n|\\xa0mehr\\n\\n', '\\nWirtschaft in der Krise\\n470.000 Betriebe zeigen Kurzarbeit an\\nIn der Corona-Pandemie haben fast eine halbe Million Betriebe Kurzarbeit angezeigt. Die Krise dürfte massive Auswirkungen haben - die Bundesagentur für Arbeit rechnet mit bis zu 200.000 zusätzlichen Arbeitslosen im April.\\n|\\xa0mehr\\n\\n', '\\nRKI zu Coronavirus\\nHoffen auf Ostern\\nVorsichtig optimistisch, aber kein Grund zur Entwarnung: Die Maßnahmen zur Eindämmung des Coronavirus könnten wirken, sagte RKI-Präsident Wieler. Konkrete Zahlen erwartet er bis Ostern. Die Todesrate werde weiter steigen.\\n|\\xa0mehr\\n\\n', '\\nDeutsche in Neuseeland\\nGestrandet im Paradies \\nViele Deutsche freuten sich auf einen Traumurlaub in Neuseeland - und sitzen nun wegen des Coronavirus zu Tausenden dort fest. Wann sie nach Hause reisen können, ist unklar. Von Holger Senzel. \\n|\\xa0mehr\\n\\n', '\\nCoronavirus auf Schiff\\n\"Zaandam\" sucht Hafen in Florida\\nMehr als 1000 Menschen sitzen auf dem Kreuzfahrtschiff \"Zaandam\" vor der Küste Floridas fest. Es gibt erste Tote und mehrere Coronavirus-Erkrankte. Die US-Behörden verweigern bisher ein Einlaufen - mit Verweis auf knappe Ressourcen.\\n|\\xa0mehr\\n\\n', '\\nUSA\\nCorona fordert Landärzte heraus\\nAuch in den ländlichen Gebieten der USA breitet sich das Coronavirus immer weiter aus. Doch die Gesundheitsversorgung ist dort schon zu normalen Zeiten ein Problem. Von Julia Kastein.\\n|\\xa0mehr\\n\\n', '\\nCorona-Krise\\nWarum die Bundeswehr oft Nein sagen muss\\nIn der Corona-Krise erreichen die Bundeswehr viele Anfragen: nach Hilfsflügen, nach Material. Doch ihre Möglichkeiten sind begrenzt, und die Hürden für einen Einsatz im Innern bleiben hoch. Von Kai Küstner.\\n|\\xa0mehr\\n\\n', '\\nCorona-Folgen für beiden Ligen\\nKeine Bundesliga bis 30. April - mindestens\\nDer Spielbetrieb in der Fußball-Bundesliga und der 2. Liga bleibt bis mindestens zum 30. April ausgesetzt. Die Klubs folgten einer entsprechenden Empfehlung der DFL. Wie es im Mai weitergeht, ist völlig offen.\\n|\\xa0mehr\\n\\n']\n"
     ]
    }
   ],
   "source": [
    "print(corona_links)\n",
    "print(\"\")\n",
    "print(corona_texts)"
   ]
  },
  {
   "cell_type": "markdown",
   "metadata": {},
   "source": [
    "### Get full article for each news about corona virus"
   ]
  },
  {
   "cell_type": "code",
   "execution_count": 37,
   "metadata": {},
   "outputs": [
    {
     "name": "stdout",
     "output_type": "stream",
     "text": [
      "https://www.tagesschau.de/faktenfinder/corona-suedkorea-111.html\n",
      "https://www.tagesschau.de/ausland/taiwan-corona-101.html\n",
      "https://www.tagesschau.de/ausland/china-corona-fallzahlen-kommission-101.html\n",
      "https://www.tagesschau.de/ausland/trump-analyse-105.html\n",
      "https://www.tagesschau.de/inland/corona-entwicklung-interview-101.html\n",
      "https://www.tagesschau.de/ausland/coronavirus-karten-101.html\n",
      "https://www.tagesschau.de/newsticker/liveblog-corona-dienstag-101.html\n",
      "https://www.tagesschau.de/wirtschaft/heil-kurzarbeit-corona-101.html\n",
      "https://www.tagesschau.de/inland/corona-test-105.html\n",
      "https://www.tagesschau.de/ausland/corona-neuseeland-101.html\n",
      "https://www.tagesschau.de/ausland/usa-kreuzfahrtschiff-zaandam-101.html\n",
      "https://www.tagesschau.de/ausland/corona-usa-111.html\n",
      "https://www.tagesschau.de/inland/corona-bundeswehr-inland-amtshilfe-101.html\n",
      "https://www.tagesschau.de/sport/sportschau/bundesliga-corona-101.html\n"
     ]
    }
   ],
   "source": [
    "corona_articles = []\n",
    "for link in corona_links:\n",
    "    full_link = \"https://www.tagesschau.de\" + link\n",
    "    print(full_link)\n",
    "    html = urlopen(full_link)\n",
    "    sub_soup = BeautifulSoup(html, \"html5lib\")\n",
    "    article = sub_soup.find_all('p', class_='text small')\n",
    "    paragraphs = []\n",
    "    for i in range(len(article)):\n",
    "        paragraphs.append(article[i].get_text())\n",
    "    # unifying teh paragraphs\n",
    "    final_article = \" \".join(paragraphs)\n",
    "    corona_articles.append(final_article)\n",
    "    "
   ]
  },
  {
   "cell_type": "code",
   "execution_count": 38,
   "metadata": {},
   "outputs": [
    {
     "name": "stdout",
     "output_type": "stream",
     "text": [
      "['Auf der Suche nach Maßnahmen gegen die Ausbreitung des Coronavirus gilt Südkorea als Vorbild. Dort blieb die Zahl der Infektionen relativ niedrig. Aber auch dort ist die Krise noch nicht vorbei.  In einem vertraulichen Strategiepapier des Bundesinnenministeriums zum Kampf gegen das Coronavirus wird Südkorea als Vorbild genannt. Mittels Massentests und Isolierung von Erkrankten sei die Ausbreitung des Erregers stark verlangsamt worden, ohne das öffentliche Leben zum Stillstand zu bringen. \\n  In der Tat flachte sich die Infektionskurve in Südkorea schnell ab, obwohl es im Februar einen heftigen Ausbruch gab. Bis Dienstag wurden dort lediglich 9786 Menschen positiv auf den Sars-CoV-2-Erreger getestet. Die Zahl der Todesfälle in Verbindung mit dem Virus lag bei 162. In Deutschland sind es fast 67.000 Infizierte und 650 Todesfälle.  Dabei gibt es Ähnlichkeiten zwischen Südkorea und der Bundesrepublik - auch dies ein Grund, das südostasiatische Land zum Vorbild zu nehmen. Mit einer Bevölkerung von 50 Millionen ist Südkorea nicht zu weit von Deutschland entfernt. Allerdings sind nach Angaben einer Studie der Vereinten Nationen in Deutschland, wie in Italien, 28 Prozent der Bevölkerung älter als 60 Jahre. In Südkorea sind es nur 18 Prozent.  Die Wirtschaft ist hingegen vergleichbar strukturiert und anders als China ist Südkorea demokratisch verfasst. Hinzu kommt, dass Südkorea 2015 Erfahrungen mit dem MERS-Virus sammelte und sein Gesundheitssystem reformierte.  Im Januar konnte Südkorea die Ausbreitung des Coronavirus gut verfolgen und eindämmen. So wurde das Virus am 20. Januar bei einer Chinesin festgestellt, die aus Wuhan einreiste. Ähnlich konnte im Januar ein Ausbruch in Bayern aufgespürt werden, als eine Chinesin einen Kollegen einer deutschen Firma ansteckte und dieser isoliert wurde.  Mitte Februar stiegen die Zahlen in Südkorea sprunghaft an. Betroffen war vor allem die Großstadt Daegu und die umliegende Region. Dort konnte die Infektionskette anfänglich gut nachverfolgt werden, da eine Patientin als Mitglied der christlichen Sekte Shincheonji-Kirche Jesu viele ihrer Mitgläubigen angesteckt hatte. Bis zum 12. März entfielen mehr als 60 Prozent der erfassten Infektionen auf Anhänger dieser Sekte, die Verbindungen nach China pflegt. Ende Februar gab es in der Stadt zeitweise täglich mehr als 900 registrierte Neuinfektionen. \\n  Die Behörden gingen streng vor und stellten Strafanzeige wegen Mordes gegen den geistigen Führer und zwölf weitere Mitglieder, weil sie sie beim Ausfindigmachen der Anhänger nicht ausreichend kooperiert haben sollen. Inzwischen schloss die Sekte nach eigenen Angaben alle ihre Einrichtungen im Land und übergab den Gesundheitsbehörden die Namen von mehr als 200.000 Anhängern.  Nach Bekanntwerden des ersten Todesfalles wegen Corona rief die Regierung am 23. Februar die höchste Warnstufe für Infektionskrankheiten aus. Als sich das Virus über die Stadt Daegu hinaus ausbreitete, wurden weitere Städte wie Chenongdo und Gyeongsan zu speziellen Kontrollzonen erklärt.  Zur Anwendung kamen Maßnahmen, die auch hier als \"Social Distancing\" bekannt sind. Konzerte und Festivals wurden abgesagt und Sportveranstaltungen verschoben, Museen und Büchereien blieben geschlossen. Großunternehmen ordnen Heimarbeit an. Der Beginn des Schulhalbjahrs und wurde mehrfach verschoben und Kindergärten blieben geschlossen. \\n  Was jedoch am Beispiel Südkorea am stärksten hervorgehoben wird, sind die umfangreichen Tests in der Bevölkerung. \"Ich denke, wir konnten fast alle Fälle in Korea erfassen, darunter auch milde und symptomlose Fälle\", sagte Kim Dong Hyun von der Koreanischen Gesellschaft für Epidemiologie am 11.März. Südkorea sei in dieser Hinsicht ein Ausnahmefall. Bis zum 30. März führte Südkorea mehr als 395.000 Tests durch, 372.000 davon waren negativ.  Allerdings testen auch andere Länder wie Island und die Vereinigten Arabischen Emirate sehr viel. In Deutschland schwanken die offiziellen Schätzungen über die Anzahl der Tests. Allein die Labore, die im ambulanten Bereich für niedergelassene Ärzte tätig sind, führten nach eigenen Angaben in der vergangenen Woche mehr als 266.000 Tests durch. Das seien 160.000 mehr als in der Vorwoche gewesen. \\n  Die mit den Tests ermittelten Infizierten wurden isoliert. Ihre Kontaktpersonen wurden mittels Videoüberwachung, Handy- und Bankdaten ausfindig gemacht und ebenfalls getestet. Um potenziell Infizierte ausfindig zu machen, dient die Nachverfolgung von Handydaten als wesentliches Element. In Südkorea erfolgt dieses Tracking auf freiwilliger Basis.  Regierungsvertreter und Epidemiologen wie Lothar Wieler, Direktor des Robert Koch-Instituts, sprechen sich dafür auch in Deutschland aus. \"Es beschleunigt die Eindämmung des Virus, wenn Kontaktpersonen wissen, dass sie Kontakt hatten.\" Auch wenn Deutschland und Südkorea kulturell sehr unterschiedlich seien und andere Gesundheitssysteme hätten, könne das asiatische Land \"Vorbild sein\", sagte er der \"Frankfurter Allgemeinen Zeitung\". \\xa0  Zu dem Verfahren zählt auch Transparenz: Auf der Website Coronaita sind Orte verzeichnet, an denen sich besonders viele Infizierte aufhalten und die in Quarantäne gehalten werden. \\n  In Singapur und Taiwan wird ebenfalls Tracking verwendet, um gezielt Verdachtsfälle ausfindig zu machen und diese Menschen zu isolieren. In Singapur werden zudem Ermittler auf die Überwachung von Menschen in Quarantäne angesetzt. In Hongkong erhalten Patienten in Quarantäne eine Handy-App. Sie schlägt Alarm, wenn man die Wohnung verlässt.  Wesentlich sind aber in Taiwan und Singapur die Vorkehrungen, die als Erfahrungen mit SARS und MERS getroffen wurden. Dazu zählen schnelle Entscheidungen, sobald erste Informationen über die Verbreitung eines neuen Virus eintreffen.  So informierte das Gesundheitsministerium Singapurs am 2. Januar alle Ärzte im Land darüber, dass China der WHO über die Ausbreitung eines neuen Virus informiert hatte, das in Wuhan zu schweren Lungenkrankheiten geführt hatte. Es sollten alle Patienten mit Lungenproblemen gemeldet werden, die aus Wuhan eingereist waren. Auch wurden ab dem 3. Januar am Flughafen in Singapur alle Passagiere aus Wuhan auf Fieber gemessen. Auf diese Weise wurde sehr früh eine Art Tracking durchgeführt. \\n  Trotz der relativ eingeschränkten Verbreitung des Virus und der sehr gezielten Isolierung von Betroffenen und Restriktionen innerhalb eingegrenzter Regionen ist auch die Wirtschaft in Südkorea von den Maßnahmen beeinträchtigt. Die Regierung legte deshalb ein massives Rettungsprogramm in Milliardenhöhe für Unternehmer, Kleinhändler und Selbständige auf, um diese vor der Insolvenz zu schützen.  Zudem erhalten 14 Millionen Haushalte in den unteren Einkommensgruppen des Landes von der Regierung Geschenkgutscheine im Wert von bis zu einer Million Won (etwa 738 Euro). Dafür wird im Parlament ein Nachtragshaushalt verabschiedet.  Das Virus ist auch in Südkorea mehr als zwei Monate nach Auftreten der ersten Fälle noch nicht besiegt. Die Zahl der täglich neu erfassten Neuinfektionen schwankt derzeit um die Zahl 100. Am Montag seien 125 Fälle hinzugekommen, teilten die Gesundheitsbehörden mit. \\n  Weiterhin werden Neuinfektionen in der südöstlichen Stadt Daegu festgestellt, und es gibt lokale Häufungen in der Hauptstadt Seoul und der umliegenden Provinz.  Die Weltgesundheitsorganisation warnte entsprechend: Auch in Asien sei die Pandemie noch keineswegs besiegt. \"Das ist ein langfristiger Kampf und wir dürfen in unserer Wachsamkeit nicht nachlassen\", sagte WHO-Regionaldirektor Takeshi Kasai.', 'In Taiwan gibt es laut Statistik nur etwa 300 Corona-Infizierte. Und das, obwohl viel getestet wird und Zehntausende im Nachbarland China arbeiten. Wie macht Taiwan das und warum beachtet die WHO dies kaum?  Die taiwanische Regierung ist sauer. Obwohl sie zu den Gründungsmitgliedern der Weltgesundheitsorganisation WHO gehört, hat sie seit vielen Jahren nur Beobachterstatus. Das liegt am Druck aus China, das einen vollwertigen Beitritt seit Jahren boykottiert.  Doch damit nicht genug, wie Joanne Ou, Sprecherin des taiwanischen Außenministeriums sagt:  Die Außenamtssprecherin reagierte damit auf eine Aussage der Weltgesundheitsorganisation vom Wochenende. Darin hatte sie behauptet, man beobachte die Situation in Taiwan sehr genau und stehe im Austausch mit den dortigen Experten. \\n  Dass hier die Aussage der WHO und die Realität auseinandergehen, hat aus Sicht von Ou vor allem einen Hintergrund: Es zeige, dass die WHO, selbst wenn es um Expertentreffen gehe, immer noch \"auf politische Befindlichkeiten\" Rücksicht nehme.  Taiwan sei bisher von 70 Prozent dieser Treffen ausgeschlossen. Dabei werde gegenwärtig viel über Taiwans Umgang mit der Epidemie gesprochen und von vielen Ländern gebe es Lob, so Ou weiter. \"Wir sehen, dass unsere Verbündeten und Länder wie die USA und Japan Druck auf die WHO machen, damit Taiwan aufgenommen wird.\" \\n  Doch bisher hat sich die WHO mit Rücksicht auf China nicht bewegt. Dabei könnten die Informationen aus Taiwan für andere Länder möglicherweise überlebenswichtig und hilfreich sein.  Das Land hat frühzeitig auf das Virus reagiert, sehr schnell den Export von Schutzmasken verboten und seine eigene Produktion hochgefahren. Masken gibt es für alle gegen Vorlage der Krankenkassenkarte - bisher drei pro Woche, ab Anfang April sogar neun für zwei Wochen. Per App kann man sehen, wo es noch Masken gibt. Überall wird ständig Fieber gemessen und einem Desinfektionsmittel hingehalten.  Und die Digitalministerin Audrey Tang hilft praktisch auch noch nach. In einem Video zeigt sie ihren Landsleuten, wie sie ganz einfach im Reiskocher eine Maske wiederverwendbar machen können. Lebensnahe, praktische Politik made in Taiwan.', 'Chinas Coronavirus-Statistiken fallen ungewöhnlich gut aus. Doch an ihnen gibt es massive Zweifel. Nun steuert die Gesundheitskommission bei und will in Zukunft umfangreichere Statistiken veröffentlichen. \\xa0 \\xa0  Angesichts der Zweifel an den offiziellen Daten zu Corona-Infektionen in China haben die Behörden Änderungen zugesagt. Ab dem 1. April sollten auch die Zahlen von Infizierten ohne Krankheitssymptome veröffentlicht werden, teilte die Nationale Gesundheitskommission mit.  Diese würden dann auch zentral für 14 Tage unter Quarantäne gestellt. Derzeit stünden 1541 Menschen unter Beobachtung, die positiv auf das Coronavirus getestet wurden, aber keine Symptome zeigen.\\xa0  Nach den offiziellen\\xa0Zahlen sind bislang 3305\\xa0Menschen in China dem\\xa0Virus zum Opfer gefallen. Insgesamt wurden auf dem chinesischen\\xa0Festland 81.518\\xa0Infizierte registriert, von denen sich bislang mehr als 76.000\\xa0wieder erholt haben. In Staaten mit deutlich weniger Einwohnern - den USA, Italien und Spanien - werden höhere Fallzahlen genannt. Auch die Zahl der Menschen, die an der Lungenerkrankung Covid19 gestorben sind, liegt dort höher als in China. \\xa0 \\n  Allerdings machen Chinas Behörden keine Angaben dazu, wie viele Menschen täglich getestet werden. Für Zweifel sorgt auch, dass China die Zählweise schon in den vergangenen Monaten mehrfach geändert hatte.\\xa0  In den vom Staat kontrollierten Medien wird die Frage nach der Glaubwürdigkeit der offiziellen Infektionszahlen nicht thematisiert. In Chinas Social-Media-Netzwerken gibt es allerdings durchaus kritische Stimmen zu den außergewöhnlich guten Coronavirus-Statistiken.  In einem Eintrag auf einer Internet-Plattform vom 12. März etwa hatte ein Einwohner aus Yueyang erklärt, es habe mehrere Neu-Infizierte in der Stadt gegeben, auf der offiziellen Liste stehe aber die Zahl null. Die örtliche Regierung hatte daraufhin erklärt, es seien tatsächlich fünf Personen positiv getestet worden. Da sie aber keine Symptome gehabt hätten, seien die Behörden auch nicht verpflichtet gewesen, dies öffentlich mitzuteilen.  Zweifel gibt es zudem in der Stadt Wuhan, in der die Pandemie ihren Ausgang nahm. Dort sagten Bewohner und medizinisches Personal der Nachrichtenagentur Reuters, es habe in einigen Kliniken Probleme mit den Tests gegeben. Das habe bedeutet, dass einige Infizierte nicht registriert und nicht in die Statistik einbezogen worden seien. \\n  Skepsis sei angebracht im Bezug auf die Zahlen der chinesischen Führung, sagt Adam Ni, Direktor des China Policy Centers, einer nichtstaatlichen Organisation in der australischen Hauptstadt Canberra. Dass Chinas Behörden falsche Zahlen veröffentlichen, sei nicht neu.  \"Die Führung in Peking hat das immer wieder gemacht, etwa bei Zahlen zur Luftverschmutzung und auch beim Wirtschaftswachstum.\" Deshalb solle man bei Statistiken des chinesischen Staats generell skeptisch sein: \"Vor allem, wenn es um sensible Themen geht, bei denen es die Kommunistische Partei für geboten hält, Daten zu manipulieren.\"  Mit Informationen von Steffen Wurzel, ARD-Studio Shanghai', 'Lange hat US-Präsident Trump die Corona-Krise ignoriert, viel zu spät scheint er die Gefahr zu erkennen. Dennoch ist er laut einer Umfrage so beliebt wie nie. Wie kann das sein?  Es war womöglich der Game Changer, die Wende, in den Sympathie-Umfragen von Donald Trump. Gerade noch schienen die US-Demokraten wieder einmal sicher, den Präsidenten in der Corona-Krise des Unvermögens überführt zu haben, da konnte er sich erstmals über Zustimmungswerte von fast 50 Prozent freuen. Steigt da etwa einer aus seinem Umfragetief empor wie seinerzeit Gerhard Schröder nach der Elbeflut? Die Überschwemmungen hatten Schröder zuerst Fernsehbilder als Held auf der Deichkrone beschert - und danach die Wiederwahl als Bundeskanzler.  Folgt man dem konservativen US-Publizisten George Will, den schon der Aufstieg Sarah Palins Sorgen machte, kann sich der amtierende US-Präsident indes schon deshalb kein fremdes Wissen aneignen, weil Trump \"nicht einmal weiß, was es heißt, etwas zu wissen\". So formulierte es Will nach Trumps Wahlsieg.  Tatsächlich hat Trump indes auf die Bedrohung zunächst wie üblich reagiert. Erst tat er das Virus als \"Erfindung\" der Demokraten ab, die ihm schaden wollten. Dann brüstete er sich, es sei in den USA bereits \"unter Kontrolle\" und \"gestoppt\". Kaum hatte die Infektionswelle das widerlegt, prahlte er - nicht minder faktenfern -, er habe die Pandemie in Wahrheit früher als seine Kritiker erkannt.  Trump schob die Schuld an Versäumnissen der Obama-Regierung zu und feierte sich als vielgeachtetes Medizin-Talent. Und weil Staatsführer im Verteidigungsfall mehr Rückhalt genießen als sonst, ernannte er sich schließlich zum \"Kriegspräsidenten\", der entgegen aller Virologen-Ratschläge schon zu Ostern die Kirchen wieder \"randvoll\" sehe. Amerika sei nun mal \"nicht dafür gemacht\", still zu stehen. Ganz Feldherr also. Ganz Trump. Das \"stabile Genie\". Warum auch sollte er sich ändern? \\n  Dennoch ist nicht auszuschließen, dass auch Trumps Lernkurve bald nach oben gehen könnte - ganz wie die Corona-Zahlen. Nichts sei gefährlicher, so passte er zuletzt die Losung an, \"als einen Sieg zu feiern, bevor er errungen ist\". Und man sollte nicht einmal ausschließen, dass ihm ausgerechnet die Opposition dabei hilft, sein Umfragehoch noch auszubauen. Denn im Nebel des Postfaktischen, den Trump seit Jahren wirft, flankiert von seinen Getreuen im US-Senat und bei FoxNews, haben auch die Demokraten gelegentlich die Orientierung verloren. Schon mehrfach schienen sie allzu gewiss, dass Trumps endgültige Entzauberung bevorstehe.  Doch weder der Mueller-Report vermochte ihm erkennbar zu schaden, noch das Impeachment-Verfahren, obwohl es klarer machte als je zuvor, wie wenig sich Trumps Unterstützer um Wahrheit und Beweise scherten. Stattdessen schien ein wesentlicher Teil des Publikums der Trump\\'schen Reality-Show mehr und mehr genervt davon, wie lange sich die Demokraten daran jeweils festbissen.  Nun müssen sie aufpassen, dass ihre Drohung, Trump irgendwann für seine fatale Corona-Ignoranz zur Rechenschaft zu ziehen, am Ende nicht ebenso nach hinten losgeht. Denn wer würde das noch hören wollen, wenn der Kriegsherr den ersehnten Sieg über das Virus verkündet - gerade wenn der Krieg verlustreich war?  Nachdem Joe Biden als Herausforderer so gut wie feststeht, tun die Demokraten gut daran, Amerika täglich aufs Neue vorzuführen, wie sich die Alternative zu Trump anfühlen könnte. Mal wieder ein geerdeter Teamplayer, mal wieder ein Zuhörer? Denn viel spricht noch immer dafür, dass Trump das nie können wird.  Schon als die unter immensem Druck stehenden Bundesstaaten-Gouverneure vom Weißen Haus die versprochenen Atemmasken anmahnten, verlangte Trump persönliche Dankbarkeit als Bedingung. Sonst riefe er sie gar nicht erst an, sagte er. Trump, der \"Dealmaker\". Auch jetzt. Für ihn, so scheint es, bleibt Amerika weiterhin zuallererst er selbst. Dabei war es selten so leicht wie jetzt, das Land zusammenzuführen.  Als Schröder auf dem Deich gefragt wurde, ob er die Sorgen seiner Landsleute teile, wusste er, was er zu antworten hatte. Und zwar möglichst allen. Deshalb war er ja da. Auf die Frage eines NBC-Journalisten, was der US-Präsident heute jenen Amerikanern sagen könne, \"die Angst haben\", fertigte Trump lieber den Reporter ab. \"Was für eine gemeine Frage\", erwiderte er. \"Ich würde ihnen sagen, was für ein miserabler Reporter du bist.\"  Und was antwortet Publizist Will auf Trumps schillerndes Umfragehoch? Nur eine Zeile. \"Ich habe einen Eid geschworen\", teilt er vieldeutig mit, \"über Herrn Trump nicht mehr zu reden, so lange es nicht unbedingt notwendig ist.\" \\n  \\xa0', 'Die aktuellen Maßnahmen verschaffen uns Zeit zur Vorbereitung auf die Folgen der Corona-Pandemie. Doch sie lösen das Problem nicht, sagt Epidemiologe Eichner im tagesschau.de-Interview. \"Sie verschieben es nur nach hinten.\"  tagesschau.de: Wie effektiv sind die momentanen Kontaktbeschränkungen?  Martin Eichner: Die aktuelle massive Kontaktbeschränkung führt dazu, dass sich deutlich weniger Leute anstecken. Das ist erstmal gut. Denn zuletzt ist die Zahl der Neuinfektionen exponentiell gewachsen, was innerhalb kürzester Zeit dazu führt, dass unser Gesundheitssystem völlig überfordert wäre.  Das Problem ist allerdings, wenn wir die Ansteckungen aufhalten, wird auch kaum jemand immun. Wir brauchen aber aus epidemiologischer Sicht wohl etwa zwei Drittel Immunität in der Bevölkerung oder etwas mehr, um die Epidemie dauerhaft in den Griff zu bekommen. \\n  tagesschau.de: Warum schätzen Sie, dass es zwei Drittel Immune braucht?  Eichner: Das schließen wir aus der Basisreproduktionszahl. Die besagt, wie viele Menschen ein Infizierter im Schnitt ansteckt, wenn es noch keine Immune gibt. Forscher gehen davon aus, dass diese Zahl beim neuen Coronavirus zwischen zwei und fünf liegt. Wenn sie drei ist, dann steckt ein Infizierter im Schnitt also drei Personen an.  Wenn nun 50 Prozent der Bevölkerung immun wären, würde ein Infizierter im Schnitt also nur noch eineinhalb Personen anstecken. Das würde zwar die Steigerung der Infektionszahlen verlangsamen, aber sie würden eben immer noch steigen. Erst, wenn ein Infizierter nur noch eine weitere Person ansteckt, hört die Kurve auf zu wachsen. Das wäre bei zwei Dritteln Immunität der Fall. \\n  tagesschau.de: Die aktuellen Kontaktvermeidungen bringen also gar nichts bei der Bekämpfung der Epidemie?  Eichner: Wir gewinnen Zeit, aber die momentane Kontaktvermeidung verschiebt das Problem nur. Wenn wir nach ein paar Wochen zum normalen Leben zurückkehren, ohne dass wir eine nennenswerte Immunität in der Bevölkerung aufgebaut haben, stehen wir genau am gleichen Punkt, an dem wir vorher standen.  Die Folge: Die gleiche Entwicklung würde wieder ihren Lauf nehmen: Ein Infizierter steckt drei weitere an. Diese dann wieder drei, das sind es schon neun. Und in kurzer Zeit wächst die Kurve wieder exponentiell. Wir haben also lediglich Zeit gewonnen. Aber wir haben die Kurve nicht abgeflacht, sondern verschoben.  tagesschau.de: Was würde passieren, wenn man die Kontaktbeschränkungen noch weiter verlängern würde?  Eichner: Dann schieben wir die epidemische Welle noch weiter vor uns her. Und das wird eine Gesellschaft kaum über einen sehr langen Zeitraum aufrechterhalten können. Jedenfalls nicht so lange, bis es einen Impfstoff gibt. \\n  tagesschau.de: Was, wenn die Kontaktbeschränkungen lediglich ein wenig gelockert würden, aber nicht ganz aufgehoben? Beispielsweise, indem man Schulen und Kitas wieder öffnet, Restaurants und Bars aber noch geschlossen lässt.  Eichner: Ich gehe davon aus, dass wir momentan einen sehr großen Teil der Kontakte vermeiden. Nehmen wir an, wir würden nur 50 Prozent vermeiden, würde ein Infizierter immer noch mehr als eine weitere Person anstecken. Die Fallzahlen würden also wieder wachsen. Zwar wäre die Kurve dann leichter zu handhaben. Aber sie würde sich auch sehr in die Länge ziehen, bis die Zahlen schließlich runter gehen.  Wenn man das in den Simulator eingibt, würde es von heute an etwa sieben Monate dauern, bis die Epidemie einigermaßen ausgestanden ist. Das wäre furchtbar und die Kollateralschäden in Gesellschaft und Wirtschaft wären so groß, dass man überlegen muss: Will man das überhaupt? \\n  tagesschau.de: Was wäre die Alternative?  Eichner: Um schneller eine hohe Immunisierung der Gesellschaft zu erreichen, müsste man die Kontakte wieder zulassen und zwar so lange, bis die Infektionszahlen wieder so stark ansteigen, dass es gesellschaftlich und für das Gesundheitssystem fast untragbar wird. Dann, wenn die Infektionswelle in vollem Gange ist, müsste man noch einmal intervenieren und die Kontakte unterbrechen, vielleicht sogar noch stärker als jetzt.  Diese Welle wird sich dann nicht mehr ganz aufhalten lassen. Sie würde aber deutlich flacher und länger verlaufen, weil bis dahin durch die zusätzliche Zahl an Infektionen schon eine größere Immunität aufgebaut wäre. Die erneute Intervention müsste man wieder so lange aufrechterhalten, bis die Situation gesellschaftlich wieder erträglich ist.  Wenn die Immunität in der Bevölkerung dann aber noch nicht ausreicht, werden die Fallzahlen wieder wachsen und es kommt eine neue Welle. Und immer so weiter bis bei geschätzt zwei Dritteln der Menschen die Immunität aufgebaut ist.  tagesschau.de: Das heißt, man würde Schulen, Kitas und Restaurants öffnen, dann nach kurzer Zeit wieder schließen, dann wieder öffnen und immer so weiter?  Eichner: Ja. Die große Frage dabei ist, ob die Bevölkerung das aushält und da mitmacht. Oder ob viele nicht die falsche Schlussfolgerung ziehen und sagen würden: \"Wir haben\\'s doch gesehen, das bringt nichts mit der Kontaktbeschränkung.\"  All diese angesprochenen Szenarien wären sicher gesellschaftlich extrem belastend. Viel wichtiger wird es deshalb sein, die Erkrankung von denjenigen fernzuhalten, die ein großes Risiko für Komplikationen haben, also von den Älteren und denjenigen mit Vorerkrankungen.  Aber gerade Alleinstehende können natürlich nicht vollständig isoliert werden. Viele der besonders gefährdeten Personen brauchen auch deshalb Kontakt, weil sie gepflegt werden müssen. Andere leben in ihren Familien, wo die Jüngeren wiederum das Virus nach Hause tragen könnten. Da braucht es jetzt kreative Lösungen. \\n  tagesschau.de: Welche könnten das sein?  Eichner: Vermutlich brauchen wir nicht einen, sondern viele verschiedene Ansätze. Gesichtsmasken für alle beispielsweise oder spezielle Schutzkleidung für Ältere. Wobei aber diejenigen Masken, die am stärksten vor Ansteckung schützen, auch das Atmen erschweren. Oder: Durch Antikörpertests, die bald zur Verfügung stehen werden, diejenigen zu finden, die bereits immun sind, und die deswegen in Alten- und Pflegeheimen gefahrlos eingesetzt werden können.  Das Problem bei all den Überlegungen ist aber: Es gibt noch viel zu viele Unbekannte: Wir wissen noch immer nicht, wie viele der angesteckten Personen eigentlich erkranken, wie viele zum Arzt oder ins Krankenhaus müssen. Für genauere Modellrechnungen ist die Datenlage noch viel zu diffus.  Das Interview führte Sandra Stalinski, tagesschau.de.', 'Wie viele bestätigte Coronavirus-Fälle gibt es derzeit? Die Coronavirus-Karten von tagesschau.de geben einen aktuellen, interaktiven Überblick für Deutschland und die Welt. \\n  Hinweis: Die Zahlen der Coronavirus-Karte für Deutschland basieren auf den Angaben des Robert Koch-Instituts, die einmal pro Tag veröffentlicht werden. \\n  Hinweis: Die Zahlen der Coronavirus-Karte für alle Länder weltweit basiert auf den Angaben der Johns Hopkins University. Durch die verschiedenen Quellen und Aktualisierungszeitpunkte kann es für die Fallzahlen in Deutschland zu Abweichungen von den Zahlen des Robert Koch-Instituts kommen. \\n  Die Angaben der Johns Hopkins Universität und die Zahlen vom Robert Koch-Institut unterscheiden sich oft. Deswegen sind sie aber nicht falsch. Entscheidend ist, wann welche Zahlen gemeldet und wie sie ermittelt werden. \\n', 'Die VW-Werke in Deutschland bleiben zehn weitere Tage geschlossen. Der BA-Chef erwartet bis zu 200.000 Arbeitslose mehr. In den Niederlanden sind fast alle Intensivbetten belegt. Die Entwicklungen im Liveblog.  ', 'In der Corona-Pandemie haben fast eine halbe Million Betriebe Kurzarbeit angezeigt. Die Krise dürfte massive Auswirkungen haben - die Bundesagentur für Arbeit rechnet mit bis zu 200.000 zusätzlichen Arbeitslosen im April.  Angesichts der massiven Beschränkungen wegen der Coronakrise haben inzwischen 470.000 Unternehmen in Deutschland Kurzarbeit angezeigt. Darunter seien neben dem produzierenden Gewerbe auch viele Unternehmen aus dem Gastgewerbe und dem Handel, sagte Bundesarbeitsminister Hubertus Heil in Berlin. Wie viele Beschäftigte davon insgesamt betroffen seien, lasse sich noch nicht seriös sagen. Es sei aber davon auszugehen, dass es deutlich mehr werden als zu den Spitzenzeiten bei der Wirtschafts- und Finanzkrise 2009. Damals waren etwa 1,4 Millionen Menschen betroffen.  Heil betonte, dass betroffene Beschäftigte mit dem Kurzarbeitergeld ihren Job behalten könnten und die Chance hätten, die deutsche Wirtschaft nach der Krise wieder hochzufahren. Die Bundesagentur für Arbeit (BA) erklärte, man werde zur Bewältigung der Corona-Krise und zur Rettung von Arbeitsplätzen so viel Kurzarbeit wie nötig finanzieren. Ein finanzielles Limit gebe es nicht, sagte der Vorstandsvorsitzende Detlef Scheele. 100.000 Kurzarbeiter kosteten pro Monat bei einem Ausfall von 50 Prozent rund 79 Millionen Euro. \\n  Insgesamt sei angesichts der Krise damit zu rechnen, dass die Arbeitslosigkeit in Deutschland erstmals seit längerem wieder steigen werde. Scheele rechnet mit einem kurzfristigen Anstieg der Arbeitslosenzahl im April um 150.000 bis 200.000. Besonders betroffen seien die Gastronomie- und Tourismusbranche. Minister Heil erklärte, es gebe derzeit keine Überlegungen, die höheren Ausgaben mit Hilfe einer Beitragserhöhung bei der Arbeitslosenversicherung gegenzufinanzieren. Die Bundesagentur habe in guten Zeiten solide gewirtschaftet und eine Rücklage angehäuft.  Am Morgen hatte die Bundesagentur für Arbeit ihre Daten für den aktuellen Monat vorgestellt - die jedoch angesichts der drastischen Maßnahmen der vergangenen drei Wochen wenig aussagekräftig sind. Demnach waren im März bundesweit 2,335 Millionen Menschen ohne Job. Das waren 60.000 weniger als im Februar, aber 34.000 mehr als im März des Vorjahres. Die Arbeitslosenquote sank im März um 0,2 Prozentpunkte auf 5,1 Prozent. Im März ist ein Rückgang der Arbeitslosenzahl üblich, weil in den Außenberufen mit der einsetzenden Frühjahrsbelebung in der Regel die Beschäftigung steigt.  Die Arbeitsmarktdaten wurden bis zum Stichtag 12. März erfasst und damit vor den weitgehenden Einschränkungen des öffentlichen und wirtschaftlichen Lebens als Folge der Coronavirus-Krise.\\xa0', 'Vorsichtig optimistisch, aber kein Grund zur Entwarnung: Die Maßnahmen zur Eindämmung des Coronavirus könnten wirken, sagte RKI-Präsident Wieler. Konkrete Zahlen erwartet er bis Ostern. Die Todesrate werde weiter steigen.   Der Präsident des Robert Koch-Instituts, Lothar Wieler, ist optimistisch, dass die derzeitigen Maßnahmen zur Eindämmung des Coronavirus wirken. Er gehe davon aus, dass \"handfeste Zahlen\" bis Ostern vorliegen, die Aussagen über einen Trend ermöglichen, sagte er auf einer Pressekonferenz.  Die Sterberate in Deutschland sei mit derzeit 0,8 Prozent sehr gering. Er gehe aber davon aus, dass die Quote steigen werde. 583 Menschen starben bislang an der Krankheit Covid-19. In den vergangenen Tagen hatte sich der prozentuale Anstieg der dem RKI gemeldeten Infektionszahlen abgeflacht. Inzwischen registrierte das Institut 61.913 Fälle in Deutschland. Das sind  4615 mehr als am Montag - diese Zahl  entspricht allerdings einem Plus unter zehn Prozent und liegt damit deutlich niedriger als etwa an Tagen der Vorwoche.  \"Ich möchte alle Menschen bitten, diese Krankheit ernst zu nehmen\", sagte Wieler. Aus einer Studie gehe hervor, dass nur 41 Prozent der Deutschen die Krankheit Covid-19 für gefährlich hielten.  Die Strategie gegen das Coronavirus müsse weiter Bestand haben: Eindämmung, Schutz der besonders gefährdeten Personen, Aufstockung der Kapazitäten. Die Pandemie gehe weiter und werde noch einige Wochen und Monate weitergehen, betonte er. \\n  Am Montag hatten die Innenminister von Bund und Ländern sich darauf verständigt, an den Einschränkungen des öffentlichen Lebens im Kampf gegen das Coronavirus festzuhalten. \"Wir sind erst am Anfang der Pandemie und dürfen nicht frühzeitig die notwendigen Maßnahmen zur Unterbrechung der Infektionsketten aufheben\", erklärte Bundesinnenminister Horst Seehofer nach der Telefonschaltkonferenz mit seinen Länderkollegen. Der Vorsitzende der Innenministerkonferenz, Thüringens Innenminister Georg Maier, sagte: \"Es gibt noch keine verlässlichen Zahlen, ob und in welcher Weise die eingeleiteten Schritte wirken. Deshalb kommt eine Lockerung der Maßnahmen gegenwärtig nicht in Betracht.\"  Großflächige Coronavirus-Tests in der Bevölkerung hält der Berufsverband Deutscher Laborärzte (BDL)\\xa0momentan nicht für möglich. \"Die wünschenswerte flächendeckende Testung ist derzeit illusorisch\", sagte der BDL-Vorsitzende Andreas Bobrowski der Nachrichtenagentur dpa.  Die Testmaterialien wie Entnahmesets und Reagenzien für die Labore würden von Tag zu Tag knapper. Auch die Lieferzeiten der ebenfalls erforderlichen sogenannten PCR-Geräte seien derzeit extrem lang. Bei PCR-Tests werden Abstriche aus Nase oder Rachen genommen und im Labor mit Hilfe dieser Geräte auf Viren-Erbgut untersucht. \\n  Tests müssten derzeit nach medizinischen Notwendigkeiten priorisiert werden, sagte Bobrowski weiter. Dafür habe das Robert Koch-Institut Kriterien erarbeitet. Wer getestet wird, entscheiden im Moment Kliniken und Ärzte selbst. Nach Angaben von Bundesgesundheitsminister Jens Spahn liegt die Kapazität in Deutschland zurzeit bei bis zu 500.000 Tests pro Woche.  Die Idee, auch tiermedizinische Labore zu nutzen, lehnt der Laborärzteverband ab. \"Tiermedizinische Labore haben keine Zulassung für die Untersuchung von humanpathogenen Proben. Es fehlt darüber hinaus das gesamte Know-how des Patientenmanagements und dem damit verbundenen Schutz der persönlichen Daten\", sagte Bobrowski. \\n \\n  Die Bundesärztekammer sprach sich dafür aus, die Kontaktsperre für diejenigen zu lockern, die eine Corona-Ansteckung schon überwunden haben. Dafür wäre es gut, möglichst viele Bundesbürger auf Antikörper zu testen. \"Alle, die immun sind, weil sie die Infektion schon hinter sich haben, könnten dann wieder zur Arbeit gehen und am gesellschaftlichen Leben teilnehmen\", sagte Ärztekammerpräsident Klaus Reinhardt der \"Frankfurter Allgemeinen Zeitung\". Kritik an diesen Forderungen kam von der Deutschen Stiftung Patientenschutz. Das sei realitätsfern, sagte Vorstand Eugen Brysch. \"In der Krise müssen sich alle an die gleichen Regeln halten, sonst funktioniert es nicht.\" Wenn jetzt geheilte Menschen in das Normalleben entlassen würden, bedeute das Chaos für die Ordnungshüter. Eine Kontrolle wäre unmöglich.', 'Viele Deutsche freuten sich auf einen Traumurlaub in Neuseeland - und sitzen nun wegen des Coronavirus zu Tausenden dort fest. Wann sie nach Hause reisen können, ist unklar.   Die teuerste Serie aller Zeiten sollte mit \"Lord of the Rings\" in Neuseeland gedreht werden - aber das Coronavirus hat Amazon vorerst einen Strich durch die Rechnung gemacht.  Und in den Hobbit-Kulissen, wo noch vor Wochen Tausende Touristen herumliefen und eine Menge Dollar im Lande ließen, herrscht Stille. Neuseeland ist quasi abgeschaltet.  Für 12.000 bis 16.000 Deutsche, die hier ihr Paradies suchten,\\xa0wurde Neuseeland vorerst zum Gefängnis. Anna reiste mit ihrem Freund Alex seit Monaten mit einem Work and Travel-Visum durch das Land, als der Shutdown verkündet wurde. \\n  \"Wir wussten, die meisten Campingplätze und alle öffentlichen Einrichtungen werden wahrscheinlich geschlossen, und hatten keinen Ort, wo wir hingehen konnten\", erzählt Anna. \"Es war wirklich Verzweiflung.\"  Aber dann kamen\\xa0 die beiden im Supermarkt zufällig mit Iren ins Gespräch, einer neuseeländische Krankenschwester, die sie fragte, wie es für die beiden weitergeht. \"Wenn ihr keinen Platz zum Schlafen habt, kommt doch zu mir\", bot sie an.  Auch Markus Veit hatte Glück. Der 60-jährige Pharmazeut aus Landsberg ist mit seinen beiden volljährigen Kindern seit Februar in Neuseeland. In der Nähe von Christchurch hat er ein Haus gemietet. Eine relativ komfortable Situation, das weiß er zu schätzen - denn viele Touristen hätten weniger Glück.  Weil die Restaurants geschlossen sind, hätten Hotelgäste keine Verpflegung. \"Sie ernähren sich von Suppen, die sie mit heißem Wasser aufgießen müssen\", sagt Veit. Nicht in allen Zimmern gebe es Kühlschränke. \"Die Hotelzimmer sind horrend teuer\", erzählt er. \"Teilweise werden die Leute von den Hotels auf die Straße gesetzt.\"  \"Wir gehen als Nation in die Isolation\", hatte Premierministerin Jacinda Ardern zu Beginn der vierwöchigen Ausgangssperre verkündet. 647 Corona-Infektionen sind in Neuseeland registriert.  Das klingt wenig angesichts der Zahlen in Deutschland. Aber für eine Nation von gerade 4,8 Millionen Einwohner scheint es der Regierungschefin bedrohlich genug, die harten Einschränkungen zu rechtfertigen. Und es zeigen sich bereits erste Erfolge des Shutdowns, die Neuinfektionen steigen langsamer.  Die Bundesregierung hat die Rückholung aller Deutschen in Aussicht gestellt. Ob das angesichts des Shutdowns\\xa0in Neuseeland auch klappt, ist eine andere Frage.  \"Man kann sich ja im Land nicht mehr bewegen, weil es keine Inlandsflüge gibt\", sagt Veit. Seine Kinder und er hätten in dieser Woche Rückflüge in Aussicht gehabt, kommen aber nicht von ihrem Ferienhaus nach Auckland.  Und auch, wenn er recht komfortabel lebt in seinem Mietshaus bei Christchurch - wirklich genießen kann er die Zeit nicht. \"Wir alle haben Menschen in Deutschland, die sich entweder wünschen, dass wir in ihrer Nähe sind, oder von denen wir uns wünschen, dass wir in ihrer Nähe sind\", sagt Veit. \"Das macht ein entspanntes Leben in den Tag hinein eher schwierig.\"', 'Mehr als 1000 Menschen sitzen auf dem Kreuzfahrtschiff \"Zaandam\" vor der Küste Floridas fest. Es gibt erste Tote und mehrere Coronavirus-Erkrankte. Die US-Behörden verweigern bisher ein Einlaufen - mit Verweis auf knappe Ressourcen.   Das Kreuzfahrtschiff \"Zaandam\" mit vier Toten und mehreren Corona-Fällen an Bord sucht weiter verzweifelt einen Hafen. Im US-Bundesstaat Florida, wo das Schiff nach langer Irrfahrt einlaufen sollte, dürfen die Passagiere nun doch nicht an Land gehen.  Der Landkreis Broward County wollte heute beraten, ob das Schiff mit noch 1052 Menschen an Bord in den Hafen Port Everglades einlaufen darf. Es sollte morgen in Florida eintreffen, doch Gouverneur Ron DeSantis verweigerte ihm bisher das Anlegen.  Er verwies darauf, dass die Hospitäler in Florida wegen der Pandemie bereits zu stark beansprucht seien. Und weiter: \"Wir können es uns nicht leisten, dass Menschen, die nicht einmal Einwohner von Florida sind, in Südflorida abgeladen werden und wertvolle Ressourcen verbrauchen\", sagte er dem Fernsehsender Fox News. \\n  Auch das Schwesterschiff \"Rotterdam\" ist nach Florida unterwegs - ob es anlegen darf, ist ebenfalls unklar. Die \"Rotterdam\" übernahm von der \"Zaandam\" bereits knapp 1400 Menschen, die offenbar gesund sind. Auf der \"Zaandam\" verblieben demnach 450 Passagiere und 602 Besatzungsmitglieder, darunter 193 Passagiere mit grippeartige Symptomen. Acht Corona-Fälle sind auf dem Kreuzfahrtschiff inzwischen bestätigt. Auf beiden Schiffen befinden sich insgesamt mehr als 300 US-Bürger und etwa 80 Deutsche.  Der Präsident des Betreibers Holland-America Line, Orlando Ashford, appellierte in einem Zeitungsbeitrag an die Behörden, die Menschen von Bord zu lassen. Die vom Virus ausgelöste Krankheit Covid-19 stelle die Mitmenschlichkeit auf die Probe. Erste Passagiere seien schon gestorben. Er fürchte um das Leben weiterer. \"Diesen Menschen die Tür vor der Nase zuzuschlagen, wäre ein Verrat an unseren tiefsten menschlichen Werten\", schrieb Ashford. \\n  Die \"Zaandam\" war Anfang März von Buenos Aires nach San Antonio in Chile aufgebrochen. Von dort sollte sie weiter nach Fort Lauderdale in Florida fahren. Doch ab 15. März wurde ihr das Einlaufen in südamerikanische Häfen verweigert - noch bevor Passagiere erste grippeartige Symptome zeigten.  Mittlerweile sind Dutzende Menschen an Bord erkrankt, bei acht wurde das Virus Sars-CoV-2 nachgewisen. Vier Passagiere sind inzwischen gestorben, wie der Betreiber mitteilte. Die Todesursache sei aber noch nicht bekannt. Die übrigen Menschen auf dem Kreuzfahrtschiff seien zwar gesund, dürften ihre Kabinen aber nicht verlassen.  Vergangene Woche hatte das Schiff Panama erreicht. Die Behörden dort erklärten, mindestens zwei der Todesfälle gingen auf das Virus zurück und ließen die \"Zaandam\" erst nach tagelangen Verhandlungen durch den Panamakanal in den Atlantik fahren.  Die Passagiere mussten das Licht löschen und die Vorhänge zuziehen. Kanalverwalter Ricaurte Vásquez sprach von einer humanitären Entscheidung. Die Passagiere beklagten das emotionale Auf und Ab der vergangen 15 Tage. \"Wir dürfen unsere Räume nicht verlassen, haben seit Tagen keine frische Luft gehabt\", sagte Laura Gabaroni aus Orlando.  Auch Bundesaußenminister Heiko Maas ist inzwischen mit dem Drama befasst. Er hatte gestern die Hoffnung geäußert, dass die beiden Schiffe bald in den Hafen von Fort Lauderdale einlaufen und die Passagiere von dort ausgeflogen werden können. \"Wir arbeiten daran, aber ich kann noch keine Entwarnung geben\", sagte der SPD-Politiker der \"Bild\"-Zeitung. \\n', 'Auch in den ländlichen Gebieten der USA breitet sich das Coronavirus immer weiter aus. Doch die Gesundheitsversorgung ist dort schon zu normalen Zeiten ein Problem.   Karen Kinsell sitzt am Laptop in ihrem Arbeitszimmer zuhause in Fort Gaines, einer Kleinstadt im Südwesten von Georgia. Die Mittsechzigerin ist die einzige Ärztin im gesamten Landkreis mit gut 3000 Einwohnern. Doch wegen der Corona-Krise hat auch sie ihre Praxis jetzt geschlossen, berichtet die hemdsärmelige Frau mit den kurzen Haaren im Interview per Skype: \"Wir haben festgestellt, dass wir keinerlei Schutzausrüstung hatten und deshalb gar nicht erst versuchen sollten, Leute zu testen. Ich bin selber in der Hochrisiko-Gruppe. Und deshalb arbeiten wir jetzt seit vergangener Woche von zuhause.\"  \"Wir\", das sind Karen und ihre Sprechstundenhilfe. Und die Praxis: Das ist eine heruntergekommene, ehemalige Eisdiele mit undichtem Dach. Schon zu normalen Zeiten ist das Praktizieren hier eine Herausforderung.  Mehr als 40 Prozent der Bevölkerung in Clay County leben unter der Armutsgrenze. Ein Drittel von Karens Patienten hat gar keine Krankenversicherung. Sie bezahlen ihr -- wenn sie können -- zehn Dollar pro Besuch. \"Seit dem Wochenende melden sich immer mehr Menschen mit offensichtlichen Covid-Symptomen. Und auch heute habe ich den ganzen Vormittag mit Patienten mit möglichen Anzeichen telefoniert\", sagt sie. \\n  Viel tun könne sie ohnehin nicht für ihre Patienten - außer täglich wenigstens telefonisch Kontakt zu halten. \"Oft geht es Leuten ja in der zweiten Woche schlechter. Und deshalb ist es mir wichtig, in Verbindung zu bleiben, damit sie nicht denken: \\'Ach, ist schon okay\\', auch wenn sie eigentlich was unternehmen müssten, weil sich ihr Zustand verschlimmert.\"  Das nächste große Krankenhaus mit Beatmungsgeräten ist rund 90 Kilometer entfernt und schon jetzt mit Corona-Fällen überlastet. In der etwas näher gelegenen Landklinik ist einer der beiden Ärzte selbst schon erkrankt.  Wie viele Infizierte es in Clay County sind, das weiß auch Karen nicht. Denn getestet wird in Georgia momentan erst, wenn die Symptome so schwer sind, dass die Patienten ins Krankenhaus müssen. \"Keine Ahnung, wie viele es wirklich sind. Aber sicher viel mehr, als wir erst dachten. Unser County will jetzt noch mal die Verhaltensregeln verschärfen, um die Verbreitung zu verlangsamen. Aber ich glaube, dafür ist es längst zu spät.\"  Die Corona-Krise verdeutlicht, was Karen aus jahrelanger Erfahrung als Landärztin längst weiß: Das Gesundheitssystem in den USA ist zwar mit Abstand das teuerste der Welt, aber die Versorgung ist für viele Amerikaner schlecht. Die Lebenserwartung niedriger, die Geburten- und Müttersterblichkeit höher als in den übrigen Industrienationen. \"Wir geben pro Kopf doppelt so viel für Gesundheit aus wie alle anderen Länder. Aber warum ist es dann so beschissen? Die Ergebnisse sind beschissen, der Zugang zu Versorgung ist für viele Leute furchtbar. Es gibt eigentlich keinen Grund, warum wir so rückständig sind. Aber wir sind es.\"  Ironischerweise könnten viele ihrer Patienten wirtschaftlich kurzfristig von der Krise sogar profitieren, erklärt Karen. Weil sie vom Staat vorübergehend mehr finanzielle Unterstützung bekommen werden. Doch insgesamt ist die Ärztin über den Umgang mit der Pandemie entsetzt. \"Wir sollen doch eigentlich die schlauen, reichen Leute sein. Ist schon erstaunlich. Allein wenn man sieht, wie wenig Schutzkleidung es gibt. Schockierend, dass unser Land so elend unvorbereitet ist.\" Karen jedenfalls hat ihre persönlichen Konsequenzen aus der Krise gezogen. Am Samstag wird sie 65 Jahr alt. Und obwohl sie das bislang nicht für nötig hielt, hat sie sich jetzt schnell selbst bei der staatlichen Krankenversicherung für Senioren angemeldet.', 'In der Corona-Krise erreichen die Bundeswehr viele Anfragen: nach Hilfsflügen, nach Material. Doch ihre Möglichkeiten sind begrenzt, und die Hürden für einen Einsatz im Innern bleiben hoch.  Öfter als ihr lieb ist, muss die Truppe auch mal \"Nein\" sagen: Etwa 250 Anträge auf Amtshilfe sind bislang bei der Bundeswehr, Stand heute früh, eingegangen. Am häufigsten nachgefragt werden von Seiten der Bundesländer Ärzte, Pflegekräfte und medizinische Ausrüstung, von der Brille über den Kittel bis hin zum Mundschutz.  \"Bei allem, was möglich ist, wollen wir auch helfen\", erklärte vor wenigen Tagen Verteidigungsministerin Annegret Kramp-Karrenbauer. Doch häufig müssten gerade solche Anfragen abgelehnt werden, heißt es von Seiten der Bundeswehr auf Nachfrage des ARD-Hauptstadtstudios.  Schließlich werden, gerade jetzt, Personal und Material in den fünf Bundeswehr-Kliniken dringend benötigt. Und auch die Auslandseinsätze sollen darunter nicht leiden. Nicht \"Nein\" sagte die Truppe, als die ungleich schwerer betroffenen EU-Staaten Italien und Frankreich fragten, ob Deutschland womöglich Corona-Intensivpatienten ausfliegen könne.  \"Das ist ein wichtiger und sichtbarer Teil europäischer Solidarität\", lobte Regierungssprecher Steffen Seibert. Aber auch im eigenen Land dürften die Anforderungen an die Bundeswehr noch steigen: Über 7500 Lkw verfügt die Truppe, nebst Fahrern. Beim Transport könnte sie ebenso gefragt sein wie bei der großflächigen Desinfektion oder dem Verteilen von Hilfsgütern.  \"Wir waren tätig in Sachsen an der polnischen Grenze, als es da 60 Kilometer Stau gab, um die Autofahrer zu versorgen,\" rief Verteidigungsministerin Kramp-Karrenbauer nochmal in Erinnerung.  Auch wenn die Verköstigung von Pkw- und Lkw-Insassen eher die Ausnahme bleiben dürfte,  Hilfseinsätze wie diese würde kaum jemand in Frage stellen. Strittiger wird es, wenn darüber nachgedacht wird, ob man Soldaten im Notfall auch Polizeiaufgaben übertragen könnte. Der Parteivorsitzende der Linken, Bernd Riexinger, warnt:  \"Aus guten Gründen, das hat sehr viel mit unserer Geschichte zu tun, gibt es im Grundgesetz eine klare Trennung zwischen Polizeiaufgaben und Aufgaben der Bundeswehr. Die Bundeswehr darf im Innern nicht eingesetzt werden und das sollten wir auch beibehalten.\"  Überlegungen in diese Richtung gab es hierzulande bereits, als Europa 2016/2017 von zahlreichen Terroranschlägen erschüttert wurde. Und es gibt sie auch jetzt in der Corona-Krise, etwa im Innenministerium Baden-Württembergs. \\n  Doch dass Soldaten schon bald sensible Einrichtungen schützen, Elektrizitäts-, Wasser- oder Atomkraftwerke, ist eher unwahrscheinlich. Sowohl Ministerin Kramp-Karrenbauer als auch der Generalinspekteur der Bundeswehr, Eberhard Zorn, äußern sich zur Frage, ob Soldaten sich zeitweise als Hilfspolizisten betätigen könnten, sehr zurückhaltend. Zorn sagte:  \"Es braucht sich keiner Sorgen machen, dass die Bundeswehr Corona-Partys auflöst oder Ausgangsbeschränkungen überwacht.\" In der Tat sorgt das Grundgesetz dafür, dass ein Einsatz der Bundeswehr im Inland nur in sehr engen Grenzen möglich wäre.  \"Bei einer Naturkatastrophe oder bei einem besonders schweren Unglücksfall\", heißt es in dem dafür entscheidenden Artikel 35, Absatz 2, könne ein Land Streitkräfte anfordern. Es muss dann allerdings nachgewiesen sein, dass die Polizei absolut außer Stande ist, die Aufgaben selbst zu übernehmen.  Außerdem müsste ein solcher Einsatz dann wohl auch unter polizeilicher Oberaufsicht stattfinden. Insofern hält man bei der es bei der Bundeswehr derzeit auch für extrem unwahrscheinlich, dass so ein Szenario in Deutschland eintritt.  Ebenfalls für unwahrscheinlich hält man es, dass Soldaten in den kommenden Wochen fehlende Erntehelfer in der Landwirtschaft ersetzen könnten. Auch darüber war bereits spekuliert worden.', 'Die Bundesligavertreter der 1. und 2. Liga haben in einer Videokonferenz beschlossen, mindestens bis zum 30. April zu pausieren. Danach soll es mit Geisterspielen weitergehen.  Die Klubs beider Ligen sind der Empfehlung der Deutschen Fußball Liga (DFL) gefolgt, dass der Spielbetrieb bis 30. April ausgesetzt bleibt. Bis zum 5. April wird vorläufig auch der Mannschafts-Trainingsbetrieb weiter eingestellt. Ob der Spielbetrieb im Mai fortgesetzt werden kann, ist allerdings offen.  \"Mindestens bis zum Ende der Saison ist es unrealistisch, davon auszugehen, dass wir nochmal vor vollen Stadien spielen\", sagte DFL-Geschäftsführer Christian\\xa0Seifert. \"Was nicht heißt, dass es realistisch ist, dass wir im August vor vollen Stadien wieder anfangen.\"  Über mögliche Auf- und Abstiegsregelungen wurden ebenso noch keine Entscheidungen getroffen wie über künftige Ligenstärken. \"Die Ligen standen noch nie enger zusammen als derzeit\", sagte Seifert: \"Wir wollen den Profifußball irgendwie durch diese Phase bringen. Auch hier wird es einen Neustart geben, und dafür wird es Pläne benötigen.\" Seifert sprach dabei von flexiblen, strategischen Ideen.  Die Klubs halten jedenfalls an ihrem Ziel fest, die Spielzeit bis zum 30. Juni zu Ende zu bringen. Unter bestimmten Bedingungen sei eine Verlängerung in den Juli möglich.  Darüber hinaus kündigte die DFL die Bildung einer medizinischen Taskforce an, die in Zusammenarbeit mit dem medizinischen Personal der Klubs einen verbindlichen medizinischen Leitfaden verfasst. Diesem Leitfaden entsprechend wird entschieden, wie und wann wieder auf professionellem Niveau Fußball gespielt werden kann.  Außerdem gab Seifert bekannt, dass das Lizenzierungsverfahren in den kommenden Monaten angepasst und für die Vereine erleichtert wird. Seifert berichtete davon, dass die Selbstauskünfte der Vereine ergeben hätten, dass manche Vereine bei ausbleibenden Einnahmen bis spätestens Juni existenzielle Probleme bekommen würden.  Man versuche daher so schnell wie möglich, \"Geisterspiele\" auszurichten und die Ligen so zu Ende zu führen. Außerdem werde für die laufende Spielzeit der Abzug von neun Punkten als Sanktion für die Eröffnung eines Insolvenzverfahrens ausgesetzt. Im Fall einer Insolvenz in der kommenden Saison würden drei Punkte abgezogen. Und schließlich werde im anstehenden Lizenzierungsverfahren für die Spielzeit 2020/21 auf die Überprüfung der Liquiditätssituation der Klubs verzichtet.  Angesichts der massiven Einschränkungen rechnet die DFL auch für die kommende Saison mit Spielplanänderungen und schließt auch Europapokalspiele am Wochenende offenbar nicht mehr aus. Für die kommende Spielzeit sei unter den Ligen und internationalen Verbänden \"große Flexibilität und Entgegenkommen\" gefordert. Jeder müsse \"die eine oder andere Kröte schlucken\", meinte Seifert. \"Eine geregelte Saison wird es erst wieder 2021/22 geben\".']\n"
     ]
    }
   ],
   "source": [
    "print(corona_articles)"
   ]
  },
  {
   "cell_type": "code",
   "execution_count": 39,
   "metadata": {},
   "outputs": [
    {
     "data": {
      "text/plain": [
       "14"
      ]
     },
     "execution_count": 39,
     "metadata": {},
     "output_type": "execute_result"
    }
   ],
   "source": [
    "len(corona_articles)"
   ]
  },
  {
   "cell_type": "markdown",
   "metadata": {},
   "source": [
    "### Make into CSV file"
   ]
  },
  {
   "cell_type": "code",
   "execution_count": 40,
   "metadata": {},
   "outputs": [],
   "source": [
    "columns = [\"date\", \"url\", \"article\", \"resort\"]\n",
    "df = pd.DataFrame(columns=columns)\n",
    "df[\"url\"] = corona_links\n",
    "df[\"article\"] = corona_articles\n",
    "df[\"date\"] = todays_date\n",
    "df[\"resort\"] = df[\"url\"].apply(lambda x: x.split(\"/\")[1])"
   ]
  },
  {
   "cell_type": "code",
   "execution_count": 41,
   "metadata": {},
   "outputs": [
    {
     "data": {
      "text/html": [
       "<div>\n",
       "<style scoped>\n",
       "    .dataframe tbody tr th:only-of-type {\n",
       "        vertical-align: middle;\n",
       "    }\n",
       "\n",
       "    .dataframe tbody tr th {\n",
       "        vertical-align: top;\n",
       "    }\n",
       "\n",
       "    .dataframe thead th {\n",
       "        text-align: right;\n",
       "    }\n",
       "</style>\n",
       "<table border=\"1\" class=\"dataframe\">\n",
       "  <thead>\n",
       "    <tr style=\"text-align: right;\">\n",
       "      <th></th>\n",
       "      <th>date</th>\n",
       "      <th>url</th>\n",
       "      <th>article</th>\n",
       "      <th>resort</th>\n",
       "    </tr>\n",
       "  </thead>\n",
       "  <tbody>\n",
       "    <tr>\n",
       "      <th>0</th>\n",
       "      <td>2020-03-31 18:17:41.398236</td>\n",
       "      <td>/faktenfinder/corona-suedkorea-111.html</td>\n",
       "      <td>Auf der Suche nach Maßnahmen gegen die Ausbrei...</td>\n",
       "      <td>faktenfinder</td>\n",
       "    </tr>\n",
       "    <tr>\n",
       "      <th>1</th>\n",
       "      <td>2020-03-31 18:17:41.398236</td>\n",
       "      <td>/ausland/taiwan-corona-101.html</td>\n",
       "      <td>In Taiwan gibt es laut Statistik nur etwa 300 ...</td>\n",
       "      <td>ausland</td>\n",
       "    </tr>\n",
       "    <tr>\n",
       "      <th>2</th>\n",
       "      <td>2020-03-31 18:17:41.398236</td>\n",
       "      <td>/ausland/china-corona-fallzahlen-kommission-10...</td>\n",
       "      <td>Chinas Coronavirus-Statistiken fallen ungewöhn...</td>\n",
       "      <td>ausland</td>\n",
       "    </tr>\n",
       "    <tr>\n",
       "      <th>3</th>\n",
       "      <td>2020-03-31 18:17:41.398236</td>\n",
       "      <td>/ausland/trump-analyse-105.html</td>\n",
       "      <td>Lange hat US-Präsident Trump die Corona-Krise ...</td>\n",
       "      <td>ausland</td>\n",
       "    </tr>\n",
       "    <tr>\n",
       "      <th>4</th>\n",
       "      <td>2020-03-31 18:17:41.398236</td>\n",
       "      <td>/inland/corona-entwicklung-interview-101.html</td>\n",
       "      <td>Die aktuellen Maßnahmen verschaffen uns Zeit z...</td>\n",
       "      <td>inland</td>\n",
       "    </tr>\n",
       "  </tbody>\n",
       "</table>\n",
       "</div>"
      ],
      "text/plain": [
       "                        date  \\\n",
       "0 2020-03-31 18:17:41.398236   \n",
       "1 2020-03-31 18:17:41.398236   \n",
       "2 2020-03-31 18:17:41.398236   \n",
       "3 2020-03-31 18:17:41.398236   \n",
       "4 2020-03-31 18:17:41.398236   \n",
       "\n",
       "                                                 url  \\\n",
       "0            /faktenfinder/corona-suedkorea-111.html   \n",
       "1                    /ausland/taiwan-corona-101.html   \n",
       "2  /ausland/china-corona-fallzahlen-kommission-10...   \n",
       "3                    /ausland/trump-analyse-105.html   \n",
       "4      /inland/corona-entwicklung-interview-101.html   \n",
       "\n",
       "                                             article        resort  \n",
       "0  Auf der Suche nach Maßnahmen gegen die Ausbrei...  faktenfinder  \n",
       "1  In Taiwan gibt es laut Statistik nur etwa 300 ...       ausland  \n",
       "2  Chinas Coronavirus-Statistiken fallen ungewöhn...       ausland  \n",
       "3  Lange hat US-Präsident Trump die Corona-Krise ...       ausland  \n",
       "4  Die aktuellen Maßnahmen verschaffen uns Zeit z...        inland  "
      ]
     },
     "execution_count": 41,
     "metadata": {},
     "output_type": "execute_result"
    }
   ],
   "source": [
    "df.head()"
   ]
  },
  {
   "cell_type": "markdown",
   "metadata": {},
   "source": [
    "### Export CSV"
   ]
  },
  {
   "cell_type": "code",
   "execution_count": 42,
   "metadata": {},
   "outputs": [],
   "source": [
    "df.to_csv(\"data/\" + date_stamp)"
   ]
  }
 ],
 "metadata": {
  "kernelspec": {
   "display_name": "Python 3",
   "language": "python",
   "name": "python3"
  },
  "language_info": {
   "codemirror_mode": {
    "name": "ipython",
    "version": 3
   },
   "file_extension": ".py",
   "mimetype": "text/x-python",
   "name": "python",
   "nbconvert_exporter": "python",
   "pygments_lexer": "ipython3",
   "version": "3.6.5"
  }
 },
 "nbformat": 4,
 "nbformat_minor": 2
}
