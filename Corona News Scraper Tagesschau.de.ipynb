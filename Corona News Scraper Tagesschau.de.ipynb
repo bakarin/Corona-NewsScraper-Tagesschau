{
 "cells": [
  {
   "cell_type": "markdown",
   "metadata": {},
   "source": [
    "## Corona-News Scraper from Tagesschau.de"
   ]
  },
  {
   "cell_type": "code",
   "execution_count": 14,
   "metadata": {},
   "outputs": [],
   "source": [
    "import re\n",
    "import requests\n",
    "from bs4 import BeautifulSoup\n",
    "\n",
    "import datetime\n",
    "import pandas as pd"
   ]
  },
  {
   "cell_type": "code",
   "execution_count": 15,
   "metadata": {},
   "outputs": [],
   "source": [
    "todays_date = datetime.datetime.now()\n",
    "date_stamp = str(todays_date.date())"
   ]
  },
  {
   "cell_type": "code",
   "execution_count": 16,
   "metadata": {},
   "outputs": [],
   "source": [
    "r = requests.get('https://www.tagesschau.de/')\n",
    "soup = BeautifulSoup(r.text, \"html5lib\")\n"
   ]
  },
  {
   "cell_type": "markdown",
   "metadata": {},
   "source": [
    "### Parse Tagesschau.de homepage for new articles"
   ]
  },
  {
   "cell_type": "code",
   "execution_count": 17,
   "metadata": {},
   "outputs": [],
   "source": [
    "headlines = []\n",
    "dachzeilen = []\n",
    "teasers = []\n",
    "links = []\n",
    "texts = []\n",
    "a = soup.find_all('a')\n",
    "for item in a:\n",
    "    if item.find('p', class_='dachzeile'):\n",
    "        links.append(item.get('href'))\n",
    "        texts.append(item.get_text())"
   ]
  },
  {
   "cell_type": "code",
   "execution_count": 18,
   "metadata": {},
   "outputs": [
    {
     "name": "stdout",
     "output_type": "stream",
     "text": [
      "\n",
      "IW-Chef zu Corona-Krise\n",
      "\"Corona-Bonds sind kein Dauerinstrument\"\n",
      "Die Corona-Krise und ihre wirtschaftlichen Folgen werden unfassbar teuer. Schwer betroffene EU-Länder wie Italien fordern Solidarität - etwa in Form von Corona-Bonds. Auch IW-Chef Hüther sprach sich in den tagesthemen klar dafür aus.\n",
      "| mehr\n",
      "\n",
      "\n",
      "/wirtschaft/corona-bonds-101.html\n"
     ]
    }
   ],
   "source": [
    "# check the first text / link\n",
    "print(texts[0])\n",
    "\n",
    "print(links[0])\n"
   ]
  },
  {
   "cell_type": "markdown",
   "metadata": {},
   "source": [
    "### Check which articles on the homepage are about the Corona virus"
   ]
  },
  {
   "cell_type": "code",
   "execution_count": 19,
   "metadata": {},
   "outputs": [],
   "source": [
    "# corona, covid19, coronavirus\n",
    "corona_links = []\n",
    "corona_texts = []\n",
    "for i in range(len(texts)):\n",
    "    if (\"corona\" in texts[i].lower()) | (\"covid\" in texts[i].lower()):\n",
    "        if links[i].startswith(\"/\"):\n",
    "            corona_links.append(links[i])\n",
    "            corona_texts.append(texts[i])"
   ]
  },
  {
   "cell_type": "code",
   "execution_count": 20,
   "metadata": {},
   "outputs": [
    {
     "name": "stdout",
     "output_type": "stream",
     "text": [
      "['/wirtschaft/corona-bonds-101.html', '/inland/corona-245.html', '/wirtschaft/corona-konjunkturprogramme-101.html', '/inland/corona-bundesregierung-103.html', '/wirtschaft/corona-gutscheine-101.html', '/newsticker/liveblog-corona-sonntag-105.html', '/ausland/coronavirus-spanien-107.html', '/ausland/corona-grossbritannien-starmer-101.html', '/ausland/coronavirus-grossbritannien-103.html', '/ausland/corona-fluechtlingslager-101.html', '/inland/bab-helden-101.html', '/ausland/coronavirus-karten-101.html', '/faktenfinder/faktenchecks-corona-101.html', '/ausland/corona-papst-franziskus-101.html', '/ausland/corona-ramadan-101.html']\n",
      "\n",
      "['\\nIW-Chef zu Corona-Krise\\n\"Corona-Bonds sind kein Dauerinstrument\"\\nDie Corona-Krise und ihre wirtschaftlichen Folgen werden unfassbar teuer. Schwer betroffene EU-Länder wie Italien fordern Solidarität - etwa in Form von Corona-Bonds. Auch IW-Chef Hüther sprach sich in den tagesthemen klar dafür aus.\\n|\\xa0mehr\\n\\n', '\\nForderungen der FDP\\nSteuern senken, Kontaktsperre lockern\\nFDP-Chef Lindner will die wirtschaftlichen Corona-Folgen vor allem mit Steuersenkungen in den Griff bekommen. Zudem fordert er, im April oder Mai die Kontaktsperre zu lockern. Andere Politiker halten solche Festlegungen für unseriös.\\n|\\xa0mehr\\n\\n', '\\nCorona und die Wirtschaft\\nViele Ideen für Wege aus der Krise\\nKonjunkturpakete, Steuersenkungen, ein neuer Marshall-Plan: Die Vorschläge, wie die Wirtschaft nach Corona deutschland- und europaweit wieder auf Vordermann gebracht werden kann, sind vielfältig.\\n|\\xa0mehr\\n\\n', '\\nCorona-Krise in Deutschland\\nBraun rechnet mit Verschlechterung\\nNach Ansicht der Regierung steht Deutschland der schwierigste Teil der Corona-Krise noch bevor. Das Wichtigste sei die Gesundheit der Bevölkerung, so Kanzleramtsminister Braun. Dahinter stehe auch die Wirtschaft zurück.\\n|\\xa0mehr\\n\\n', '\\nGeplante Gutscheinregelung\\nBund will notfalls einspringen\\nGutscheine statt Geld zurück - diese Devise hat die Bundesregierung bei Corona-bedingt abgesagten Veranstaltungen ausgegeben. Doch die Regelung stößt auf Kritik. Deshalb will der Bund nun im Streitfall haften.\\n|\\xa0mehr\\n\\n', '\\nLiveblog zum Coronavirus\\n++ Mehrheit hält sich an Corona-Regeln ++\\nDas schöne Wetter lockt viele Menschen ins Freie - die große Mehrheit hält sich dabei an die Kontaktbeschränkungen. IW-Chef Hüther plädiert für Corona-Bonds. Weltweit gibt es inzwischen mehr als 65.000 Corona-Tote. Die Entwicklungen im Liveblog.\\n|\\xa0mehr\\n\\n', '\\nCorona-Pandemie\\nPositiver Trend in Spanien setzt sich fort\\nSeit Wochen gelten in Spanien strenge Ausgangssperren. Die einschneidenden Maßnahmen zeigen offenbar Wirkung: Die Zahl der Neuinfektionen und der Toten geht zurück - allerdings auf hohem Niveau.\\n|\\xa0mehr\\n\\n', '\\nStarmer zur Corona-Krise\\n\"Es sind schwere Fehler gemacht worden\"\\nEr ist seit gestern Chef der britischen Labour-Partei. Die erste Amtshandlung Starmers: massive Kritik an Premier Johnson für dessen Agieren in der Corona-Krise. Die jüngsten Zahlen bleiben alarmierend.\\n|\\xa0mehr\\n\\n', '\\nElizabeth II. zur Corona-Krise\\n\"Bruch im Leben unseres Landes\"\\nAngesichts vieler Corona-Toter wendet sich die britische Königin Elizabeth II. an ihr Volk. In einer Fernsehansprache beschwört sie britische Werte, fordert eiserne Disziplin und lobt das Gesundheitssystem.\\n|\\xa0mehr\\n\\n', '\\nCorona in Griechenland\\nZweites Flüchtlingslager abgeriegelt\\nWovor seit längerem gewarnt wurde, tritt nun ein: Das Coronavirus breitet sich in griechischen Flüchtlingslagern aus. Die Angst ist groß, dass es auch die überfüllten Lager auf den Inseln treffen könnte.  |\\xa0mehr\\n', '\\nSystemrelevante Berufe\\nWelchen Wert haben Helden?\\nIn der Corona-Krise wächst das Bewusstsein, wie wichtig die Arbeit von Altenpflegerinnen, Lkw-Fahrern und Kassiererinnen ist. In der Politik werden Forderungen nach Sonderzahlungen laut. Aber reicht das? Von Jan Liebold.\\n|\\xa0mehr\\n\\n', '\\nKarten mit Fallzahlen\\nWo sich das Coronavirus ausbreitet\\nWie viele bestätigte Coronavirus-Fälle gibt es derzeit? Die Coronavirus-Karten von tagesschau.de geben einen aktuellen, interaktiven Überblick für Deutschland und die Welt.\\n|\\xa0mehr\\n\\n', '\\nARD-faktenfinder\\nFaktenchecks zur Corona-Pandemie\\nWerden Statistiken über Todeszahlen \"nach oben gejubelt\"? Ist eine Studie über die Dunkelziffer der Infizierten bereits fertig? Der ARD-faktenfinder klärt über Falschmeldungen, Gerüchte und vermeintliche Wundermittel gegen Covid-19 auf.\\n|\\xa0mehr\\n\\n', '\\nPapst zur Karwoche\\n\"Nicht das aufgeben, was zählt\"\\nDie Coronavirus-Pandemie überschattet auch die Karwoche. Der Papst beging den Palmsonntag mit wenigen Gläubigen im Petersdom. Normalerweise wird die Predigt auf dem Petersplatz mit einer Palmprozession gefeiert.  |\\xa0mehr\\n', '\\nCorona und der Islam\\nKein Ramadan während der Pandemie?\\nIn gut einem Monat beginnt der Ramadan, die heilige Fastenzeit der Muslime. Doch geht das überhaupt, fasten während einer Pandemie? Viele hohe Geistliche im Islam halten sich streng an die Vorgaben der WHO. Von Björn Blaschke.  |\\xa0mehr\\n']\n"
     ]
    }
   ],
   "source": [
    "print(corona_links)\n",
    "print(\"\")\n",
    "print(corona_texts)"
   ]
  },
  {
   "cell_type": "markdown",
   "metadata": {},
   "source": [
    "### Get full article for each news about corona virus"
   ]
  },
  {
   "cell_type": "code",
   "execution_count": 21,
   "metadata": {},
   "outputs": [
    {
     "name": "stdout",
     "output_type": "stream",
     "text": [
      "https://www.tagesschau.de/wirtschaft/corona-bonds-101.html\n",
      "https://www.tagesschau.de/inland/corona-245.html\n",
      "https://www.tagesschau.de/wirtschaft/corona-konjunkturprogramme-101.html\n",
      "https://www.tagesschau.de/inland/corona-bundesregierung-103.html\n",
      "https://www.tagesschau.de/wirtschaft/corona-gutscheine-101.html\n",
      "https://www.tagesschau.de/newsticker/liveblog-corona-sonntag-105.html\n",
      "https://www.tagesschau.de/ausland/coronavirus-spanien-107.html\n",
      "https://www.tagesschau.de/ausland/corona-grossbritannien-starmer-101.html\n",
      "https://www.tagesschau.de/ausland/coronavirus-grossbritannien-103.html\n",
      "https://www.tagesschau.de/ausland/corona-fluechtlingslager-101.html\n",
      "https://www.tagesschau.de/inland/bab-helden-101.html\n",
      "https://www.tagesschau.de/ausland/coronavirus-karten-101.html\n",
      "https://www.tagesschau.de/faktenfinder/faktenchecks-corona-101.html\n",
      "https://www.tagesschau.de/ausland/corona-papst-franziskus-101.html\n",
      "https://www.tagesschau.de/ausland/corona-ramadan-101.html\n"
     ]
    }
   ],
   "source": [
    "corona_articles = []\n",
    "for link in corona_links:\n",
    "    full_link = \"https://www.tagesschau.de\" + link\n",
    "    print(full_link)\n",
    "    html = urlopen(full_link)\n",
    "    sub_soup = BeautifulSoup(html, \"html5lib\")\n",
    "    article = sub_soup.find_all('p', class_='text small')\n",
    "    paragraphs = []\n",
    "    for i in range(len(article)):\n",
    "        paragraphs.append(article[i].get_text())\n",
    "    # unifying the paragraphs\n",
    "    final_article = \" \".join(paragraphs)\n",
    "    corona_articles.append(final_article)\n",
    "    "
   ]
  },
  {
   "cell_type": "code",
   "execution_count": 22,
   "metadata": {},
   "outputs": [
    {
     "name": "stdout",
     "output_type": "stream",
     "text": [
      "['Die Corona-Krise und ihre wirtschaftlichen Folgen werden unfassbar teuer. Schwer betroffene EU-Länder wie Italien fordern Solidarität - etwa in Form von Corona-Bonds. Auch IW-Chef Hüther sprach sich in den tagesthemen klar dafür aus.  Im Kampf gegen die wirtschaftlichen Folgen der Corona-Pandemie herrscht derzeit Streit in der EU. So verlangen unter anderem die schwer betroffenen Länder Italien und Spanien gemeinsame Anleihen der EU-Mitglieder zur Finanzierung der EU-Staaten - sogenannte Corona-Bonds. Damit könnten auch bereits hoch verschuldete Länder wie eben Italien Geld zu günstigeren Konditionen einsammeln, weil wirtschaftlich stärkere Staaten wie Deutschland ebenfalls für Zinsen und Rückzahlung haften. Nichts da, sagt dazu die Bundesregierung. Sie treibt die Sorge um, dass Deutschland damit praktisch für die Schulden anderer Länder mit haftet und daraus ein Dauerinstrument wird. Auch Österreich oder die Niederlande sind strikt dagegen. \\n  Unterstützung erhalten die Bonds-Befürworter von führenden Wirtschaftsexperten. In den tagesthemen bekräftigte der Direktor des arbeitgebernahen Instituts der deutschen Wirtschaft, Michael Hüther, seine Pro-Position. Corona-Bonds könnten \"europäische Solidarität\" organisieren. \"Wir können über eine gemeinschaftliche Haftung sehr niedrige Kosten möglich machen und wir können ein großes Volumen bewegen.\" Man sollte sich einmal darauf einlassen - \"es ist keine Dauerveranstaltung\", unterstrich Hüther.  Das Instrument der Corona-Bonds löse mehrere Probleme: Es mache Mittel verfügbar für die Länder, die besonders betroffen sind, es zeige Solidarität und Europa habe eine bessere Zukunft. Es sei im ureigenen Interesse Deutschlands, diese Solidarität zu leben.  Das Volumen der Corona-Bonds müsse glaubwürdig sein: \"Es geht nicht um 100 Milliarden, sondern schon um 1000 Milliarden.\" Das höre sich jetzt gewaltig an, aber man müsse bedenken, dass die Europäische Zentralbank 750 Milliarden allein für die Beruhigung der Staatsanleihen-Märkte vorsehe.  Hüther erinnerte, dass es hier nicht nicht um eine neue Finanzarchitektur auf Dauer gehe, sondern um ein einmaliges Kriseninstrument. \"Wir haben jetzt eine ganz besondere Situation.\" Keiner sei für diesen Corona-Schock verantwortlich. \"Und wir haben unterschiedliche Betroffenheiten in der Eurozone.\" Corona-Bonds seien keine Euro-Bonds, sagte Hüther mit Blick auf die Diskussion in der Euro-Schuldenkrise vor zehn Jahren. Damals war von Euro-Bonds die Rede. Eingeführt wurden diese jedoch nicht, weil es schon damals große Widerstände gab: Wirtschaftlich starke Länder fürchteten, über Jahre für die Schulden bereits hoch verschuldeter Staaten wie Griechenland oder Italien mithaften zu müssen. Stattdessen wurde der Euro-Rettungsschirm ESM gegründet. \\n  Der ESM könnte doch auch jetzt in der Corona-Krise helfen, meint die Bundesregierung. Hüther widerspricht: \"Der ESM hat eine andere Funktion. Er ist aus der Finanzkrise entstanden und soll Banken stabilisieren. Doch Italien ist nicht Griechenland vor fünf Jahren.\" Zudem sei der ESM stigmatisierend für die Länder, die Gelder bekommen. Und er ist dafür nicht gedacht.\" \\n  Corona-Bonds oder ESM oder ganz anders - wie die EU-Finanzhilfen konkret aussehen könnten, ist Thema der Beratungen der Finanzminister am Dienstag. Mit Blick auf das Treffen erhöhten zwei EU-Kommissare nochmal den Druck. Der französische Binnenmarktkommissar Thierry Breton und der italienische Wirtschaftskommissar Paolo Gentiloni forderten die Mitgliedstaaten in einem Gastbeitrag für die \"Frankfurter Allgemeine Zeitung\" auf, einen steuerfinanzierten Fonds für langfristige Anleihen aufzulegen. Der Fonds, der die sogenannten Corona-Bonds ausgeben würde, soll demnach ausschließlich für den wirtschaftlichen Aufbau nach der Krise genutzt werden.\\xa0  EU-Kommissionspräsidentin Ursula von der Leyen hatte angesichts der Corona-Krise massive Investitionen in den EU-Haushalt gefordert. Dieser könnte für eine Art \"Marshall-Plan für Europa\" genutzt werden, schrieb sie in einem Gastbeitrag für die \"Welt am Sonntag\". Breton und Gentiloni erklärten, ihr Vorstoß sei als Ergänzung der Idee von der Leyens gedacht. Angesichts der Summen, um die es gehe, brauche die EU neben den Mitteln des Eurokrisenfonds ESM, der Europäischen Investitionsbank und der EU-Kurzarbeitsinitiative eine vierte Säule. \"Die Zeit ist knapp. Wir müssen kreativ sein\", schrieben die Kommissare.\\xa0 \\n', 'FDP-Chef Lindner will die wirtschaftlichen Corona-Folgen vor allem mit Steuersenkungen in den Griff bekommen. Zudem fordert er, im April oder Mai die Kontaktsperre zu lockern. Andere Politiker halten solche Festlegungen für unseriös.  FDP-Chef Christian Lindner fordert als Konsequenz aus der Corona-Krise eine Senkung von Steuern und Sozialabgaben. \"Wir müssen ermöglichen, dass die Menschen wieder Privatvorsorge aufbauen können, die sie jetzt teils auflösen mussten\", sagte Lindner im Bericht aus Berlin. Und die Unternehmen müssten auch wieder Reserven bilden können. \"Deshalb halte ich es für richtig, dass wir die Steuern und Abgaben senken.\"  Nach Ansicht Lindners würden davon insbesondere auch die Menschen profitieren, die in den oft zitierten systemrelevanten Berufen wie der Krankenpflege arbeiteten. Gerade bei den kleinen und mittleren Einkommen sei der Anteil, den die Menschen an den Staat und die Sozialversicherungen abgeben müssen, \"überproportional groß\". \\n  Lindner liegt damit im Grundsatz auf einer Linie mit CSU-Chef Markus Söder. Auch der machte sich für Steuersenkungen stark, erntete aber prompt Widerspruch vom Koalitionspartner SPD.  \"Adam Riese war gebürtiger Bayer, von ihm könnte der bayerische Ministerpräsident lernen, dass man 156 Milliarden Euro zusätzlicher Kredite nicht abträgt, indem man die Staatseinnahmen senkt\", sagt SPD-Chef Norbert Walter-Borjans der \"Augsburger Allgemeinen\". Walter-Borjans war lange Finanzminister in Nordrhein-Westfalen. In dem Interview sagte er weiter: \"Markus Söder sollte lieber mit uns für mehr Investitionen und eine bessere Bezahlung der wahren Helden in der Corona-Krise eintreten.\"  Über eine bessere Bezahlung dieser Berufsgruppen zu reden - dafür zeigt sich auch FDP-Chef Lindner offen, nicht ohne das gleich wieder einzuschränken: \"Wir brauchen eine Debatte über eine gerechtere Entlohnung, aber auch eine Debatte über einen bescheideneren Staat\", so Lindner.  Erneut forderte er, bereits jetzt über eine Strategie nachzudenken, wie die Beschränkungen des öffentlichen Leben wieder aufgehoben werden können. \"Wir müssen im April oder Mai wieder erlauben, dass es gesellschaftliche Möglichkeiten gibt.\"  Mecklenburg-Vorpommerns Ministerpräsidentin Manuela Schwesig warnte davor,  jetzt über Lockerungsmaßnahmen zu spekulieren. Natürlich werde jetzt in der Politik schon drüber nachgedacht, nach welchen Kriterien die Maßnahmen gelockert werden könnten. \"Wann wir lockern können und in welchen Schritten\", könne zurzeit aber niemand seriös sagen, so die SPD-Politikerin im Bericht aus Berlin.  Sie appellierte erneut an die Menschen, sich auch über Ostern an die Beschränkungen zu halten, damit die Ausbreitung des Coronavirus eingedämmt werden kann. Die strengen Regeln würden sich positiv auswirken, da sei sie fest von überzeugt, so Schwesig.', 'Konjunkturpakete, Steuersenkungen, ein neuer Marshall-Plan: Die Vorschläge, wie die Wirtschaft nach Corona deutschland- und europaweit wieder auf Vordermann gebracht werden kann, sind vielfältig.  Mit Blick auf die erwarteten wirtschaftlichen Folgen der Corona-Krise mehren sich Forderungen nach umfangreichen Konjunkturprogrammen. In Deutschland macht sich Bundesfinanzminister Olaf Scholz von der SPD dafür ebenso stark wie der bayerische Ministerpräsident und CSU-Chef Markus Söder; auf europäischer Ebene fordert EU-Kommissionspräsidentin Ursula von der Leyen umfassende Maßnahmen. Auch die Diskussion über so genannte \"Corona-Bonds\" ist längst nicht beendet. \\n  Scholz will nach überwundener Krise ein Maßnahmenpaket auflegen, das sich an internationalen Klimazielen orientiert. Nach der akuten Phase der Pandemie ergebe \"ein Konjunkturpaket Sinn, um die Wirtschaft anzukurbeln\", sagte der Minister den Zeitungen der Funke-Mediengruppe. \"Wir wollen die technologische Modernisierung unseres Landes voranbringen und die Voraussetzungen dafür schaffen, dass wir 2050 klimaneutral wirtschaften können.\"  Welchen finanziellen Umfang ein solches Paket haben könnte, wollte Scholz zunächst nicht konkretisieren: \"Jetzt kommt es darauf an, dass wir nicht gegen die Krise ansparen\", so der SPD-Politiker. \"Daher halten wir das hohe Investitionsniveau aufrecht und sichern unseren starken Sozialstaat.\" Ausdrücklich betonte der Finanzminister: \"Wir werden die Grundrente zum 1. Januar 2021 einführen.\" \\n  Auch Bayerns Ministerpräsident Söder fordert ein groß angelegtes Konjukturprogramm und flächendeckene Steuersenkungen. Wenn die erste Phase mit Soforthilfen und Bürgschaften überstanden sei, müsse es ein Konjunkturprogramm in ähnlicher Größenordnung geben, sagte er der \"Bild am Sonntag\". Da er erwarte, dass die deutsche Exportwirtschaft länger unter der Corona-Krise leiden werde, müsse die Binnennachfrage stimuliert werden: \"Das heißt, keine Steuererhöhungen, sondern Steuersenkkungen.\" Der Solidaritätszuschlag müsse schneller und für alle Bürger abgeschafft werden. \"Darüber hinaus sollten wir die Einkommensteuer insgesamt absenken, damit möglichst viele Arbeitnehmer mehr Geld in der Tasche haben\", fordert Söder.  Der CSU-Chef nimmt zudem die Schlüsselindustrie des Landes in den Blick. Für die Automobilhersteller regt er ein eigenes Programm an, und zwar \"diesmal nicht mit einer Abwrack-, sondern mit einer Innovationsprämie.\" Der Staat solle den Kauf umweltfreundlicher Fahrzeuge massiv unterstützen. \"Damit sichern wir Arbeitsplätze, schützen das Klima und verbessern die Wettbewerbsfähigkeit unserer Automobilindustrie\", so Söder. Seine Hoffnung: \"Das kann uns nach Corona sogar nach vorn katapultieren.\" \\n  Auch auf europäischer Ebene wird seit längerem über Maßnahmen diskutiert, die die wirtschaftlichen Folgen der Corona-Krise abfedern sollen. EU-Kommissionspräsidentin von der Leyen schrieb in einem Gastbeitrag für die \"Welt am Sonntag\": \"Wir brauchen einen Marshall-Plan für Europa.\" Damit bezog sie sich abermals auf das milliardenschwere Hilfsprogramm der USA, mit dem Westeuropa nach dem Zweiten Weltkrieg wirtschaftlich wieder auf die Beine kam.  Nötig seien massive Investitionen der Mitgliedsstaaten in den EU-Haushalt. Dieser sei europaweit als Instrument des solidarischen Ausgleichs akzeptiert und müsse der Krise entsprechend zugeschnitten werden. Von der Leyen äußerte sich optimistisch, dass sich Europa wirtschaftlich erholen werde: \"Die vielen Milliarden, die heute investiert werden müssen, um eine größere Katastrophe abzuwenden, werden Generationen binden.\" So könne auch in der Krise das Gefühl der Gemeinschaft unter den Nationen Europas erneuert werden. \\n  Spaniens Ministerpräsident Pedro Sanchez untermauerte nochmals die Forderung nach der gemeinsamen Haftung für Schulden, die durch die Corona-Krise entstehen, und forderte von den EU-Partnern \"rigorose Solidatität\". Um in der Pandemie nicht als Gemeinschaft zu scheitern, müsse die EU \"eine Kriegswirtschaft auf die Beine stellen und die Gegenwehr, den Wiederaufbau und die wirtschaftliche Erholung Europas in die Wege leiten\", schreibt Sanchez in einem Beitrag für \"faz.net\": \"Und zwar so früh wie möglich mit Maßnahmen zur Stützung der Schulden, die wir in vielen Staaten aufnehmen.\" Auch der spanische Regierungschef sprach von einem \"neuen Marshall-Plan\", der nach der Pandemie für den Wiederaufbau nötig sei. Europa müsse solidarisch handeln und brauche mittelfristig einen \"neuen Mechanismus zur Vergemeinschaftung von Schulden\".  Derzeit schwelt zwischen den Mitgliedsstaaten ein Streit über die Frage, wie den besonders von der Corona-Pandemie betroffenen Staaten Italien, Spanien und Frankreich finanziell geholfen werden soll. Die drei Länder fordern eine gemeinsame Haftung für Schulden in Form von \"Corona-Bonds\", die vom Prinzip her funktionieren wie die in der Schuldenkrise diskutierten Euro-Bonds. Doch dies lehnen vor allem Deutschland, Österreich und die Niederlande strikt ab und setzen sich stattdessen für eine Umwidmung von Kreditlinien aus dem Europäischen Stabilitätsmechanismus, kurz: ESM, ein.', 'Nach Ansicht der Regierung steht Deutschland der schwierigste Teil der Corona-Krise noch bevor. Das Wichtigste sei die Gesundheit der Bevölkerung, so Kanzleramtsminister Braun. Dahinter stehe auch die Wirtschaft zurück.  In der Corona-Krise gibt es nach Einschätzung der Bundesregierung noch keine Entspannung. \"Die Zeit mit den höchsten Infektionszahlen liegt noch vor uns\", sagte Kanzleramtsminister Helge Braun der \"Frankfurter Allgemeinen Sonntagszeitung\". \"Unsere Aufgabe als Bundesregierung ist es, uns für unsere Bevölkerung auf den schwierigsten Teil dieser Krise vorzubereiten.\" \\n  Nach Ansicht Brauns ist der Maßstab für die Fortsetzung oder Lockerung der gegenwärtigen Maßnahmen zur Eindämmung der Pandemie, \"dass sich in gleichen Zeitabständen weniger Menschen infizieren\".  Vor Beginn der Einschränkungen habe es eine Verdoppelung alle drei Tage gegeben. Um das Gesundheitswesen nicht zu überfordern, müsse man Verdopplungszeiten von deutlich über zehn Tagen haben, wahrscheinlich sogar eher zwölf oder 14 Tage. \\n  Zugleich müsse man abwägen, \"wie schnell es uns gelingt, zusätzliche Krankenhaus- und Intensivbetten zu schaffen und die Kontaktnachverfolgung zu verbessern\", sagte Braun.  Anfangs habe die Bundesregierung erwartet, dass Patienten in Deutschland kürzer auf Intensivstationen liegen würden als in anderen Ländern und auf etwa zehn Tage gehofft. \"Jetzt fürchten wir, dass die Beatmungszeiten länger werden, weil immer mehr ältere Menschen sich infizieren.\"  Braun versicherte, die Bundesregierung werde nicht aus wirtschaftlichen Gründen Risiken für die Gesundheit der Bevölkerung eingehen.  Mit Blick auf wegen der Corona-Pandemie geschlossene Schulen sagte der Kanzleramtsminister, die Vorstellung, dass sich Kinder \"auf dem Schulhof zu 100 Prozent nach unseren Abstandsvorschriften verhalten, ist nicht sehr realistisch\". Kämen sie dann nach Hause, träfen sie vielleicht auf ihre Großeltern. So könnten schnell Infektionsketten entstehen.', 'Gutscheine statt Geld zurück - diese Devise hat die Bundesregierung bei Corona-bedingt abgesagten Veranstaltungen ausgegeben. Doch die Regelung stößt auf Kritik. Deshalb will der Bund nun im Streitfall haften.  Nach Kritik an den geplanten Gutscheinen für abgesagte Reisen und Kultur- oder Sportveranstaltungen hat die Bundesregierung angekündigt, für die Voucher finanziell einzustehen. \"Wir nehmen die Bedenken der Verbraucher sehr ernst. Kein Kunde darf sein Geld verlieren\", sagte der Tourismusbeauftragte der Bundesregierung, Thomas Bareiß. \"Deshalb wollen wir den Wert der Gutscheine staatlich absichern.\"  Verbraucherschützer hatten das Vorhaben zuvor als \"Zwangskredite der Verbraucher an die Unternehmen\" abgelehnt und eine Rückzahlung der Reisekosten gefordert. Bareiß betonte: \"Natürlich müssen die Verbraucher ihr Geld zurückbekommen können, wenn sie den Gutschein nicht einlösen und keine Reise antreten.\" Deshalb würden die Wertscheine zeitlich begrenzt. \"Und für all diejenigen, die es besonders hart trifft und ihr Geld schnell selbst brauchen, wird es eine Härtefallregelung geben\", sicherte der CDU-Politiker zu. \\n  Bei abgesagten Reisen und Kultur- oder Sportveranstaltungen sollen die Verbraucher nach dem Willen der Bundesregierung Gutscheine statt einer sofortigen Rückzahlung bekommen. Die Gutscheine sollen bis Ende 2021 befristet sein und für alle Tickets gelten, die vor dem 8. März gekauft wurden. Hat ein Kunde seinen Gutschein bis Ende 2021 nicht eingelöst, muss der Veranstalter ihm den Wert erstatten. Die EU-Kommission muss dieser Lösung im Fall von Reisen und Flugbuchungen allerdings noch zustimmen, da hier EU-weite gesetzliche Regelungen gelten.  \"Die Gutscheine sind in dieser schwierigen Lage ein guter Kompromiss, um die Arbeitsplätze bei den Reiseveranstaltern und Reisebüros zu sichern und gleichzeitig die Kundeninteressen zu wahren\", sagte Bareiß. Er verwies darauf, dass wegen der Corona-Krise auch etwa 85.000 Mitarbeiter von Reisebüros und Veranstaltern um ihre Jobs bangten. Zudem würden die Unternehmen schwer belastet: \"Es kommt nicht nur kein Geld herein - die bereits verplanten Einnahmen werden nun auf einen Schlag vollständig zurückgefordert\", so Bareiß.', 'Das schöne Wetter lockt viele Menschen ins Freie - die große Mehrheit hält sich dabei an die Kontaktbeschränkungen. IW-Chef Hüther plädiert für Corona-Bonds. Weltweit gibt es inzwischen mehr als 65.000 Corona-Tote. Die Entwicklungen im Liveblog.   ', 'Seit Wochen gelten in Spanien strenge Ausgangssperren. Die einschneidenden Maßnahmen zeigen offenbar Wirkung: Die Zahl der Neuinfektionen und der Toten geht zurück - allerdings auf hohem Niveau.  In Spanien ist die Zahl der Covid-19-Toten den dritten Tag in Folge zurückgegangen. Innerhalb von 24 Stunden starben den amtlichen Angaben zufolge 674 Menschen, die mit dem Virus SARS-CoV-2 infiziert waren. Damit wurden erstmals nach neun Tagen weniger als 800 neue Todesfälle registriert. Die Gesamtzahl der Todesopfer in Spanien stieg auf 12.418.  Auch die Zahl der registrierten Neuinfektionen ging zurück - auf rund 6000. Am Vortag waren in Spanien noch etwa 7000 neue Ansteckungen gemeldet worden.  In dem südeuropäischen Land infizierten sich bisher mehr als 130.000 Menschen mit dem Coronavirus. Mehr als 38.000 Betroffene gelten als wieder gesund. An einem Tag wurden fast 4000 an Covid-19 erkrankte Patienten als genesen entlassen.  Der positive Trend, unter anderem auch bei der Zahl der\\xa0Einweisungen in Krankenhäuser und Intensivstationen, wird von den Experten des Gesundheitsministeriums seit Tagen bescheinigt.  Trotz der positiven Entwicklungen verlängerte Ministerpräsident Pedro Sánchez\\xa0am Samstag\\xa0die\\xa0Notfallmaßnahmen und Ausgangssperren um weitere zwei Wochen bis zum 25. April. Diese Entscheidung muss aber noch vom Parlament gebilligt werden.  Derzeit dürfen nur Beschäftigte in bestimmten Sektoren wie der Gesundheitsversorgung ihrer Arbeit nachgehen. Restaurants, Bars und die meisten Geschäfte sind geschlossen, Menschenansammlungen sind verboten.  Spanien ist weiterhin weltweit eines der am stärksten von der Krise betroffenen Länder. Das Virus zieht vor allem die Regionen Madrid und Katalonien besonders stark in Mitleidenschaft.', 'Er ist seit gestern Chef der britischen Labour-Partei. Die erste Amtshandlung Starmers: massive Kritik an Premier Johnson für dessen Agieren in der Corona-Krise. Die jüngsten Zahlen bleiben alarmierend.  Der frisch gewählte Chef der britischen Labour-Partei, Keir Starmer, macht Premierminister Boris Johnson große Vorwürfe wegen dessen Krisenmanagement in der Coronavirus-Pandemie. \"Es sind schwere Fehler gemacht worden\", schrieb Starmer in einem Gastbeitrag in der \"Sunday Times\".  Der neue Oppositionschef beklagt, die konservative Regierung habe zu spät eingestanden, dass Großbritannien bei der Zahl der Tests hinter anderen Ländern hinterherhinke. Nun müsse das Versprechen, täglich 100.000 Tests durchzuführen, rasch eingelöst werden. Vor allem Krankenhausmitarbeiter müssten getestet und mit der notwendigen Schutzkleidung ausgerüstet werden, forderte Starmer. \\n  Er bezog sich damit auf eine aktuelle Umfrage des Royal College of Physicians, wonach derzeit rund 20 Prozent des medizinischen Personals in Großbritannien der Arbeit fernbleibt. Als Grund dafür nannten die meisten eine vermutete, aber nicht bestätigte Covid-19-Erkrankung bei sich selbst oder bei Angehörigen. Knapp ein Viertel der Befragten gab zudem an, keinen ausreichenden Zugang zu Schutzkleidung zu haben.  Trotz seiner Kritik an der Regierung machte Starmer deutlich, dass er die Corona-Krise nicht dafür nutzen will, um politisch zu punkten. \"Ich will, dass die Regierung erfolgreich ist, um Leben zu retten und den Lebensunterhalt der Bürger zu sichern. Das ist eine nationale Anstrengung, und wir sollten uns alle fragen, was wir zusätzlich beitragen können\", schrieb Starmer. \\n  Starmer forderte auch Klarheit über die Pläne der Regierung für eine schrittweise Aufhebung der Einschränkungen in dem Land. Bereits jetzt müsse zudem an der Infrastruktur gearbeitet werden, um die Bevölkerung mit einem Impfstoff zu immunisieren, sobald dieser verfügbar sei.  Die konservative Regierung von Johnson steht angesichts der rapide wachsenden Zahl von Corona-Todesfällen unter großem Druck. Die Zahl der Toten durch die Lungenkrankheit Covid-19 in Großbritannien stieg am Sonntag abermals massiv von 4313 um 621 auf 4934. Insgesamt wurden im Vereinigten Königreich 47.806 Menschen positiv auf SARS-CoV-2 getestet. Sogar die Königin sah sich genötigt, sich in der Krise ans Volk zu wenden: Königin Elizabeth II. hielt eine außergewöhnlichen Ansprache, in der sie die britischen Werte hochhielt und eiserne Disziplin von ihren Landsleuten forderte. \\n', 'Angesichts vieler Corona-Toter wendet sich die britische Königin Elizabeth II. an ihr Volk. In einer Fernsehansprache beschwört sie britische Werte, fordert eiserne Disziplin und lobt das Gesundheitssystem.  Die britische Königin wendet sich abgesehen von ihren Weihnachtsansprachen nur selten mit einer Rede an das britische Volk - bisher tat sie es 1991 zu Beginn des Golfkriegs, dann 1997 vor der\\xa0Beisetzung Prinzessin Dianas und schließlich 2002 nach dem Tod ihrer Mutter, Queen Mum. Heute Abend wendet  sie sich angesichts der Corona-Pandemie erneut an die Bürgerinnen und Bürger.  Aus vorab verbreiteten Auszügen der Rede geht hervor, dass Elizabeth II. die Briten zum Durchhalten und zu eiserner Disziplin aufrufen wird. Es sei \"eine Zeit der Unterbrechung des Lebens; eine Störung, die manche in Trauer gestürzt hat, für viele finanzielle Schwierigkeiten und für uns alle enorme Veränderungen in unserem täglichen Leben bedeutet\". Die 93-jährige Monarchin spricht zudem von einem \"Bruch im Leben unseres Landes\".  In der Ansprache spielt sie auf die Entbehrungen der Vergangenheit an. Sie hoffe, \"dass die Eigenschaften der Selbstdisziplin, der stillen, gutmütigen Entschlossenheit und des Mitgefühls dieses Land noch immer auszeichnen\", so die Queen. \"Ich hoffe, dass in den kommenden Jahren alle stolz darauf sein können, wie sie mit dieser Herausforderung umgegangen sind.\"  Elizabeth II. wird die Leistungen des britischen Gesundheitssystem NHS hervorheben und sich bei den Freiwilligen bedanken, die sich während der Corona-Pandemie einsetzen.  Die königliche Rede wird als Zeichen gedeutet, dass die Regierung über die rasch wachsende Zahl der Todesfälle durch die neuartige Lungenkrankheit Covid-19 beunruhigt ist. Die Ansprache, die heute Abend ausgestrahlt wird, wurde nach Angaben der britischen Nachrichtenagentur PA\\xa0unter strengen Vorsichtsmaßnahmen auf Schloss Windsor aufgezeichnet. Dorthin hatten sich die Queen und ihr Mann, der 98-jährige Prinz Philip, Mitte März zurückgezogen.  Ihr ältester Sohn, Prinz Charles, begab sich nach einer Coronavirus-Infektion zwischenzeitlich in häusliche Quarantäne in Schottland.  Das britische Gesundheitsministerium verzeichnete am Samstag mit 708 Toten die bislang höchste Zahl an Todesfällen innerhalb eines Tages. Insgesamt starben nach Angaben der Johns Hopkins-Universität in britischen Krankenhäusern bislang 4320 Menschen an der Lungenkrankheit Covid-19. Das sind nach Italien, Spanien und Frankreich die meisten Todesopfer in Europa.  Mehr als 42.000 Menschen wurden demnach positiv auf das Coronavirus getestet - die Zahl der registrierten Infizierten steigt schneller als in vielen europäischen Staaten. \\n', 'Wovor seit längerem gewarnt wurde, tritt nun ein: Das Coronavirus breitet sich in griechischen Flüchtlingslagern aus. Die Angst ist groß, dass es auch die überfüllten Lager auf den Inseln treffen könnte.  Die griechischen Behörden haben ein weiteres Flüchtlingslager wegen eines Coronavirus-Falls abgeriegelt. Ein afghanischer Bewohner des Lagers in Malakasa nahe Athen sei positiv auf das Virus getestet worden, teilte das griechische Migrationsministerium mit. In den kommenden zwei Wochen dürfe niemand das Camp verlassen oder betreten. \\n  Der 53-jährige Afghane hat den Angaben zufolge eine Vorerkrankung. Mit Corona-Symptomen habe er sich an die medizinische Einrichtung innerhalb des Flüchtlingslagers gewandt. Anschließend sei er in ein Krankenhaus in Athen gebracht worden, wo er positiv auf das Coronavirus getestet worden sei.  Die Familie des Mannes befindet sich laut dem Ministerium unter Quarantäne. Nun sollen den Angaben zufolge schrittweise alle Bewohner einem Corona-Test unterzogen werden.\\xa0\"Wir werden unseren Plan so wie im anderen Fall umsetzen\", sagte Griechenlands Migrationsminister Notis Mitarakis. \\n  Bereits vor wenigen Tagen hatten die Behörden in der 80 Kilometer von Athen entfernten Stadt Ritsona ein Flüchtlingslager unter Quarantäne gestellt, nachdem bei einer Bewohnerin eine Coronavirus-Infektion festgestellt worden war. Seither wurden nach Behördenangaben 23 Menschen in dem Lager positiv auf SARS-CoV-2 getestet.  Menschenrechtsorganisationen haben angesichts der Corona-Krise zu einer Räumung der griechischen Flüchtlingslager aufgerufen. Besonders katastrophal sind die Bedingungen in den überfüllten Flüchtlingscamps auf den Ägäis-Inseln. Zehntausende Menschen harren dort mehrheitlich in Zelten und provisorischen Unterkünften unter Plastikplanen aus. In Griechenland sind bislang 68 Menschen an der vom Coronavirus ausgelösten Lungenkrankheit Covid-19 gestorben. \\n', 'In der Corona-Krise wächst das Bewusstsein, wie wichtig die Arbeit von Altenpflegerinnen, Lkw-Fahrern und Kassiererinnen ist. In der Politik werden Forderungen nach Sonderzahlungen laut. Aber reicht das?  Dreißig Jahre schon arbeitet Astrid Füßler als Verkäuferin im Supermarkt. Leicht war der Job noch nie. Aber das, was sie gerade erlebt, hätte sie sich so nie vorstellen können. Leergeräumte Nudel- und Konserven-Regale. Kunden, die schon die Klopapierpackungen von den Paletten reißen, wenn sie gerade erst aus dem Lager geschoben werden.  Und dazu immer das ungute Gefühl, dass man sich ja auch selbst anstecken kann mit dem Coronavirus. An der Kasse zum Beispiel, wenn Kunde und Verkäuferin ganz nah beieinander sind. Stress pur sei das, sagt die 50-jährige Berlinerin. Aber durch müsse man da nun mal, zu Essen bräuchten die Leute ja.  Ohne Füßler würden sie es im Supermarkt nicht schaffen in diesen Krisenzeiten. Aber bezahlt werde sie trotzdem schlecht. Für 35 Stunden erhalte sie gerade mal 2400 Euro brutto. Damit lag sie 2019 laut Statistischem Bundesamt als ausgebildete Fachkraft im Lebensmitteleinzelhandel deutlich unter dem Lohn, den Fachkräfte für die gleiche Arbeitszeit zum Beispiel im produzierenden Gewerbe verdienten.  Bei Beschäftigten der gleichen Qualifikationsstufe in Altenheimen oder der Güterbeförderung auf der Straße, wie die Statistiker die Branche nennen, herrscht ebenfalls ein niedriges Verdienstniveau.  Nun, in der Corona-Krise, wächst in der Bevölkerung das Bewusstsein für die Leistungen dieser Berufsgruppen. Auf den Balkonen wird geklatscht für die \"Corona-Helden\". Und in der Politik werden Forderungen laut, zum Beispiel nach Sonderzahlungen, die am besten steuerfrei sein sollen. Aber reicht das wirklich aus?  \"Ein Zuschlag zu den meist niedrigen Löhnen in diesen Branchen wäre das Mindeste\", sagt Sozialwissenschaftler Stefan Sell. \"Aber an den strukturellen Problemen löst er nichts.\" Vielmehr müsse man grundsätzlich über die Vergütung sprechen. Denn in Dienstleistungsbranchen wie der Altenpflege oder dem Einzelhandel würden immer weniger Unternehmen nach Tarif zahlen. Seit Mitte der Neunziger Jahre habe es in diesen Bereichen eine regelrechte Tarifflucht geben.  Um Beschäftigte in systemrelevanten Berufsgruppen besser zu stellen, will Hubertus Heil, der sozialdemokratische Bundesarbeitsminister, nun vor allem auf allgemeingültige Tarifverträge setzen, also Vereinbarungen, die für alle Arbeitgeber und Arbeitnehmer in einer Branche gelten. \"Und eine langfristige Konsequenz wird sein, dass wir für soziale Dienstleistung, für Gesundheit, für Pflege auch in diesem Land mehr Geld ausgeben müssen\", sagt er. \"Das ist eine Lehre, die wir aus dieser Krise zu ziehen haben.\"  Die bayerische Landesregierung will allen Pflegekräften eine steuerfreie Bonuszahlung von 500 Euro zukommen lassen. Das sagte Ministerpräsident Markus Söder der \"Bild am Sonntag\". Den Bonus sollen nach Angaben eines Regierungssprechers alle Pflegekräfte in Krankenhäusern, Reha-Kliniken, Alten-, Pflege- und Behindertenheimen bekommen - insgesamt sind dies 252.000 Angestellte. \\n  Die Frage ist allerdings, woher das Geld dafür kommen soll. Und ob die Bevölkerung immer noch klatscht für die \"Corona-Helden\", wenn sie für deren Besserstellung ins eigene Portemonnaie greifen muss. Zum Beispiel in Form von steigenden Lebensmittelpreisen oder höheren Beiträgen in der Pflegeversicherung. Wissenschaftler errechneten 2016 in einer Studie, dass allein die Angleichung der Altenpflege-Löhne an die des Krankenhauswesens 5,9 Milliarden Euro kosten würde.  Die Grünen-Fraktionschefin Katrin Göring-Eckardt schlägt vor, Mittel des Gesundheitsfonds zu nutzen, um Dankprämien an das medizinische Pflegepersonal zu zahlen. \"Der Bund sollte jetzt alle Mittel und Wege nutzen, um neben anderen Maßnahmen auch direkte finanzielle Prämien an das Personal zu unterstützen\", sagte sie den Zeitungen der Funke Mediengruppe. Das Bundesgesundheitsministerium könnte Mittel aus der Liquiditätsreserve des Gesundheitsfonds freigeben. \\n  Die Besserstellung systemrelevanter Berufsgruppen sei ein finanzieller Kraftakt und müsste von der gesamten Gesellschaft getragen werden, findet der Sozialwissenschaftler Sell: \"Das bedeutet höhere Abgaben.\" Er schlägt allerdings vor, höhere Lohnkosten für die Beschäftigten in der Altenpflege nicht über Sozialbeiträge sondern über Steuern zu finanzieren, \"weil sich bei den Steuern letztendlich auch die wirtschaftlich leistungsfähigen und starken Schultern beteiligen.\"  Die Debatte über bessere Bezahlung für Altenpflegerinnen, Lkw-Fahrer und Supermarkt-Kassiererinnen ist für den Sozialwissenschaftler auch eine Gerechtigkeitsdebatte, in der geklärt werden müsse, welche Arbeit welchen Wert für die Gesellschaft hat. Für die Linkspartei steht fest: Um systemrelevante Berufsgruppen besserzustellen, müssten auch Reiche einen Beitrag leisten, zum Beispiel durch eine einmalige Abgabe auf große private Vermögen. \"Wenn ich eine gerechte Gesellschaft möchte, dann muss ich auch entsprechend für Ausgleich sorgen\", sagt die Fraktionsvorsitzende der Linkspartei im Bundestag, Amira Mohamed Ali.  Neu sind Konzepte zu Besteuerung von Reichen nicht. Aber in der Corona-Krise haben sie Konjunktur. Auch die SPD-Parteivorsitzende Saskia Esken sprach sich in der vergangenen Woche für eine einmalige Vermögensabgabe aus. Wenig später ruderte sie allerdings zurück. Die Forderung käme zur Unzeit, finden einige in der Partei. Offen sagen will das aber niemand. Und andere SPD-Spitzenpolitiker, wie Finanzminister Olaf Scholz oder der haushaltspolitische Sprecher der SPD-Bundestagsfraktion, Johannes Kahrs, wollen auf Anfrage nicht näher eingehen auf Eskens Vorschlag.  In der Union schütteln sie deshalb den Kopf. Die SPD-Parteivorsitzende stehe im Seitenaus mit ihren \"Rezepten aus der linken Mottenkiste\", findet Marc Hauptmann, der Vorsitzende der Jungen Gruppe in der CDU/CSU-Bundestagsfraktion. Denn Pläne für eine Vermögensabgaben seien \"wenig hilfreich in einer Krisenphase, in der ein Großteil der Vermögen als Betriebsmittel in den Unternehmen gebunden ist.\" Die ohnehin schon gebeutelte Wirtschaft würde durch zusätzliche Abgaben nur noch mehr geschwächt. \\n  Noch sind die ökonomischen Schäden der Corona-Pandemie nicht absehbar. Und was aus den Altenpflegerinnen, LKW-Fahrern und Kassiererinnen wird, die gerade so sehr gebraucht werden. Aber je länger die Krise dauert, desto mehr Unternehmen könnten pleite gehen und viele Menschen würden ihre Jobs verlieren. Erst dann wird sich zeigen, wie die Gesellschaft wirklich zu ihren Corona-Helden steht. Ob es nur beim Applaus bleibt oder sie in Zukunft auch mehr Geld bekommen. \\n', 'Wie viele bestätigte Coronavirus-Fälle gibt es derzeit? Die Coronavirus-Karten von tagesschau.de geben einen aktuellen, interaktiven Überblick für Deutschland und die Welt. \\n  Hinweis: Die Zahlen der Coronavirus-Karte für Deutschland basieren auf den Angaben des Robert Koch-Instituts, die einmal pro Tag veröffentlicht werden. \\n  Hinweis: Die Zahlen der Coronavirus-Karte für alle Länder weltweit basiert auf den Angaben der Johns Hopkins University. Durch die verschiedenen Quellen und Aktualisierungszeitpunkte kann es für die Fallzahlen in Deutschland zu Abweichungen von den Zahlen des Robert Koch-Instituts kommen. \\n  Die Angaben der Johns Hopkins Universität und die Zahlen vom Robert Koch-Institut unterscheiden sich oft. Deswegen sind sie aber nicht falsch. Entscheidend ist, wann welche Zahlen gemeldet und wie sie ermittelt werden. \\n', 'Werden Statistiken über Todeszahlen \"nach oben gejubelt\"? Ist eine Studie über die Corona-Dunkelziffer bereits fertig? Der ARD-faktenfinder klärt über Falschmeldungen, Gerüchte und vermeintliche Wundermittel gegen Covid-19 auf.', 'Die Coronavirus-Pandemie überschattet auch die Karwoche. Der Papst beging den Palmsonntag mit wenigen Gläubigen im Petersdom. Normalerweise wird die Predigt auf dem Petersplatz mit einer Palmprozession gefeiert.  Bei seiner Palmsonntagspredigt hat Papst Franziskus hat die Menschen aufgerufen, in der Corona-Krise auf Gott zu vertrauen und anderen zu dienen. \"Wir dürfen das nicht verraten, wofür wir geschaffen wurden, und das nicht aufgeben, was zählt\", sagte das Kirchenoberhaupt, \"dies bleibt, alles andere vergeht\". Den Gottesdienst, der von zahlreichen Onlineportalen und Rundfunksendern übertragen wurde, feierte der Papst mit nur wenigen anderen Gläubigen im vorderen Teil des Petersdomes.  \"Das Drama, das wir gerade durchleben, drängt uns, die ernsten Dinge ernst zu nehmen und uns nicht in Belanglosigkeiten zu verlieren\", so Franziskus weiter. Das Leben werde \"an der Liebe gemessen\". Dabei räumte er ein: \"Sicherlich, zu lieben, beten, vergeben und sich um andere zu kümmern, in der Familie wie auch in der Gesellschaft, kann einiges kosten.\" Dennoch gelte es, \"zur Liebe Ja zu sagen - ohne Wenn und Aber\". In der \"dramatischen Situation der Pandemie, angesichts so vieler Gewissheiten, die zerbröckeln, angesichts so vieler enttäuschter Erwartungen\" gelte nach wie vor die Zusage Jesu: \"Öffne dein Herz meiner Liebe. Du wirst den Trost Gottes spüren, der dir beisteht.\" \\n  Mit Blick auf die in den biblischen Lesungen geschilderte Leidensgeschichte Jesu sprach Franziskus über \"die für einen Liebenden schmerzlichsten Situationen: Verrat und Verlassenheit.\" Aber wie Jesus gezeigt habe, sei \"der Weg des Dienens der Weg des Sieges\", der die Menschen erlöst habe. Am Palmsonntag erinnern die Kirchen an den triumphalen Einzug Jesu in Jerusalem, wenige Tage vor seiner Hinrichtung. Dabei soll ihn die Menge mit Palmwedeln begrüßt haben.  In Franziskus\\' Heimat Argentinien hat das Erzbistum La Plata die Gläubigen aufgerufen, Gottesdienste per Livestream zu verfolgen und dabei für die \"virtuelle Palmweihe\" Zimmerpflanzen über das Internet segnen zu lassen. Auch bei den übrigen Gottesdiensten bis einschließlich Ostern wird wegen der Ausgangs- und Kontaktbeschränkungen in den Kirchen gähnende Leere herrschen. \\n', 'In gut einem Monat beginnt der Ramadan, die heilige Fastenzeit der Muslime. Doch geht das überhaupt, fasten während einer Pandemie? Viele hohe Geistliche im Islam halten sich streng an die Vorgaben der WHO.   Der Ramadan ist den Muslimen heilig. Der Fastenmonat, in dem Gläubige zwischen Sonnenaufgang und Sonnenuntergang weder essen noch trinken dürfen, beginnt in gut einem Monat. Jetzt sagen Gelehrte der Azhar-Universität, der wichtigsten sunnitischen Lehranstalt, dass der Ramadan in diesem Jahr möglicherweise ausgesetzt wird - im Kampf gegen die Ausbreitung des Coronavirus.  Die Azhar-Scheichs haben religiöse Autorität; auch die im ägyptischen Fatwa-Amt, Dar al-Ifta, indem sie islamische Rechtsgutachten schreiben. Der Generalsekretär des Fatwa-Rates ist Scheich Khaled Omran. Er hält eine Verschiebung der Fastenzeit wegen der Corona-Pandemie für möglich.  \"Wir warten ab, was das ägyptische Gesundheitsministerium und die Ärzte entscheiden werden. Das bedeutet, dass wir auch auf die Beschlüsse der WHO warten\", stellt Omran klar. Wenn die Weltgesundheitsorganisation den Menschen vorschreibe, zu essen und zu trinken, werde die Fatwa lauten, dass die Menschen während der Fastenzeit essen und trinken sollen, so Omran. \"Dann müssten sie die verpassten Tage nach Ende der Krise nachholen.\"  Für Kranke gilt ohnehin, dass sie während des Ramadan nicht fassen müssen. Über das Coronavirus heißt es, dass Menschen leichter angreifbar seien, wenn sie geschwächt sind. Das aber sind Leute, die nicht essen und trinken, jedenfalls in den ersten Tagen der Fastenzeit. Deshalb ist es möglich, dass die Azhar die Fastenzeit aussetzen wird, wenn die WHO es nahelegt - so wie sie bereits andere Regeln, die Gläubigen wichtig sind, außer Kraft gesetzt hat: Sie hat das große Freitagsgebet im Kreis anderer Gläubiger verboten - und auch alle andere Gebete in Moscheen.  Die Azhar-Gelehrten haben dafür mit der Sunna, der Überlieferung aus den Zeiten von Prophet Mohammed, argumentiert, erklärt Orman: \"Ein Beispiel aus der Sunna ist, dass der Prophet in einigen Nächten, in denen die Umstände kein Gemeinschaftsgebet in der Moschee erlaubten, die Gläubigen angewiesen hat, zu Hause zu beten. Der Prophet sagte den Gläubigen: \\'Betet in Euren Zelten oder in Euren Häusern!\\'\"  Das nehme man nun als Botschaft Gottes, dass an keinem bestimmten Ort gebetet werden müsse. Die Mosche sei ohnehin nicht immer der Ort des Gebetes im Islam. \"Und der Prophet Mohamed hat diesbezüglich gesagt: \\'Mir wurde die ganze Erde zur Moschee - und deren Boden ist für mich rein.\\'\"  Reinheit ist ein wichtiges Prinzip im Islam. Auch das deckt sich mit dem, was die Experten der WHO im Kampf gegen das Coronavirus empfehlen: Die Menschen sollen sich regelmäßig und gründlich die Hände waschen. \"Die Hygiene macht einen Teil des islamischen Ritus aus. Das legt ein großes Kapitel im Koran dar: \\'Die Reinheit und die persönliche Sauberkeit\\'\", erläutert der Rechtsgelehrte. Dazu komme, dass beispielsweise die Anwendung von Desinfektionsmitteln ein religiöses Gebot sei: \"Denn wir glauben daran, dass es keine Trennung zwischen der Religion und der Wissenschaft gibt. Die wissenschaftlichen Ergebnisse und Befunde empfangen wir als Gottes Botschaft an die Menschheit.\"  Genau wie das Coronavirus selbst, so Omran. \"Wir sehen die Krise als göttliche Botschaft; als Prüfung Gottes. Er will die Menschen auf einige Dinge aufmerksam machen und sehen, wie wir reagieren. Wir glauben, dass Gott, der Allmächtige, die Menschen ermutigen will, zusammenzuarbeiten und zusammenzuhalten.\" Die Corona-Krise solle daran erinnern, dass jeder Schaden, der einem Menschen zugefügt wird, auch alle anderen Menschen treffe. \\n  Die Schulen und Universitäten in Ägypten sind geschlossen. So auch die religiösen Bildungseinrichtungen. Die Gelehrten der Azhar - auch die im Dar al-Ifta - nutzen Heimarbeitsplätze. Die Azhar-Gelehrten versuchen, über das Internet und die sozialen Netzwerke mit den Gläubigen in Kontakt zu bleiben: \"Die Kommunikationswege zwischen uns und den Gläubigen bleiben bestehen. Über die sozialen Netzwerke zum Beispiel, die ein wichtiges Medium sind, wo wir - die Fatwa-Fachleute und die Religionswissenschaftler - die Menschen treffen können.\"  Die Gelehrten im Dar al-Ifta besäßen die größte Website, wenn es um die Zahl der Follower geht, besonders auf Facebook und in allen anderen Kanälen der Sozialen Netzwerke, so Omran. \"Aber wir erreichen auch die Menschen, die die Sozialen Netzwerke nicht nutzen, und zwar über die alten Medien: vor allem über Radio und Fernsehen.\" All diese Medien würden genutzt, um mit den Menschen Kontakt zu halten.  Radio und Fernsehen sind in diesen Zeiten wichtiger denn je, da die Azhar auf dem ägyptischen Land weniger Einfluss hat als in den großen Städten. Insofern ist das Coronavirus womöglich auch eine Prüfung für die Azhar und ihre Scheichs. Omran ist optimistisch: \"Wir werden unsere Botschaft zu den Menschen bringen und ihnen alles erklären. Dann werden wir sehen, wie die Menschen auf unsere Entscheidungen antworten. Wir sorgen uns vor allem um die Gesundheit der Menschen. Darum haben wir auch keine Probleme, die Menschen zu erreichen.\" Denn die islamische Rechtsprechung, die Scharia, mahne zum Erhalt der menschlichen Gesundheit - als ein Teil der Bewahrung der Schöpfung Gottes.']\n"
     ]
    }
   ],
   "source": [
    "print(corona_articles)"
   ]
  },
  {
   "cell_type": "code",
   "execution_count": 23,
   "metadata": {},
   "outputs": [
    {
     "data": {
      "text/plain": [
       "15"
      ]
     },
     "execution_count": 23,
     "metadata": {},
     "output_type": "execute_result"
    }
   ],
   "source": [
    "len(corona_articles)"
   ]
  },
  {
   "cell_type": "markdown",
   "metadata": {},
   "source": [
    "### Make into CSV file"
   ]
  },
  {
   "cell_type": "code",
   "execution_count": 24,
   "metadata": {},
   "outputs": [],
   "source": [
    "columns = [\"date\", \"url\", \"article\", \"resort\"]\n",
    "df = pd.DataFrame(columns=columns)\n",
    "df[\"url\"] = corona_links\n",
    "df[\"article\"] = corona_articles\n",
    "df[\"date\"] = todays_date\n",
    "df[\"resort\"] = df[\"url\"].apply(lambda x: x.split(\"/\")[1])"
   ]
  },
  {
   "cell_type": "code",
   "execution_count": 25,
   "metadata": {},
   "outputs": [
    {
     "data": {
      "text/html": [
       "<div>\n",
       "<style scoped>\n",
       "    .dataframe tbody tr th:only-of-type {\n",
       "        vertical-align: middle;\n",
       "    }\n",
       "\n",
       "    .dataframe tbody tr th {\n",
       "        vertical-align: top;\n",
       "    }\n",
       "\n",
       "    .dataframe thead th {\n",
       "        text-align: right;\n",
       "    }\n",
       "</style>\n",
       "<table border=\"1\" class=\"dataframe\">\n",
       "  <thead>\n",
       "    <tr style=\"text-align: right;\">\n",
       "      <th></th>\n",
       "      <th>date</th>\n",
       "      <th>url</th>\n",
       "      <th>article</th>\n",
       "      <th>resort</th>\n",
       "    </tr>\n",
       "  </thead>\n",
       "  <tbody>\n",
       "    <tr>\n",
       "      <th>0</th>\n",
       "      <td>2020-04-05 20:57:11.925137</td>\n",
       "      <td>/wirtschaft/corona-bonds-101.html</td>\n",
       "      <td>Die Corona-Krise und ihre wirtschaftlichen Fol...</td>\n",
       "      <td>wirtschaft</td>\n",
       "    </tr>\n",
       "    <tr>\n",
       "      <th>1</th>\n",
       "      <td>2020-04-05 20:57:11.925137</td>\n",
       "      <td>/inland/corona-245.html</td>\n",
       "      <td>FDP-Chef Lindner will die wirtschaftlichen Cor...</td>\n",
       "      <td>inland</td>\n",
       "    </tr>\n",
       "    <tr>\n",
       "      <th>2</th>\n",
       "      <td>2020-04-05 20:57:11.925137</td>\n",
       "      <td>/wirtschaft/corona-konjunkturprogramme-101.html</td>\n",
       "      <td>Konjunkturpakete, Steuersenkungen, ein neuer M...</td>\n",
       "      <td>wirtschaft</td>\n",
       "    </tr>\n",
       "    <tr>\n",
       "      <th>3</th>\n",
       "      <td>2020-04-05 20:57:11.925137</td>\n",
       "      <td>/inland/corona-bundesregierung-103.html</td>\n",
       "      <td>Nach Ansicht der Regierung steht Deutschland d...</td>\n",
       "      <td>inland</td>\n",
       "    </tr>\n",
       "    <tr>\n",
       "      <th>4</th>\n",
       "      <td>2020-04-05 20:57:11.925137</td>\n",
       "      <td>/wirtschaft/corona-gutscheine-101.html</td>\n",
       "      <td>Gutscheine statt Geld zurück - diese Devise ha...</td>\n",
       "      <td>wirtschaft</td>\n",
       "    </tr>\n",
       "  </tbody>\n",
       "</table>\n",
       "</div>"
      ],
      "text/plain": [
       "                        date                                              url  \\\n",
       "0 2020-04-05 20:57:11.925137                /wirtschaft/corona-bonds-101.html   \n",
       "1 2020-04-05 20:57:11.925137                          /inland/corona-245.html   \n",
       "2 2020-04-05 20:57:11.925137  /wirtschaft/corona-konjunkturprogramme-101.html   \n",
       "3 2020-04-05 20:57:11.925137          /inland/corona-bundesregierung-103.html   \n",
       "4 2020-04-05 20:57:11.925137           /wirtschaft/corona-gutscheine-101.html   \n",
       "\n",
       "                                             article      resort  \n",
       "0  Die Corona-Krise und ihre wirtschaftlichen Fol...  wirtschaft  \n",
       "1  FDP-Chef Lindner will die wirtschaftlichen Cor...      inland  \n",
       "2  Konjunkturpakete, Steuersenkungen, ein neuer M...  wirtschaft  \n",
       "3  Nach Ansicht der Regierung steht Deutschland d...      inland  \n",
       "4  Gutscheine statt Geld zurück - diese Devise ha...  wirtschaft  "
      ]
     },
     "execution_count": 25,
     "metadata": {},
     "output_type": "execute_result"
    }
   ],
   "source": [
    "df.head()"
   ]
  },
  {
   "cell_type": "markdown",
   "metadata": {},
   "source": [
    "### Export CSV"
   ]
  },
  {
   "cell_type": "code",
   "execution_count": 26,
   "metadata": {},
   "outputs": [],
   "source": [
    "df.to_csv(\"data/\" + date_stamp)"
   ]
  }
 ],
 "metadata": {
  "kernelspec": {
   "display_name": "Python 3",
   "language": "python",
   "name": "python3"
  },
  "language_info": {
   "codemirror_mode": {
    "name": "ipython",
    "version": 3
   },
   "file_extension": ".py",
   "mimetype": "text/x-python",
   "name": "python",
   "nbconvert_exporter": "python",
   "pygments_lexer": "ipython3",
   "version": "3.6.5"
  }
 },
 "nbformat": 4,
 "nbformat_minor": 2
}
