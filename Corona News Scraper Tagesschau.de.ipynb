{
 "cells": [
  {
   "cell_type": "markdown",
   "metadata": {},
   "source": [
    "## Corona-News Scraper from Tagesschau.de"
   ]
  },
  {
   "cell_type": "code",
   "execution_count": 1,
   "metadata": {},
   "outputs": [],
   "source": [
    "import re\n",
    "from urllib.request import urlopen\n",
    "from bs4 import BeautifulSoup\n",
    "\n",
    "import datetime\n",
    "import pandas as pd"
   ]
  },
  {
   "cell_type": "code",
   "execution_count": 2,
   "metadata": {},
   "outputs": [],
   "source": [
    "todays_date = datetime.datetime.now()\n",
    "date_stamp = str(todays_date.date())"
   ]
  },
  {
   "cell_type": "code",
   "execution_count": 3,
   "metadata": {},
   "outputs": [],
   "source": [
    "url = 'https://www.tagesschau.de/'\n",
    "html = urlopen(url)\n",
    "soup = BeautifulSoup(html, \"html5lib\")"
   ]
  },
  {
   "cell_type": "markdown",
   "metadata": {},
   "source": [
    "### Parse Tagesschau.de homepage for new articles"
   ]
  },
  {
   "cell_type": "code",
   "execution_count": 4,
   "metadata": {},
   "outputs": [],
   "source": [
    "headlines = []\n",
    "dachzeilen = []\n",
    "teasers = []\n",
    "links = []\n",
    "texts = []\n",
    "a = soup.find_all('a')\n",
    "for item in a:\n",
    "    if item.find('p', class_='dachzeile'):\n",
    "        links.append(item.get('href'))\n",
    "        texts.append(item.get_text())"
   ]
  },
  {
   "cell_type": "code",
   "execution_count": 5,
   "metadata": {},
   "outputs": [
    {
     "name": "stdout",
     "output_type": "stream",
     "text": [
      "\n",
      "Geschäft mit Schutzkleidung\n",
      "\"Jeder versucht, sich zu bereichern\"\n",
      "Im Zuge der Corona-Krise versuchen offenbar zunehmend Firmen, die Not von Kliniken auszunutzen, an Schutzkleidung zu kommen. WDR, NDR und SZ zeigen, wie vor allem mit Atemschutzmasken versucht wird, Geschäfte zu machen.\n",
      "| mehr\n",
      "\n",
      "\n",
      "/inland/masken-coronavirus-101.html\n"
     ]
    }
   ],
   "source": [
    "# check the first text / link\n",
    "print(texts[0])\n",
    "\n",
    "print(links[0])\n"
   ]
  },
  {
   "cell_type": "markdown",
   "metadata": {},
   "source": [
    "### Check which articles on the homepage are about the Corona virus"
   ]
  },
  {
   "cell_type": "code",
   "execution_count": 6,
   "metadata": {},
   "outputs": [],
   "source": [
    "# corona, covid19, coronavirus\n",
    "corona_links = []\n",
    "corona_texts = []\n",
    "for i in range(len(texts)):\n",
    "    if (\"corona\" in texts[i].lower()) | (\"covid\" in texts[i].lower()):\n",
    "        if links[i].startswith(\"/\"):\n",
    "            corona_links.append(links[i])\n",
    "            corona_texts.append(texts[i])"
   ]
  },
  {
   "cell_type": "code",
   "execution_count": 7,
   "metadata": {},
   "outputs": [
    {
     "name": "stdout",
     "output_type": "stream",
     "text": [
      "['/inland/masken-coronavirus-101.html', '/newsticker/liveblog-corona-sonntag-101.html', '/ausland/usa-coronavirus-fauci-103.html', '/ausland/corona-putin-russland-101.html', '/ausland/weltspiegel-singapur-corona-101.html', '/ausland/indien-corona-103.html', '/inland/coronavirus-deutschland-211.html', '/faktenfinder/corona-grippevergleich-101.html', '/ausland/corona-beschraenkungen-europa-103.html', '/ausland/coronavirus-karten-101.html', '/ardimport/regional/hessen/bouffier-thomas-schaefer-101.html']\n",
      "\n",
      "['\\nGeschäft mit Schutzkleidung\\n\"Jeder versucht, sich zu bereichern\"\\nIm Zuge der Corona-Krise versuchen offenbar zunehmend Firmen, die Not von Kliniken auszunutzen, an Schutzkleidung zu kommen. WDR, NDR und SZ zeigen, wie vor allem mit Atemschutzmasken versucht wird, Geschäfte zu machen.\\n|\\xa0mehr\\n\\n', '\\nLiveblog zum Coronavirus \\n++ Drei Tote in Wolfsburger Heim ++\\nIn einem Wolfsburger Pflegeheim sind drei weitere Männer an Covid19 gestorben. Traurige Zahlen meldet Spanien und in Norwegen sollen auch Gesunde getestet werden. Die Entwicklungen im Liveblog.\\n|\\xa0mehr\\n\\n', '\\nUS-Experte warnt\\nMehr als 100.000 Corona-Tote in den USA?\\nFast 125.000 Menschen sind in den USA bereits mit dem Coronavirus infiziert. Der oberste Virologe des Landes befürchtet Millionen Fälle und mehr als 100.000 Tote. Die US-Regierung ringt um ihren Kurs in der Krise.\\n|\\xa0mehr\\n\\n', '\\nCorona in Russland\\nPutins Urlaub für alle bringt Probleme\\nGegen die Ausbreitung des Coronavirus hat Russlands Präsident Putin eine arbeitsfreie Woche angeordnet. Doch Experten warnen: Die Maßnahme schade weit mehr, als dass sie nutze. Von Ina Ruck.\\n|\\xa0mehr\\n\\n', '\\nWeltspiegel zu Singapur\\nAus der SARS-Epidemie gelernt\\nIn Singapur bleibt die Zahl der Corona-Infizierten noch überschaubar. Die SARS-Epidemie 2003 hat dem Land gezeigt, wie solche Situationen zu beherrschen sind, sagen die Virologen. Von Sandra Ratzow.\\n|\\xa0mehr\\n\\n', '\\nCoronavirus in Indien\\n\"Haben nichts zu essen und kein Geld\"\\nDurch die landesweite Ausgangssperre sind in Indiens Hauptstadt Delhi Zehntausende Arbeiter arbeitslos und obdachlos geworden. Verzweifelt versuchen sie nun, in ihre Heimatdörfer zu kommen. Von Bernd Musch-Borowska.\\n|\\xa0mehr\\n\\n', '\\nCorona-Krise\\nLaschet will über Exit-Strategie nachdenken\\nDie Kanzlerin bittet in der Corona-Krise um Geduld, doch auch in den eigenen Reihen wächst die Ungeduld. NRW-Ministerpräsident Laschet will jetzt schon über ein Ende der Beschränkungen nachdenken. RKI-Chef Wieler warnt.\\n|\\xa0mehr\\n\\n', '\\nCorona-Pandemie\\nWeniger gefährlich als die Grippe?\\nSeit Tagen sorgen Aussagen für Aufsehen, wonach das neuartige Coronavirus weniger gefährlich sei als die Grippe. Als vermeintlicher Beleg dient eine Zahl von 25.000 Grippetoten. Doch der Vergleich hinkt. Von Patrick Gensing.\\n|\\xa0mehr\\n\\n', '\\nKampf gegen Corona in Europa\\nWie lange gelten die Beschränkungen?\\nZu Hause bleiben, Grenzen dicht, die Wirtschaft im Lockdown - wegen der Corona-Pandemie haben fast alle europäischen Länder ihr öffentliches Leben heruntergefahren. Für wie lange - ein Überblick.\\n|\\xa0mehr\\n\\n', '\\nKarten mit Fallzahlen\\nWo sich das Coronavirus ausbreitet\\nWie viele bestätigte Coronavirus-Fälle gibt es derzeit? Die Coronavirus-Karten von tagesschau.de geben einen aktuellen, interaktiven Überblick für Deutschland und die Welt.\\n|\\xa0mehr\\n\\n', '\\nTod von Thomas Schäfer\\n\"Er war verzweifelt und ging von uns\"\\nDer plötzliche Tod von Finanzminister Thomas Schäfer hat im ganzen Land große Bestürzung ausgelöst. Ministerpräsident Bouffier deutete in einem Statement an, dass der Finanzminister sehr unter der Corona-Krise gelitten habe.\\n|\\xa0hr\\n\\n']\n"
     ]
    }
   ],
   "source": [
    "print(corona_links)\n",
    "print(\"\")\n",
    "print(corona_texts)"
   ]
  },
  {
   "cell_type": "markdown",
   "metadata": {},
   "source": [
    "### Get full article for each news about corona virus"
   ]
  },
  {
   "cell_type": "code",
   "execution_count": 8,
   "metadata": {},
   "outputs": [
    {
     "name": "stdout",
     "output_type": "stream",
     "text": [
      "https://www.tagesschau.de/inland/masken-coronavirus-101.html\n",
      "https://www.tagesschau.de/newsticker/liveblog-corona-sonntag-101.html\n",
      "https://www.tagesschau.de/ausland/usa-coronavirus-fauci-103.html\n",
      "https://www.tagesschau.de/ausland/corona-putin-russland-101.html\n",
      "https://www.tagesschau.de/ausland/weltspiegel-singapur-corona-101.html\n",
      "https://www.tagesschau.de/ausland/indien-corona-103.html\n",
      "https://www.tagesschau.de/inland/coronavirus-deutschland-211.html\n",
      "https://www.tagesschau.de/faktenfinder/corona-grippevergleich-101.html\n",
      "https://www.tagesschau.de/ausland/corona-beschraenkungen-europa-103.html\n",
      "https://www.tagesschau.de/ausland/coronavirus-karten-101.html\n",
      "https://www.tagesschau.de/ardimport/regional/hessen/bouffier-thomas-schaefer-101.html\n"
     ]
    }
   ],
   "source": [
    "corona_articles = []\n",
    "for link in corona_links:\n",
    "    full_link = \"https://www.tagesschau.de\" + link\n",
    "    print(full_link)\n",
    "    html = urlopen(full_link)\n",
    "    sub_soup = BeautifulSoup(html, \"html5lib\")\n",
    "    article = sub_soup.find_all('p', class_='text small')\n",
    "    paragraphs = []\n",
    "    for i in range(len(article)):\n",
    "        paragraphs.append(article[i].get_text())\n",
    "    # unifying teh paragraphs\n",
    "    final_article = \" \".join(paragraphs)\n",
    "    corona_articles.append(final_article)\n",
    "    "
   ]
  },
  {
   "cell_type": "code",
   "execution_count": 9,
   "metadata": {},
   "outputs": [
    {
     "name": "stdout",
     "output_type": "stream",
     "text": [
      "['Im Zuge der Corona-Krise versuchen offenbar zunehmend Firmen, die Not von Kliniken auszunutzen, an Schutzkleidung zu kommen. WDR, NDR und SZ zeigen, wie vor allem mit Atemschutzmasken versucht wird, Geschäfte zu machen.  Auf dem Markt der medizinischen Schutzausrüstung herrscht Chaos. Seit dem Ausbruch der Corona-Pandemie versucht das Personal in Heilberufen verzweifelt, Atemschutzmasken und Kittel zu besorgen, die benötigt werden, damit sich Mitarbeiter und Patienten bei der Behandlung vor einer Ansteckung mit dem SARS-CoV-2 Virus schützen.  Doch der Preis ist in die Höhe geschnellt, bereits bestellte Ware wird nicht geliefert, das verfügbare Material ist häufig mangelhaft, neue - oft unseriöse - Anbieter versuchen, von der Krise zu profitieren. \"Hier muss tatsächlich der Staat einspringen. Das ist nichts, was der Markt auch nur im Ansatz lösen könnte\", sagt der SPD-Politiker Karl Lauterbach. Die jetzt vom Bundesgesundheitsministerium vorgeschlagenen Maßnahmen hält er für unzureichend. Er fordert die Schaffung einer Bundesagentur, die Firmen in Deutschland mit der Produktion beauftragt. \\n  Ein Team von WDR, NDR und \"Süddeutscher Zeitung\" hat in der vergangenen Woche mit Krankenhäusern, Apotheken, Pflegediensten, Einkaufsgemeinschaften aber auch Produzenten und Händlern von medizinischer Schutzausrüstung gesprochen sowie Angebote und Zertifikate ausgewertet.  Obwohl in China, wo der Großteil der Ausrüstung hergestellt wird, die Produktion wieder angelaufen ist und sogar gesteigert wurde, ist die Versorgungslage in Deutschland dramatisch: Manchen Krankenhäusern geht bereits die Ausrüstung aus, Pflegedienste und Arztpraxen fürchten, ihre Patienten nicht mehr behandeln zu können und ebenfalls in Krankenhäuser überweisen zu müssen. In vielen Einrichtungen näht das medizinische Personal die Atemschutzmasken bereits selbst. \\n  Überall wird die fehlende Koordinierung der Landes- und Bundesregierungen kritisiert. \"Es ist Wildwest. Jeder versucht jetzt, sich zu bereichern, die Not der Krankenhäuser auszunutzen\", sagt Olaf Berse, Geschäftsführer von Clinicpartner, einer bundesweiten Einkaufsgemeinschaft für Krankenhäuser, Alten- und Pflegeeinrichtungen. Die Angebote seien zum Teil regelrecht kriminell. Filter sind nicht funktionsfähig, die Zertifikate gefälscht. Dies gefährde Patienten und Personal, die glauben, geschützt zu sein, obwohl sie es eigentlich nicht sind, sagt Berse.  Auch Michael Dischinger, Leiter des Einkaufes am St.-Antonius-Hospital in Eschweiler, erhält rund 50 Angebote pro Tag, darunter einige, auf denen die chinesischen Produktionsstätten geschwärzt und damit nicht überprüfbar sind. Zertifikate sind aus dem Internet kopiert. Lediglich einmal habe er ein Muster erhalten, die Maske hatte aber nicht einmal einen Herkunftsstempel. \"Das war eine bessere Kaffeefiltertüte mit zwei Gummibändern\".  E-Mails, die Kliniken, Apotheker und Pflegedienste erhalten, sind von Händlern, die vor der Pandemie Kinderspielzeug, Neoprenanzüge oder Modeschmuck aus China importiert haben. Teilweise behaupten sie, \"ehrenamtlich\" helfen zu wollen. Aus China direkt kommen Angebote - natürlich gegen Vorkasse - die in Wahrheit Spam sind. \\n  Die Gewerbeaufsicht in Niedersachsen warnt vor einem \"Fall von Betrug\" durch einen fiktiven Arzneimittelgroßhändler aus Bremen. Die Firma verschicke ein gefälschtes Zertifikat, betroffene Firmen sollen sich an lokale Polizeibehörden wenden. Auch Europol berichtet von einem Betrugsfall, bei dem dringend benötigte Ware für mehr als sechs Millionen Euro in Singapur bestellt, jedoch nie geliefert wurde. Ähnliche Berichte gäbe es aus ganz Europa.  Aber auch seriöse Anbieter können nur zu völlig übersteigerten Preisen liefern: Aus internen E-Mails eines Zwischenhändlers, der in Nordrhein-Westfalen rund 20 Krankenhäuser und Pflegeeinrichtungen beliefert, lässt sich das Ausmaß der Preisexplosion nachvollziehen. Bis Mitte Februar konnte die Firma die hochwertigen FFP2-Atemschutzmasken noch zum Preis von 0,45 Euro pro Stück beziehen. Innerhalb weniger Tage stiegen die Preise erst auf zwei Euro, dann auf mehr als fünf Euro pro Stück.  Zuletzt erfolgte erneut ein drastischer Preisanstieg. Ein Fax eines Pharmagroßhändlers landete bei den Einkäufern der Firma. Darin hieß es: \"Die Nachfrage nach FFP2-Masken ist in den letzten Tagen wieder deutlich gestiegen.\" Um diesem Nachfrageanstieg zu begegnen, habe man \"erhebliche Mengen\" eingekauft. \"Sichern Sie sich Ihre Mengen, bevor diese wieder vergriffen sind.\" Die Masken wurden jetzt zum Preis von 13,52 Euro angeboten - pro Stück. Außerdem: \"Bestellung nur in 10er-Mengen\". \\n  Innerhalb weniger Tage kletterte damit der Einkaufspreis von FFP2-Atemschutzmasken um 3000 Prozent - von 0,45 Euro auf 13,52 Euro. Vor allem die Logistik aus China ist ein Problem. Der Transport ist im Zuge der Pandemie fast zum Erliegen gekommen. Außerdem ist die Versorgungslage in anderen Ländern zum Teil noch verheerender, beispielsweise in Spanien oder den USA. Sie alle konkurrieren um die Schutzausrüstung.  Einkäufer fordern daher die Bereitstellung von Bundeswehrflugzeugen, um große Mengen Schutzausrüstung kurzfristig aus China zu transportieren. Tatsächlich versuchen die Bundesregierung und Gesundheitsminister Jens Spahn in Berlin, die Situation wieder in den Griff zu bekommen. Der Staat kommt aber kaum hinterher. Schutzausrüstung, die an die Bundesländer verteilt wurde, kam offenbar lediglich in geringen Mengen in den Kliniken und Arztpraxen an, benötigt werden Millionen.  An einigen Orten in Deutschland machen diejenigen, die helfen wollen, die Erfahrung, dass Regierungsstellen, die die Beschaffung regeln sollen, nicht erreichbar sind oder auf Angebote nicht antworten. Jetzt stellt die Regierung drei Milliarden Euro zusätzlich für Schutzkleidung, Beatmungsgeräte und anderes mehr bereit. Um die Beschaffung zu beschleunigen, hat Spahn ein sogenanntes Open-House-Verfahren für Masken und Kittel gestartet. Der Staat soll zentral und zu festen Preisen ankaufen - sofern ein Hersteller mindestens 25.000 Masken oder Kittel liefern und einen Mindeststandard garantieren könne.    Verteilt werden soll das Material dann über die Bundesländer und die Kassenärztlichen Vereinigungen. Doch Open-House-Modelle funktionieren eigentlich nur, wenn der Markt funktioniert, das heißt, wenn Angebot und Nachfrage in einer Balance sind. Wenn die Nachfrage - wie derzeit - viel höher ist als das Angebot, hat ein Anbieter eigentlich keinen Grund auf die niedrigeren Open-House-Preise einzugehen, solange er seine Ware an anderer Stelle für ein Vielfaches loswerden kann.  Der SPD-Politiker Lauterbach fordert, dass der Bund auch die Produktion zentral steuern muss, über eine Bundesagentur, die Firmen in Deutschland beauftragt. Aus seiner Sicht könnten so in wenigen Monaten etwa ausreichend Atemschutzmasken hergestellt werden, ohne auf Lieferungen aus dem Ausland angewiesen zu sein.', 'In einem Wolfsburger Pflegeheim sind drei weitere Männer an Covid19 gestorben. Traurige Zahlen meldet Spanien und in Norwegen sollen auch Gesunde getestet werden.  ', 'Fast 125.000 Menschen sind in den USA bereits mit dem Coronavirus infiziert. Der oberste Virologe des Landes befürchtet Millionen Fälle und mehr als 100.000 Tote. Die US-Regierung ringt um ihren Kurs in der Krise.  Der Direktor des Nationalen Instituts für Infektionskrankheiten, Anthony Fauci, rechnet mit Millionen von Corona-Infizierten in den USA. Ausgehend von der aktuellen Lage bestehe die Möglichkeit, dass 100.000 bis 200.000 Menschen in Folge der Pandemie sterben, sagte Fauci dem TV-Sender CNN.  Der angesehene Virologe machte zugleich jedoch deutlich, dass er wenig von Prognosen halte, da man leicht falsch liegen und die Leute in die Irre führen könne. \"Schauen Sie sich einfach die Daten an (...) und sorgen Sie sich nicht um diese Worst-Case- und Best-Case-Szenarien\", sagte Fauci. \"Wir haben ein ernsthaftes Problem in New York, wir haben ein ernsthaftes Problem in New Orleans und wir werden ernsthafte Probleme in anderen Gebieten entwickeln.\" \\n  Ebenfalls auf CNN warf die Demokratin Nancy Pelosi Präsident Donald Trump vor, sein anfängliches Leugnen der Corona-Krise habe zu Todesopfern geführt. \"Während der Präsident herumhantiert, sterben Menschen, und wir müssen Vorsichtsmaßnahmen ergreifen\", sagte die Vorsitzende des US-Repräsentantenhauses.  Konkret müsse es mehr Tests auf das Virus geben, Schulen und Betriebe sollten außerdem nicht voreilig wieder geöffnet werden. Wenn die Pandemie vorüber sei, müsse der Kongress untersuchen, ob Trump bei seiner Reaktion auf den Ausbruch Ratschläge von Wissenschaftlern befolgt habe. \"Was wusste er und wann wusste er es?\", fragte Pelosi.  Trotz der sich zuspitzenden Coronavirus-Krise in den USA hatte der US-Präsident vorerst auf eine weitreichende Abriegelung von Hotspots wie New York verzichtet. \"Eine Quarantäne wird nicht notwendig sein\", schrieb Trump auf Twitter. Zuvor hatte er Überlegungen geäußert, besonders betroffene Landesteile weitgehend abzuschotten.  Mit den noch nicht spruchreifen Aussagen handelte Trump sich prompt Kritik von den Gouverneuren der betroffenen Staaten ein. Der Gouverneur des Bundesstaates New York, Andrew Cuomo, machte deutlich, nicht mit Trump über die Möglichkeit einer Quarantäne gesprochen zu haben, und äußerte Zweifel an der Rechtmäßigkeit einer solchen Maßnahme aus Washington. \"Das würde eine Kriegserklärung an die Staaten sein\", sagte Cuomo.  In der Kritik ist Trump auch, weil er zwischenzeitlich in Aussicht gestellt hatte, die US-Wirtschaft zügig wieder hochzufahren. Darüber werde laut Finanzminister Steven Mnuchin aber rein nach gesundheitlichen Kriterien entschieden. Zwar seien die Arbeitslosenzahlen gestiegen und das Bruttoinlandsprodukt gesunken, aber oberste Priorität habe für den US-Präsidenten die Gesundheit der Öffentlichkeit, sagte Mnuchin den TV-Sendern Fox und CBS.  Er selbst konzentriere sich nun darauf, dass Geld aus dem 2,2 Billionen Dollar starken Konjunkturpaket sofort an Arbeiter und Unternehmen komme. Direkte Geldzahlungen würden Arbeiter in drei Wochen erhalten. Laut Mnuchin soll das Paket der Wirtschaft und der Arbeitnehmerschaft helfen, zehn Wochen auf Kurs zu bleiben. Wenn mehr Zeit gebraucht werde, um das Coronavirus einzudämmen, werde die Regierung denn erneut prüfen, was nötig sei. \\n  Die Zahl der nachweislich mit dem Erreger Sars-CoV-2 infizierten Menschen in den USA liegt nach Angaben der Johns-Hopkins-Universität bei fast 125.000 - in keinem anderen Land der Welt ist die Zahl so hoch. Fast 2200 Menschen sind bereits gestorben.', 'Gegen die Ausbreitung des Coronavirus hat Russlands Präsident Putin eine arbeitsfreie Woche angeordnet. Doch Experten warnen: Die Maßnahme schade weit mehr, als dass sie nutze.  Familie Tipitschew packt die letzten Taschen und Tüten ins Auto. Drei Stunden Fahrt liegen vor ihnen, wenn die Staus nicht allzu schlimm sind. Doch die Staus sind schlimm, das ganze Wochenende schon. Denn wie die Tipitschews scheint ganz Moskau beschlossen zu haben, auf die Datscha zu fahren. Viele Russen haben solche Sommerhäuschen vor der Stadt. Und diesmal lohnt sich die Fahrt: Präsident Wladimir Putin hat vor ein paar Tagen fast dem ganzen Land eine Woche arbeitsfrei verordnet: \"Es ist jetzt wichtig, die schnelle Ausbreitung der Krankheit zu verhindern. Deshalb erkläre ich die kommende Woche für arbeitsfrei - unter Weiterzahlung der Gehälter.\"  Julia Tipitschewa steigt mit einer Freundin, drei Kindern und Hund in ihr vollgepacktes Auto. \"Auf dem Land ist die Luft viel besser, da sind nicht so viele Leute. Da können wir doch wohl hin? Keiner hat es verboten, dass man aufs Land fährt.\"  Genau das ist das Problem. Putin hat zwar ermahnt, verantwortungsbewusst zu handeln, an die Nächsten zu denken - aber das Erlassen von unangenehmen Verboten überlässt er anderen. Er hat dem Volk eine freie Woche beschert - die Städte und Regionen müssen nun sehen, wie sie klarkommen.  Dutzende Flüge sind allein aus Moskau über das Wochenende nach Sotschi ans Schwarze Meer gestartet. Die weitaus meisten der russischen Corona-Infektionen wurden in Moskau registriert - an diesem Wochenende dürfte das Virus wohl in viele andere Gegenden getragen worden sein. Sotschi hat jetzt die Notbremse gezogen: In der arbeitsfreien Woche dürfen keine Betten vermietet werden. Buchungen werden storniert, wer schon angereist ist, wird mit Charterflügen zurückgeschickt. \\n  In St. Petersburg traute sich der Gouverneur sogar, Kirchen zu schließen - und legte sich mit der orthodoxen Kirche an. Die hielt es lange nicht für nötig, die Gottesdienste abzusagen. Erst heute rief Patriarch Kirill die Gläubigen auf, lieber zu Hause zu beten. In vielen großen Kirchen, etwa in der St. Petersburger Isaaks-Kathedrale, wird es aber schnell noch letzte große Gottesdienste geben.  Moskaus Bürgermeister entpuppt sich ebenfalls als mutiger Krisenmanager. Er ließ er alle Parks und Restaurants schließen, erließ Ausgangssperre für Menschen ab 65 und andere unpopuläre Regeln. Schülern und Studenten sperrte er kurzerhand die Monatskarten für Bus und Metro. Auch so kann man Corona-Partys verhindern.  Längst ist klar: Putins Anordnung der freien Woche war derart missverständlich, dass sein Sprecher Dmitri Peskow nachjustieren musste. Gemeint seien nicht Feiertage, sondern es gehe darum, Kontakte zwischen Menschen zu reduzieren. Das alles reiche nicht, glaubt der Ökonomieprofessor Ruben Enikolopow. Er ist einer von 14 führenden Wirtschaftswissenschaftlern, die Putins Maßnahmen in einer Erklärung kritisieren. Man brauche sofort eine strenge Quarantäne - und massive Hilfen für die Wirtschaft. \\n  \"Es wäre richtig, jetzt ehrlich zu sein und zu sagen: Es braucht eine harte Quarantäne, die Leute müssen zu Hause bleiben\", sagt Enikolopow. Stattdessen gebe es diese freie Woche, die dann auch noch von den Betrieben bezahlt werden müsse: \"Der Staat sagt quasi den Unternehmen, sie sollten Corona auf eigene Rechnung bekämpfen.\"  Denn die Unternehmen sollen, so hat es Putin verfügt, trotz Geschäftsausfalls die Löhne und Gehälter weiter zahlen. Dabei balancieren viele jetzt schon am Abgrund. Der Ölpreisverfall und jetzt die Corona-Krise sind ein Doppelschlag, den viele kaum verkraften. Enikolopow fordert schnelle, milliardenschwere Hilfen; das Land könne sich das leisten, und es sei billiger, jetzt angeschlagene Betriebe durchzuziehen, als später ganz von vorn zu beginnen. Tatsächlich ist Russlands Reservefonds ist gut gefüllt. \"Es ist jetzt nicht die Zeit, über ein ausbalancierten Etat nachzudenken. Europa hat das erkannt, wir noch nicht. Man muss an die Reserven, richtig viel ausgeben - sonst schlittern wir in die Katastrophe\", warnt Enikolopow.  Lange hat man, so scheint es, das Virus in Russland nicht ernst genommen. Zwar hat man die 4200 Kilometer lange Landgrenze mit China schnell geschlossen - doch getestet wurde nicht. Auch deshalb wohl verzeichnet Russland noch relativ wenige Infektionen. Auch Putin hat sich erst in der vergangenen Woche das erste Mal ausführlich zum Thema Corona geäußert und die Isolierstation einer Klinik besucht - in knallgelbem Ganzkörperanzug mit einer Art Tauchermaske und Spezialschuhen. Diese Bilder haben ihre Signalwirkung nicht verfehlt: Jetzt sieht man Masken in der Stadt, Leute stehen stundenlang an, um den von einem Privatlabor angebotenen teuren Schnelltest zu machen.  Wer auf die Datscha geflohen ist, ist wohl gut beraten, erstmal dort zu bleiben. Julia Tipitschewas Kinder lernen vor dem Laptop, denn auch in Russland sind die Schulen geschlossen. Julia hat die Bilder aus Italien gesehen, die plötzlich nicht mehr so weit weg wirken. Sie hat Angst um ihren Job, sie ist Managerin bei einer Handelsfirma. Sie wolle nicht in Panik verfallen, sagt sie. Aber ihr sei jetzt klar, dass man das alles sehr ernst nehmen müsse. \\n', 'In Singapur bleibt die Zahl der Corona-Infizierten noch überschaubar. Die SARS-Epidemie 2003 hat dem Land gezeigt, wie solche Situationen zu beherrschen sind, sagen die Virologen.  Singapur verschärft in diesen Tagen noch einmal die Vorsichtsmaßnahmen. Man soll einen Meter Abstand halten - auch vor dem Stand von Street-Food-Köchin Ruifang Li. Doch Kitas, Shopping-Center und Markthallen sind weiterhin geöffnet. Im Gegensatz zu anderen hat Ruifang Li bisher kaum Umsatzeinbußen. Sie hofft, dass es die Stadt schafft, ein bisschen Normalität zu erhalten.  \"Ich glaube, unsere Regierung hat sich gut vorbereitet\", meint Li. \"Wir sind nur ein kleines Land und müssen Notfallpläne in der Tasche haben. Die haben ihre Bestände rechtzeitig aufgestockt und sich auch in den Krankenhäusern auf so eine Pandemie vorbereitet.\" \\n  Singapur ist ein internationales Drehkreuz und hat daher früh reagiert: Schon seit Anfang Februar gilt Code Orange, die zweithöchste Krisenstufe. Extra Putzkolonnen sind im öffentlichen Raum unterwegs und Temperaturchecks werden in vielen Einrichtungen vorgenommen. Ansonsten geht das Leben relativ normal weiter. Erst seit gut einer Woche dürfen keine Besucher mehr ins Land.  Teck Jack Tan ist Arzt in der Public Health Preparedness Clinic -  eine der 900 designierten Arztpraxen und Kliniken der Stadt für Verdachtsfälle. Tans Praxis bekommt jetzt alle zwei Wochen vom Gesundheitsministerium eine neue Ration mit Schutzkleidung. Es gilt, die Patienten, aber auch Krankenschwestern und Ärzte zu schützen.  \"Unsere Rolle ist es, die Patientenströme zu managen und die Krankenhauser zu entlasten\", erzählt Tan. \"Die Leute sollen nicht in die Notaufnahme gehen, sondern zu uns kommen. Wir sind darauf vorbereitet worden, die Erstbetreuung zu übernehmen.\" \\n  In dem brandneuen, erweiterten Nationalen Zentrum für ansteckende Krankheiten sind Patienten, Labore und Forscher unter einem Dach. Singapur bringt seine Infizierten in Einzel-Isolierzimmer mit Eingangsschleuse. Unterdruck und Spezialfilter verhindern, dass kontaminierte Luft nach außen dringt.  \"Seit Jahren haben wir geahnt, dass ein neuer Atemwegsvirus auf uns zukommen kann\", sagt die Chefin des Zentrums, Yee Sin Leo. \"Im Jahr 2003 hatten wir SARS, und seitdem gab es immer wieder Virus-Infektionswellen wie Dengue und 2016 das Zika-Virus. Wir wussten immer, dass es nicht die Frage ist, ob, sondern nur, wann so ein Virus auftaucht. Darauf muss man vorbereitet sein. Sonst bereut man das.\"  Testen, testen, testen - nach eigenen Angaben hat Singapur bisher in Relation zu seiner Bevölkerung so viele Menschen getestet wie kein anderer Staat.  Eine weitere Strategie: die Suche nach Kontaktpersonen von Infizierten. Hier im Gesundheitsministerium arbeiten inzwischen 20 Teams, die von Polizei und Militär unterstützt werden. Es gilt, die Infektionsketten zu unterbrechen.  Dafür wird auch Überwachungstechnik genutzt, wie zum Beispiel Sicherheitskameras, um Erinnerungslücken auf die Spur zu kommen. So kann man recht genau feststellen, mit wem der Infizierte in Kontakt war, und wen das Gesundheitsministerium noch isolieren muss.  Touristen dürfen nicht mehr kommen, doch jeden Tag landen noch etwa 1200 Heimreisende und damit potentiell Infizierte. Sie werden zwei Wochen kostenlos in Hotels untergebracht - wie beispielsweise auf der Ausflugsinsel Sentosa. Das ist dann staatliche Zwangsquarantäne mit Meerblick.    Diesen und andere Beiträge sehen Sie im \"Weltspiegel\" am Sonntag um 19:20 Uhr im Ersten.', 'Durch die landesweite Ausgangssperre sind in Indiens Hauptstadt Delhi Zehntausende Arbeiter arbeitslos und obdachlos geworden. Verzweifelt versuchen sie nun, in ihre Heimatdörfer zu kommen.   Am Stadtrand von Delhi und den Ausfallstraßen der indischen Hauptstadt zum Nachbarbundestaat Uttar Pradesh spielen sich dramatische Szenen ab, seit die Regierung eine landesweite Ausgangssperre verhängt hat. Zehntausende Arbeiter aus anderen Regionen des Landes, die nach der Schließung der Baustellen in der indischen Hauptstadt arbeitslos und obdachlos geworden sind, versuchen verzweifelt, in ihre Heimatdörfer zurückzukehren. \\n  Riesige Menschenmassen machten sich in den vergangenen Tagen zu Fuß auf den Weg, nachdem der öffentliche Personennah- und Fernverkehr wegen der Ausbreitung des Coronavirus eingestellt wurde. Darunter sind vor allem junge männliche Tagelöhner, aber auch Familien, die nach dem vollständigen \"Lockdown\", wie die Ausgangssperre in Indien genannt wird, keine Einkünfte und in vielen Fällen auch kein Dach mehr über dem Kopf haben. \\n  Raju, ein junger Mann aus dem 200 Kilometer entfernten Agra, ist mit dem kleinen Bündel, in das er sein Hab und Gut eingewickelt hatte, zu Fuß auf dem Weg nach Hause. \"Wir haben auf unserer Baustelle zwei Tage lang nichts mehr zu essen bekommen und mussten hungern\", erzählt er. \"Da können wir auch zu unseren Eltern zurückgehen. Denn das dauert hier bestimmt noch mindestens einen Monat. Und solange wir keine Arbeit haben, können wir auch zu Hause sein.\"  Am Busbahnhof in Noida - gleich hinter der Stadtgrenze von Delhi - gibt es ein riesiges Gedränge. Hilflose Polizisten versuchen vergeblich, Ordnung in die Menschenmenge zu bekommen.Trotz der Ausgangssperre sind die Wanderarbeiter zum Busbahnhof gekommen, um vielleicht doch ein Transportmittel in ihre Heimatdörfer zu ergattern.  Ein Arbeiter sagt: \"Wir wissen nicht, was wir machen sollen. Wir haben ein kleines Kind und haben nichts zu essen. Wir müssen nach Budaun in Uttar Pradesh. Aber es fährt kein Bus, deshalb gehen wir jetzt zu Fuß.\"  Und ein anderer beklagt: \"Wir sind Tagelöhner, aber in Delhi gibt es keine Arbeit mehr. Wir haben nichts zu essen und auch kein Geld. Ich habe gerade mal 200 Rupien in meiner Tasche, umgerechnet knapp drei Euro. Wie soll ich denn damit nach Hause kommen?\"  Die Regierung von Uttar Pradesh hat jetzt angekündigt, Busse an die Stadtgrenze zu Delhi zu schicken, um die gestrandeten Menschen abzuholen. Auch die Stadtregierung von Delhi hat Hilfe angekündigt. Medizinische Teams sollen die Passagiere untersuchen, bevor sie in ihre Heimatdörfer gebracht werden. Die Arbeiterinnen und Arbeiter in der indischen Hauptstadt leben meist in einfachen Unterkünften. Ohne Einkünfte können sie ihre Miete nicht mehr bezahlen.  In Indien gibt es inzwischen knapp 900 bestätigte Corona-Fälle, darunter 34 in der Hauptstadt. 24 Menschen sind den Angaben zufolge landesweit an Covid-19 gestorben.', 'Die Kanzlerin bittet in der Corona-Krise um Geduld, doch auch in den eigenen Reihen wächst die Ungeduld. NRW-Ministerpräsident Laschet will jetzt schon über ein Ende der Beschränkungen nachdenken. RKI-Chef Wieler warnt.  In der Diskussion über die Frage, wann und wie die geltenden Ausgangsbeschränkungen zur Eindämmung des Coronavirus gelockert oder aufgehoben werden können, hat sich Nordrhein-Westfalens Ministerpräsident Armin Laschet zu Wort gemeldet: In einem Gastbeitrag für die \"Welt am Sonntag\" widerspricht er seiner Parteifreundin und Bundeskanzlerin Angela Merkel klar und deutlich.  \"Der Satz, es sei zu früh, über eine\\xa0Exit-Strategie\\xa0nachzudenken, ist falsch\", schreibt der CDU-Politiker und Bewerber für den Parteivorsitz.  \"Wir müssen schon jetzt die Zeit in den Blick nehmen, in der die rigiden Maßnahmen erste Wirkung zeigen.\" \\n  Jetzt sei die Zeit, Maßstäbe für die Rückkehr ins soziale und öffentliche Leben zu entwickeln, damit auch diese Entscheidung anhand transparenter Kriterien erfolge. Dafür brauche es einen breiten gesellschaftlichen Konsens, und dieser könne \"nur auf der Grundlage einer intensiven Abwägung aller medizinischen, sozialen, psychologischen, ethischen, wirtschaftlichen und politischen Implikationen\" wachsen. Dieser Prozess wiederum brauche Zeit, so Laschet: \"Damit wir in der Osterzeit die Maßstäbe kennen und den Konsens hergestellt haben, müssen wir jetzt beginnen.\"  Bundeskanzlerin Merkel hatte sich gestern mit einer persönlich gehaltenen Nachricht aus der häuslichen Quarantäne gemeldet. Darin dankte sie den Deutschen, bat sie um Geduld und warnte vor verfrühten Forderungen nach gelockerten Maßnahmen. \\n  Auch Kanzleramtsminister Helge Braun hatte klargestellt, dass es vor dem 20. April keine Lockerung der derzeitigen Einschränkungen geben werde. Der Koalitionspartner unterstützt den Kurs. Co-Chef Norbert Walter-Borjans erklärte gegenüber der Funke-Mediengruppe, \"unser aller Ziel\" sei die schnellstmögliche Rückkehr zur Normalität. \"Aber so weit sind wir noch nicht. Die Bundeskanzlerin hat mit ihrer Mahnung recht. Die Spitze der Infektionswelle steht uns noch bevor.\"  Bundesfinanzminister und Vizekanzler Olaf Scholz lehnte eine wirtschaftlich motivierte Lockerung der Maßnahmen ab. \"Ich wende mich gegen jede dieser zynischen Erwägungen, dass man den Tod von Menschen in Kauf nehmen muss, damit die Wirtschaft läuft\", sagte Scholz der \"Bild am Sonntag\". \"Solche Abwägungen halte ich für unerträglich.\" Ein Abbau der Maßnahmen dürfe nur nach medizinischen, niemals nach ökonomischen Kriterien erfolgen. \"Ich rate allen dringend davon ab, eine Lockerung an wirtschaftliche Fragen zu knüpfen.\" \\n  Vor den verheerenden Folgen der Krise für die Wirtschaft warnte abermals FDP-Chef Christian Lindner. In der Funke-Mediengruppe erneuerte er seine Forderung nach einer Exit-Strategie: \"Der jetzige Zeitpunkt darf keinen Tag länger dauern, als es medizinisch geboten ist. Wir müssen uns intensiv mit der Frage beschäftigen, was nach den Ausgangsbeschränkungen kommt.\" Der jetzige Zustand sei für jeden Einzelnen und für das wirtschaftliche Leben eine große Belastung, so Lindner.  Nach Ansicht von Grünen-Co-Chefin Annalena Baerbock muss Deutschland die kommenden Wochen nutzen, um sein Gesundheitssystem zu stärken. Erst dann könne entschieden werden, wann Einschränkungen gelockert werden könnten. In der \"Frankfurter Allgemeinen Sonntagszeitung\" bekäftigte Baerbock ihre Forderung nach einer \"Pandemie-Wirtschaft\": \"Wenn andere Länder in kürzester Zeit Millionen von Atemschutzmasken produzieren können, dann sollte auch unser Industrieland dazu in der Lage sein.\" \\n  Wie ernst die Lage ist, beschrieb noch einmal der Präsident des Robert Koch-Instituts Lothar Wieler. In der \"Frankfurter Allgemeinen Sonntagszeitung\" warnte er vor Zuständen wie in Italien: \"Wir können nicht ausschließen, dass wir hierzulande ebenfalls mehr Patienten als Beatmungsplätze haben.\" Eine rasche Rückkehr zur Normalität hält Wieler für den falschen Weg aus der Krise. \"Aus medizinischer Sicht möchte ich, dass wir alle die räumliche Distanzierung möglichst lange durchhalten\", sagte er. Deutschland stehe \"immer noch am Anfang der Welle\". Die Menschen müssten die Pandemie \"sehr ernst nehmen\", mahnte der RKI-Chef. \\n', 'Seit Tagen sorgen Aussagen für Aufsehen, wonach das neuartige Coronavirus weniger gefährlich sei als die Grippe. Als vermeintlicher Beleg dient eine Zahl von 25.000 Grippetoten. Doch der Vergleich hinkt.  Die ehemalige CDU-Bundestagsabgeordnete Vera Lengsfeld rief am Samstag auf Twitter dazu auf, eine Online-Petition zu unterzeichnen. Darin wird gefordert, dass alle Maßnahmen gegen die Corona-Pandemie sofort aufgehoben werden müssen. Begründung:  Hier finden sich gleich zwei Ungenauigkeiten: Das neuartige Virus heißt nicht Covid19, sondern trägt den Namen Sars-CoV-2. Die dadurch ausgelöste Krankheit wird Covid19 genannt.  Zudem lassen sich aus den Fallzahlen vom 25. März keine generellen Rückschlüsse ziehen, wie gefährlich Covid19 ist. Experten betonen immer wieder, dass man erst am Anfang der Pandemie stehe - und dass es eine beträchtliche Dunkelziffer bei den Infizierten gebe und sich auch die Zahl der Todesopfer noch dramatisch erhöhen könne. Gleichzeitig könnten die Maßnahmen zur Eindämmung des Virus auch dazu führen, dass die Zahl der Todesopfer in Deutschland vergleichsweise gering bleibt.  Weiter schreiben die Initiatoren - ein Ehepaar aus NRW - der Petition:  Tatsächlich hatte das Robert Koch Institut (RKI) die Zahl der Toten durch die Grippewelle 2017/18 mit rund 25.000 angegeben. Diese Zahl bezog sich aber nicht auf einen Stichtag zu Beginn der Grippewelle, sondern auf einen Zeitraum von mehreren Monaten. Würde man andersherum beispielsweise die bislang mehr als 10.000 italienischen Corona-Toten - Stand 28. März - auf vier Monate hochrechnen, würde man auf weit mehr als 40.000 Tote kommen. Doch solche Rechnungen erscheinen wenig sinnvoll.  Zudem: Die Zahl von 25.000 Grippetoten ist geschätzt. Sie ergibt sich aus der Berechnung der sogenannten Übersterblichkeit. Der Grund ist, dass oft nicht klar ist, ob jemand an einer Grippe oder beispielsweise einer Lungenentzündung gestorben ist. Das gilt insbesondere für Menschen mit Vorerkrankungen und ältere Personen. Das RKI erklärt das Verfahren so:  Weiterhin ist die Zahl von geschätzt 25.000 Grippetoten eine absolute Ausnahme, die Grippewelle 2017/18 war ungewöhnlich heftig. Das RKI betont, so eine hohe Zahl sei sehr selten, in anderen Jahren gab es lediglich einige hundert Fälle. \\n  Ein zentraler Aspekt wird in der Petition zudem gar nicht erwähnt: Gegen Influenzaviren gibt es bei vielen Menschen eine Grundimmunität, zudem stehen Impfstoffe zur Verfügung. Dies ist bei Covid19 nicht der Fall: Weder ist eine nennenswerte Zahl von Personen immun - und durch die fehlenden Gegenmittel sind die Menschen dem Virus schutzlos ausgeliefert.  Sollte sich dieses neuartige Virus ungehindert ausbreiten, könnten sich nach Schätzungen von Experten in relativ kurzer Zeit zwei Drittel der Bevölkerung infizieren. Das wären in Deutschland weit mehr als 50 Millionen Menschen.  Auswertungen aus anderen Ländern zeigen: Bei 80 Prozent der Infizierten verläuft Covid19 relativ leicht, bei rund 15 Prozent schwer und bei weiteren fünf Prozent kritisch. Das heißt: In einem solchen Szenario könnte es mehr als acht Millionen Erkrankte mit schweren und weitere 2,5 Millionen mit kritischen Verläufen geben - und damit mutmaßlich Hunderttausende Todesopfer. Die Krankenhäuser könnten die Versorgung nicht mehr garantieren, was die Sterberate weiter steigen ließe. \\n  Dies ist das \"Worst-Case\"-Szenario, vor dem viele Experten warnen - und daher drastische Maßnahmen gefordert haben, um die Verbreitung zu verlangsamen oder zu begrenzen. Damit sollen insbesondere Risikogruppen geschützt werden. Denn: Ältere Menschen und Personen mit Vorerkrankungen sind besonders gefährdet, schwer an Covid19 zu erkranken. So liegt in Deutschland das Durchschnittsalter der registrierten Infizierten bei ungefähr Mitte 40; das Durchschnittsalter der Verstorbenen hingegen bei über 80 Jahren.  Der Vergleich mit der Grippe und den geschätzt 25.000 Verstorbenen bei der Grippewelle 2017/18 tauchen immer wieder auf. Doch niemand kann derzeit genau sagen, wie sich die Zahl der Infizierten und die Sterberate bei der Corona-Pandemie entwickeln werden. Dabei spielen verschiedene Faktoren eine Rolle. Klar ist aber, dass sich das Virus schnell weltweit ausbreitet und dass Experten übereinstimmend warnen, man  stehe erst am Anfang dieser Pandemie.  Dementsprechend ist es nicht nur unseriös, sondern unverantwortlich, die Zahl der Todesopfer vom Beginn einer Pandemie zu nehmen, mit einer geschätzten Zahl von Verstorbenen einer außergewöhnlich schweren und Monate dauernden Grippewelle zu vergleichen - und auf dieser Basis zu behaupten, das Coronavirus sei eigentlich harmlos. Seriöse Forscher betonen immer wieder, dass man mit Prognosen und Vergleichen zurückhaltend sein müsse.   \\n', 'Zu Hause bleiben, Grenzen dicht, die Wirtschaft im Lockdown - wegen der Corona-Pandemie haben fast alle europäischen Länder ihr öffentliches Leben heruntergefahren. Wie lange gelten die Beschränkungen - ein Überblick.  In Europa leidet Italien besonders unter der Corona-Pandemie. Die Ausgangsbeschränkungen traten bereits am 10. März in Kraft und gelten zunächst einmal bis Freitag, 3. April. Es wird aber erwartet, dass der Lockdown verlängert wird. Wann das geschieht, ist unklar.  In Spanien sollten die Beschränkungen des öffentlichen Lebens ab dem 15. März zunächst zwei Wochen lang gelten. Vergangene Woche wurden sie aber um weitere zwei Wochen bis zum 11. April verlängert. Das wäre der Karsamstag.  Frankreichs Lockdown gilt seit zwölf Tagen - zunächst war er für 15 Tage geplant worden. Am Freitag kündigte Premier Édouard Philippe eine Verlängerung um mindestens 15 weitere Tage an, also bis zum 15. April, das wäre nach Ostern. In Deutschlands Nachbarland dürfen die Bürger nur mehr für wenige Ausnahmen aus der Wohnung oder aus dem Haus. Diese Woche wurden die Bedingungen teils noch einmal verschärft.  In Großbritannien traten vergleichsweise spät - am 23. März - Ausgangsbeschränkungen in Kraft. Sie sollen mindestens für drei Wochen gelten, also bis zum 13. April, dem Ostermontag. Dann will die Regierung die Lage neu bewerten. \\n  Die österreichischen Maßnahmen sind zunächst bis Ostermontag, 13. April, befristet. Die meisten gehen von einer Verlängerung um mindestens eine Woche aus.  In der Schweiz gilt bisher der 19. April als letzter Tag der Beschränkungen.\\xa0 \\n  Ausgangsbeschränkungen gibt es in den Niederlanden seit knapp zwei Wochen - sie wurden am 23. März noch einmal deutlich verschärft. Die Maßnahmen gelten vorläufig bis zum 6. April, das Veranstaltungsverbot sogar bis zum 1. Juni. Über eine mögliche Verlängerung will das Kabinett nächste Woche entscheiden.  In Belgien wurden die am 18. März verhängten Ausgangsbeschränkungen bereits am Freitagabend verlängert: Sie sollen nun mindestens bis 19. April gelten. Ursprünglich waren sie bis 5. April angekündigt worden.  In Tschechien gelten die Ausgangsbeschränkungen für die Bevölkerung zunächst bis zum 1. April - Regierungschef Andrej Babis rechnet aber mit einer Verlängerung bis über Ostern hinaus. Der Ausnahmezustand ist davon unabhängig bis zum 11. April ausgerufen, soll aber nach dem Willen des Ministerpräsidenten um 30 Tage verlängert werden. Darüber entscheidet das Parlament.  Bulgarien hat am 13. März einen einmonatigen Ausnahmezustand verhängt - auch er könnte verlängert werden. Denn der Krisenstab in Sofia geht jetzt von einem Höhepunkt der Covid-19-Erkrankungen um das orthodoxe Osterfest herum am 19. April aus. Ausgangsbeschränkungen wie in anderen Ländern gibt es noch keine.  In Polen müssen die Menschen bis zum 11. April nach Möglichkeit zu Hause bleiben. Die Slowakei hat noch keine allgemeinen Ausgangsbeschränkungen erlassen, in der Öffentlichkeit muss aber ein Mundschutz getragen werden. Ein\\xa0Lockdown nach bayerischem Vorbild ist in Ungarn erst seit diesem Samstag in Kraft. Er gilt zunächst bis zum 11. April. Dann kann er verlängert werden.\\xa0 \\n  In Dänemark und Norwegen gelten die Grenzschließungen und weiteren Maßnahmen bis einschließlich Ostern, also bis zum 13. April. In Finnland sind die Grenzen der Region Uusimaa rund um die\\xa0Hauptstadt Helsinki bis zum 19. April geschlossen, landesweit geltende Maßnahmen haben verschiedene Ablaufdaten in den kommenden Wochen. \\n  Slowenien ist seit dem 20. März im Lockdown. Menschen können aber zur Arbeit gehen, in Apotheken einkaufen oder Sport im Freien machen - sie müssen aber Abstand halten. In Serbien gilt eine Ausgangssperre seit dem 18. März. Seit dem Wochenende ist diese von 13.00 bis 5.00 Uhr in Kraft. Alle Menschen, die älter als 65 Jahre (in ländlichen Gebieten 70 Jahre) sind, müssen rund um die Uhr zuhause bleiben. Kroatien hat Reisen zwischen Städten am 23. März verboten.  Nordmazedonien hat eine Ausgangssperre zwischen 21.00 und 6.00 Uhr verhängt, an Wochenenden zwischen 16.00 und 5.00 Uhr. Es gibt Überlegungen der Behörden in Skopje, Regelungen an bestimmte Altersgruppen anzupassen. Demnach könnten sich alle Menschen, die älter als 67 Jahre sind, nur zwischen 5.00 und 11.00 Uhr im Freien aufhalten. Jüngere Menschen müssten zwischen 21.00 und 12.00 Uhr in ihren Wohnungen bleiben.  Ein Blick über Europas Grenzen zeigt ähnliches: US-weit gilt noch bis Montag eine Richtlinie der Regierung, die etwa vorsieht, dass Ansammlungen mit mehr als zehn Menschen vermieden werden sollen. In den mehreren Bundesstaaten wurden allerdings auch Ausgangsbeschränkungen verhängt. So wurde die Bevölkerung in Kalifornien bereits vor mehr als einer Woche aufgerufen, zu Hause zu bleiben - dies gilt bis auf weiteres. Der Bundesstaat New York hat alle \"nicht lebenswichtigen\" Geschäfte und Dienstleistungen seit dem 22. März bis auf weiteres geschlossen. Die Bürger sind angehalten, weitestgehend zu Hause zu bleiben. In der Hauptstadt Washington gelten ähnliche Maßnahmen zunächst bis zum 24. April.  In der chinesischen Millionenstadt Wuhan, in der die Epidemie Ende Dezember ausgebrochen war, wurde die zweimonatige Komplett-Abriegelung langsam etwas gelockert. Die Einreise in die\\xa0Hauptstadt der Provinz Hubei ist nun wieder erlaubt, das Ausreiseverbot gilt aber noch bis zum 8. April. Der U-Bahn- und Fernverkehr wurde wiederaufgenommen, Einkaufszentren dürfen kommende Woche ihre Pforten öffnen. \\n', 'Wie viele bestätigte Coronavirus-Fälle gibt es derzeit? Die Coronavirus-Karten von tagesschau.de geben einen aktuellen, interaktiven Überblick für Deutschland und die Welt. \\n  Hinweis: Die Zahlen der Coronavirus-Karte für Deutschland basieren auf den Angaben des Robert Koch-Instituts, die einmal pro Tag veröffentlicht werden. \\n  Hinweis: Die Zahlen der Coronavirus-Karte für alle Länder weltweit basiert auf den Angaben der Johns Hopkins University. Durch die verschiedenen Quellen und Aktualisierungszeitpunkte kann es für die Fallzahlen in Deutschland zu Abweichungen von den Zahlen des Robert Koch-Instituts kommen. \\n  Die Angaben der Johns Hopkins Universität und die Zahlen vom Robert Koch-Institut unterscheiden sich oft. Deswegen sind sie aber nicht falsch. Entscheidend ist, wann welche Zahlen gemeldet und wie sie ermittelt werden. \\n', '']\n"
     ]
    }
   ],
   "source": [
    "print(corona_articles)"
   ]
  },
  {
   "cell_type": "code",
   "execution_count": 10,
   "metadata": {},
   "outputs": [
    {
     "data": {
      "text/plain": [
       "11"
      ]
     },
     "execution_count": 10,
     "metadata": {},
     "output_type": "execute_result"
    }
   ],
   "source": [
    "len(corona_articles)"
   ]
  },
  {
   "cell_type": "markdown",
   "metadata": {},
   "source": [
    "### Make into CSV file"
   ]
  },
  {
   "cell_type": "code",
   "execution_count": 11,
   "metadata": {},
   "outputs": [],
   "source": [
    "columns = [\"date\", \"url\", \"article\", \"resort\"]\n",
    "df = pd.DataFrame(columns=columns)\n",
    "df[\"url\"] = corona_links\n",
    "df[\"article\"] = corona_articles\n",
    "df[\"date\"] = todays_date\n",
    "df[\"resort\"] = df[\"url\"].apply(lambda x: x.split(\"/\")[1])"
   ]
  },
  {
   "cell_type": "code",
   "execution_count": 12,
   "metadata": {},
   "outputs": [
    {
     "data": {
      "text/html": [
       "<div>\n",
       "<style scoped>\n",
       "    .dataframe tbody tr th:only-of-type {\n",
       "        vertical-align: middle;\n",
       "    }\n",
       "\n",
       "    .dataframe tbody tr th {\n",
       "        vertical-align: top;\n",
       "    }\n",
       "\n",
       "    .dataframe thead th {\n",
       "        text-align: right;\n",
       "    }\n",
       "</style>\n",
       "<table border=\"1\" class=\"dataframe\">\n",
       "  <thead>\n",
       "    <tr style=\"text-align: right;\">\n",
       "      <th></th>\n",
       "      <th>date</th>\n",
       "      <th>url</th>\n",
       "      <th>article</th>\n",
       "      <th>resort</th>\n",
       "    </tr>\n",
       "  </thead>\n",
       "  <tbody>\n",
       "    <tr>\n",
       "      <th>0</th>\n",
       "      <td>2020-03-29 18:27:02.611348</td>\n",
       "      <td>/inland/masken-coronavirus-101.html</td>\n",
       "      <td>Im Zuge der Corona-Krise versuchen offenbar zu...</td>\n",
       "      <td>inland</td>\n",
       "    </tr>\n",
       "    <tr>\n",
       "      <th>1</th>\n",
       "      <td>2020-03-29 18:27:02.611348</td>\n",
       "      <td>/newsticker/liveblog-corona-sonntag-101.html</td>\n",
       "      <td>In einem Wolfsburger Pflegeheim sind drei weit...</td>\n",
       "      <td>newsticker</td>\n",
       "    </tr>\n",
       "    <tr>\n",
       "      <th>2</th>\n",
       "      <td>2020-03-29 18:27:02.611348</td>\n",
       "      <td>/ausland/usa-coronavirus-fauci-103.html</td>\n",
       "      <td>Fast 125.000 Menschen sind in den USA bereits ...</td>\n",
       "      <td>ausland</td>\n",
       "    </tr>\n",
       "    <tr>\n",
       "      <th>3</th>\n",
       "      <td>2020-03-29 18:27:02.611348</td>\n",
       "      <td>/ausland/corona-putin-russland-101.html</td>\n",
       "      <td>Gegen die Ausbreitung des Coronavirus hat Russ...</td>\n",
       "      <td>ausland</td>\n",
       "    </tr>\n",
       "    <tr>\n",
       "      <th>4</th>\n",
       "      <td>2020-03-29 18:27:02.611348</td>\n",
       "      <td>/ausland/weltspiegel-singapur-corona-101.html</td>\n",
       "      <td>In Singapur bleibt die Zahl der Corona-Infizie...</td>\n",
       "      <td>ausland</td>\n",
       "    </tr>\n",
       "  </tbody>\n",
       "</table>\n",
       "</div>"
      ],
      "text/plain": [
       "                        date                                            url  \\\n",
       "0 2020-03-29 18:27:02.611348            /inland/masken-coronavirus-101.html   \n",
       "1 2020-03-29 18:27:02.611348   /newsticker/liveblog-corona-sonntag-101.html   \n",
       "2 2020-03-29 18:27:02.611348        /ausland/usa-coronavirus-fauci-103.html   \n",
       "3 2020-03-29 18:27:02.611348        /ausland/corona-putin-russland-101.html   \n",
       "4 2020-03-29 18:27:02.611348  /ausland/weltspiegel-singapur-corona-101.html   \n",
       "\n",
       "                                             article      resort  \n",
       "0  Im Zuge der Corona-Krise versuchen offenbar zu...      inland  \n",
       "1  In einem Wolfsburger Pflegeheim sind drei weit...  newsticker  \n",
       "2  Fast 125.000 Menschen sind in den USA bereits ...     ausland  \n",
       "3  Gegen die Ausbreitung des Coronavirus hat Russ...     ausland  \n",
       "4  In Singapur bleibt die Zahl der Corona-Infizie...     ausland  "
      ]
     },
     "execution_count": 12,
     "metadata": {},
     "output_type": "execute_result"
    }
   ],
   "source": [
    "df.head()"
   ]
  },
  {
   "cell_type": "markdown",
   "metadata": {},
   "source": [
    "### Export CSV"
   ]
  },
  {
   "cell_type": "code",
   "execution_count": 13,
   "metadata": {},
   "outputs": [],
   "source": [
    "df.to_csv(\"data/\" + date_stamp)"
   ]
  }
 ],
 "metadata": {
  "kernelspec": {
   "display_name": "Python 3",
   "language": "python",
   "name": "python3"
  },
  "language_info": {
   "codemirror_mode": {
    "name": "ipython",
    "version": 3
   },
   "file_extension": ".py",
   "mimetype": "text/x-python",
   "name": "python",
   "nbconvert_exporter": "python",
   "pygments_lexer": "ipython3",
   "version": "3.6.5"
  }
 },
 "nbformat": 4,
 "nbformat_minor": 2
}
