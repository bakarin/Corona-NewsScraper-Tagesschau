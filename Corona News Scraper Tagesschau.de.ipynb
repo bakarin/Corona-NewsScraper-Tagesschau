{
 "cells": [
  {
   "cell_type": "markdown",
   "metadata": {},
   "source": [
    "## Corona-News Scraper from Tagesschau.de"
   ]
  },
  {
   "cell_type": "code",
   "execution_count": 41,
   "metadata": {},
   "outputs": [],
   "source": [
    "import re\n",
    "import requests\n",
    "from bs4 import BeautifulSoup\n",
    "\n",
    "import datetime\n",
    "import pandas as pd"
   ]
  },
  {
   "cell_type": "code",
   "execution_count": 42,
   "metadata": {},
   "outputs": [],
   "source": [
    "todays_date = datetime.datetime.now()\n",
    "date_stamp = str(todays_date.date())"
   ]
  },
  {
   "cell_type": "code",
   "execution_count": 43,
   "metadata": {},
   "outputs": [],
   "source": [
    "r = requests.get('https://www.tagesschau.de/')\n",
    "soup = BeautifulSoup(r.text, \"html5lib\")"
   ]
  },
  {
   "cell_type": "markdown",
   "metadata": {},
   "source": [
    "### Parse Tagesschau.de homepage for new articles"
   ]
  },
  {
   "cell_type": "code",
   "execution_count": 44,
   "metadata": {},
   "outputs": [],
   "source": [
    "headlines = []\n",
    "dachzeilen = []\n",
    "teasers = []\n",
    "links = []\n",
    "texts = []\n",
    "a = soup.find_all('a')\n",
    "for item in a:\n",
    "    if item.find('p', class_='dachzeile'):\n",
    "        links.append(item.get('href'))\n",
    "        texts.append(item.get_text())"
   ]
  },
  {
   "cell_type": "code",
   "execution_count": 45,
   "metadata": {},
   "outputs": [
    {
     "name": "stdout",
     "output_type": "stream",
     "text": [
      "\n",
      "Coronavirus\n",
      "Mehr Infektionen bei medizinischem Personal\n",
      "Rund 6400 Ärzte und Pflegekräfte haben sich in Deutschland mit dem Coronavirus infiziert, acht sind bereits gestorben. Nicht alle Fälle sind bisher erfasst - laut NDR, WDR und SZ gibt es zudem eine große Dunkelziffer in der Altenpflege.\n",
      "| mehr\n",
      "\n",
      "\n",
      "/investigativ/ndr/corona-aerzte-pflegekraefte-101.html\n"
     ]
    }
   ],
   "source": [
    "# check the first text / link\n",
    "print(texts[0])\n",
    "\n",
    "print(links[0])\n"
   ]
  },
  {
   "cell_type": "markdown",
   "metadata": {},
   "source": [
    "### Check which articles on the homepage are about the Corona virus"
   ]
  },
  {
   "cell_type": "code",
   "execution_count": 46,
   "metadata": {},
   "outputs": [],
   "source": [
    "# corona, covid19, coronavirus\n",
    "corona_links = []\n",
    "corona_texts = []\n",
    "for i in range(len(texts)):\n",
    "    if (\"corona\" in texts[i].lower()) | (\"covid\" in texts[i].lower()):\n",
    "        if links[i].startswith(\"/\"):\n",
    "            corona_links.append(links[i])\n",
    "            corona_texts.append(texts[i])"
   ]
  },
  {
   "cell_type": "code",
   "execution_count": 47,
   "metadata": {},
   "outputs": [
    {
     "name": "stdout",
     "output_type": "stream",
     "text": [
      "['/investigativ/ndr/corona-aerzte-pflegekraefte-101.html', '/inland/bund-laender-beschluss-uebersicht-101.html', '/newsticker/liveblog-coronavirus-donnerstag-103.html', '/inland/krankenhaeuser-op-101.html', '/inland/interview-corona-pflegeheime-101.html', '/inland/corona-demonstrationsrecht-101.html', '/wirtschaft/standards-arbeitsplatz-kabinett-101.html', '/investigativ/swr/facebook-corona-103.html', '/ausland/siegesparade-russland-101.html', '/ausland/straferleichterungen-tuerkei-101.html', '/wirtschaft/boerse/arbeitslosigkeit-usa-103.html', '/ausland/grossbritannien-massnahmen-101.html', '/faktenfinder/coronavirus-wuhan-labor-101.html', '/ausland/kindersterblichkeit-corona-101.html', '/ausland/griechenland-fluechtlinge-243.html', '/ausland/seenotrettung-mittelmeer-107.html', '/ausland/coronavirus-karten-101.html']\n",
      "\n",
      "['\\nCoronavirus\\nMehr Infektionen bei medizinischem Personal\\nRund 6400 Ärzte und Pflegekräfte haben sich in Deutschland mit dem Coronavirus infiziert, acht sind bereits gestorben. Nicht alle Fälle sind bisher erfasst - laut NDR, WDR und SZ gibt es zudem eine große Dunkelziffer in der Altenpflege.\\n|\\xa0mehr\\n\\n', '\\nCorona-Maßnahmen\\nWelches Bundesland regelt was wie?\\nDie Länderchefs haben mit der Kanzlerin zwar Eckpunkte für Regeln zur Eindämmung der Corona-Pandemie beschlossen. Doch bei der Umsetzung nutzt jedes Bundesland eigene Spielräume. Eine Übersicht von Iris Marx.\\n|\\xa0mehr\\n\\n', '\\nCoronavirus-Liveblog\\n++ Länder gehen Sonderwege im Einzelhandel  ++\\nDie Länderregierungen legen den Bund-Länder-Beschluss zum 800-Quadratmeter-Limit bei Verkaufsflächen unterschiedlich aus. Großbritannien verlängert seine Ausgangssperre, Polen will die Regeln schnell lockern. Die Entwicklungen im Liveblog.\\n|\\xa0mehr\\n\\n', '\\nCorona-Pandemie\\nKrankenhäuser fordern Rückkehr zum Normalbetrieb\\n150.000 Betten auf Normalstationen sind derzeit frei. Die Krankenhäuser fordern deshalb eine Rückkehr zum Normalbetrieb. Sie wollen die wegen der Corona-Pandemie aufgeschobenen Operationen nachholen.\\n|\\xa0mehr\\n\\n', '\\nCorona und Ältere\\n\"Monatelange Isolierung ist unzumutbar\"\\nGerade ältere Menschen in Pflegeheimen treffen die Corona-Maßnahmen besonders hart. Für sie brauche es Wege, wie Besuche wieder stattfinden könnten, sagt VdK-Präsidentin Bentele im Interview mit tagesschau.de.\\n|\\xa0mehr\\n\\n', '\\nBundesverfassungsgericht\\nKein generelles Demonstrationsverbot\\nDie Corona-Maßnahmen schränken zahlreiche Grundrechte stark ein, so auch die Versammlungsfreiheit. Was, wenn man dagegen demonstrieren will? Das muss grundsätzlich möglich sein, meint das Bundesverfassungsgericht. Von Klaus Hempel.\\n|\\xa0mehr\\n\\n', '\\nArbeitsschutzstandards beschlossen\\n\"Niemals krank zur Arbeit\"\\nVor der geplanten schrittweisen Öffnung der Geschäfte hat die Bundesregierung bundesweite, einheitliche Arbeitsschutzregeln beschlossen. Damit sollen Arbeitnehmer vor einer Ansteckung mit dem Coronavirus bewahrt werden.  |\\xa0mehr\\n', '\\nCorona in sozialen Medien\\nFacebook verstärkt Kampf gegen Fake News\\nFacebook gibt heute neue Funktionen zur Eindämmung von Fake News bekannt und reagiert damit nach SWR-Recherchen auch auf Kritik von Netzaktivisten. Experten warnen vor politischer Einflussnahme. Von M. Görz und M. Kolvenbach.\\n|\\xa0mehr\\n\\n', '\\nCorona-Krise in Russland\\nPutin verschiebt Siegesparade\\nDie traditionelle Siegesparade auf dem Roten Platz in Moskau wird wegen der Corona-Pandemie nicht am 9. Mai stattfinden. Nach langem Zögern entschied das nun der russische Präsident Putin.\\n|\\xa0mehr\\n\\n', '\\nCorona-Krise in der Türkei\\nSogar Mafia-Bosse kamen frei\\nIn der Türkei wächst die Kritik an einem Amnestie-Gesetz. Wegen der Corona-Krise hatte die Regierung entschieden, 90.000 Gefangene freizulassen. Oppositionelle waren kaum darunter, aber Mafia-Bosse. Von Oliver Mayer-Rüth.\\n|\\xa0mehr\\n\\n', '\\nCoronakrise in den USA\\n22 Millionen Arbeitslose in vier Wochen\\nDie Corona-Krise sorgt für einen dramatischen Einbruch der US-Wirtschaft. Zu spüren ist das auf dem Arbeitsmarkt. Innerhalb eines Monats verloren mehr als 22 Millionen Menschen ihren Job.\\n|\\xa0mehr\\n\\n', '\\nCorona in Großbritannien\\nEinschränkungen um Wochen verlängert\\nIn Großbritannien ist keine Lockerung der Einschränkungen in Sicht: Um mindestens drei Wochen hat die Regierung die Maßnahmen verlängert. Neue Zahlen geben wenig Anlass zu Optimismus.\\n|\\xa0mehr\\n\\n', '\\nUrsprung des Coronavirus\\nSpekulationen über Bio-Labor in Wuhan\\nIn den USA wird zunehmend über den Ursprung des Coronavirus spekuliert. Einige Indizien weisen in Richtung eines Bio-Labors in Wuhan. Doch Beweise gibt es keine.  Von Patrick Gensing und Silvia Stöber.\\n|\\xa0mehr\\n\\n', '\\nUN-Bericht zu Corona\\nHunderttausende Kinder in Gefahr\\nHunderttausende Kinder sind wegen der Folgen der Corona-Pandemie weltweit in akuter Gefahr. Laut UN-Generalsekretär Guterres könnten sie in ihren Familien nicht mehr richtig versorgt werden.\\n|\\xa0mehr\\n\\n', '\\nAngst vor Corona-Ausbruch\\nAthen bringt Flüchtlinge aufs Festland\\nDie Angst vor einem Corona-Ausbruch in den überfüllten Lagern auf den griechischen Inseln ist groß. Zum Schutz der Flüchtlinge und Inselbewohner sollen nun mehr als 2000 ältere und vorerkrankte Menschen aufs Festland gebracht werden.\\n|\\xa0mehr\\n\\n', '\\nRettungsschiff vor Italien\\nErste Migranten verlassen \"Alan Kurdi\"\\nWegen der Corona-Pandemie soll das Rettungsschiff \"Alan Kurdi\" nicht in Italien anlegen. Drei von 149 Migranten durften nun von Bord gehen. Unter den restlichen Wartenden wächst die Verzweiflung.\\n|\\xa0mehr\\n\\n', '\\nKarten mit Fallzahlen\\nWo sich das Coronavirus ausbreitet\\nWie viele bestätigte Coronavirus-Fälle gibt es? Die interaktiven Karten geben einen aktuellen Überblick für Deutschland und die Welt. Sie zeigen auch an, wie viele Menschen gestorben und wie viele genesen sind.  |\\xa0mehr\\n']\n"
     ]
    }
   ],
   "source": [
    "print(corona_links)\n",
    "print(\"\")\n",
    "print(corona_texts)"
   ]
  },
  {
   "cell_type": "markdown",
   "metadata": {},
   "source": [
    "### Get full article for each news about corona virus"
   ]
  },
  {
   "cell_type": "code",
   "execution_count": 48,
   "metadata": {},
   "outputs": [
    {
     "name": "stdout",
     "output_type": "stream",
     "text": [
      "https://www.tagesschau.de/investigativ/ndr/corona-aerzte-pflegekraefte-101.html\n",
      "https://www.tagesschau.de/inland/bund-laender-beschluss-uebersicht-101.html\n",
      "https://www.tagesschau.de/newsticker/liveblog-coronavirus-donnerstag-103.html\n",
      "https://www.tagesschau.de/inland/krankenhaeuser-op-101.html\n",
      "https://www.tagesschau.de/inland/interview-corona-pflegeheime-101.html\n",
      "https://www.tagesschau.de/inland/corona-demonstrationsrecht-101.html\n",
      "https://www.tagesschau.de/wirtschaft/standards-arbeitsplatz-kabinett-101.html\n",
      "https://www.tagesschau.de/investigativ/swr/facebook-corona-103.html\n",
      "https://www.tagesschau.de/ausland/siegesparade-russland-101.html\n",
      "https://www.tagesschau.de/ausland/straferleichterungen-tuerkei-101.html\n",
      "https://www.tagesschau.de/wirtschaft/boerse/arbeitslosigkeit-usa-103.html\n",
      "https://www.tagesschau.de/ausland/grossbritannien-massnahmen-101.html\n",
      "https://www.tagesschau.de/faktenfinder/coronavirus-wuhan-labor-101.html\n",
      "https://www.tagesschau.de/ausland/kindersterblichkeit-corona-101.html\n",
      "https://www.tagesschau.de/ausland/griechenland-fluechtlinge-243.html\n",
      "https://www.tagesschau.de/ausland/seenotrettung-mittelmeer-107.html\n",
      "https://www.tagesschau.de/ausland/coronavirus-karten-101.html\n"
     ]
    }
   ],
   "source": [
    "corona_articles = []\n",
    "for link in corona_links:\n",
    "    full_link = \"https://www.tagesschau.de\" + link\n",
    "    print(full_link)\n",
    "    html = requests.get(full_link)\n",
    "    sub_soup = BeautifulSoup(html.text, \"html5lib\")\n",
    "    article = sub_soup.find_all('p', class_='text small')\n",
    "    paragraphs = []\n",
    "    for i in range(len(article)):\n",
    "        paragraphs.append(article[i].get_text())\n",
    "    # unifying the paragraphs\n",
    "    final_article = \" \".join(paragraphs)\n",
    "    corona_articles.append(final_article)\n",
    "    "
   ]
  },
  {
   "cell_type": "code",
   "execution_count": 49,
   "metadata": {},
   "outputs": [
    {
     "name": "stdout",
     "output_type": "stream",
     "text": [
      "['Rund 6400 Ärzte und Pflegekräfte haben sich in Deutschland mit dem Coronavirus infiziert, acht sind bereits gestorben. Nicht alle Fälle sind bisher erfasst - laut NDR, WDR und SZ gibt es zudem eine große Dunkelziffer in der Altenpflege.  Von Antonius Kempmann, Reiko Pinkert, NDR, und Martin Kaul, WDR  6395 Mitarbeiterinnen und Mitarbeiter in Krankenhäusern und Arztpraxen sind in Deutschland mit dem Coronavirus infiziert, acht von ihnen sind bereits verstorben. Das meldet das Robert Koch-Institut (RKI) in seinem Lagebericht vom Donnerstag. Damit hat sich die Zahl der gemeldeten Infektionen in dieser Berufsgruppe innerhalb der letzten zwei Wochen beinahe verdreifacht.  Vor zwei Wochen hatte das RKI erstmals die Zahl von 2300 infizierten Klinikmitarbeitern bekannt gegeben, gleichzeitig aber darauf hingewiesen, dass es eine Dunkelziffer gebe, weil manche Gesundheitsämter aus Kapazitätsgründen auf die Berufsgruppe bezogene Zahlen nicht weiterleiteten.  Eine von NDR, WDR und \"Süddeutscher Zeitung\" (SZ) durchgeführte Abfrage unter allen rund 400 Gesundheitsämtern in Deutschland hatte große Meldelücken offenbart. Mehrere Gesundheitsämter gaben an, aufgrund von Arbeitsbelastung die Berufe der Erkrankten nicht zu erfassen oder nicht melden zu können, andere teilten mit, die Berufe generell nicht zu erfassen.  Ein zentrales Melderegister für infiziertes medizinisches Personal existiert in Deutschland nicht. \\n  Dabei ist die Rechtslage eindeutig: Wenn sich medizinisches Personal mit Covid-19 infiziert, muss dies laut Infektionsschutzgesetz dem örtlichen Gesundheitsamt gemeldet werden. Dies gilt beispielsweise für Mitarbeiter von Krankenhäusern, ärztlichen Praxen, Dialyseeinrichtungen, ambulanten Pflegediensten und Rettungsdiensten.  Mittlerweile heißt es aus dem Robert Koch-Institut, mehr als 80 Prozent der Gesundheitsämter meldeten die Berufe nun. Von den heute gemeldeten 6395 Infizierten in medizinischen Berufen seien drei von vier weiblich, das Durchschnittsalter betrage 42 Jahre, so das RKI. Dennoch ist nach wie vor von einer Dunkelziffer auszugehen. \\n  Auch in den einzelnen Bundesländern scheint die steigende Zahl der Infizierten in den medizinischen Berufen nun vermehrt Beachtung zu finden.  Während es vor zwei Wochen noch in neun Bundesländern auf Anfrage hieß, man könne zu Infektionen von medizinischem Fachpersonal keine Angaben machen, und drei Gesundheitsministerien gar nicht antworteten, erfassen mittlerweile elf von 16 Ländern diese Zahlen. Dies ergab eine neue Umfrage des NDR bei den einzelnen Bundesländern.  Spitzenreiter bei den Infektionen unter medizinischem Personal ist Baden-Württemberg mit aktuell 1200 infizierten Personen aus medizinischen Einrichtungen. Vor zwei Wochen waren es dort noch 566 Personen. Damit steigt die Zahl der infizierten Klinikmitarbeiter dort schneller als in der Gesamtbevölkerung.  In Sachsen-Anhalt dagegen gibt es nach Auskunft des zuständigen Gesundheitsministeriums nur 137 infizierte Ärzte und Pfleger. Doch in dem Bundesland gibt es umgerechnet auf 100.000 Einwohner auch nur ein Viertel der Corona-Infizierten von Baden-Württemberg. \\n  Andere Länder in Europa wie etwa Großbritannien, Spanien und Italien erfassen die Zahl der betroffenen Mediziner und Pflegekräfte anders als Deutschland zentral. Zuletzt war hierzulande auch Kritik laut geworden, dass es keine verlässlichen Zahlen gibt. Vertreter des Marburger Bundes, der Landesärztekammer und Verbände forderten, auch in Deutschland die Erfassung von Infizierten im Gesundheitsbereich ernster zu nehmen und belastbare Zahlen zu erheben.  In Deutschland ist wenig über das Schicksal der verstorbenen Mediziner bekannt. In Baden-Baden starb Anfang April ein Hausarzt an den Folgen einer Covid-19-Erkrankung, er litt an Diabetes. In Italien hingegen veröffentlicht der nationale Ärzteverband FNOMCeO die Liste der verstorbenen Ärztinnen und Ärzte im Internet. Dort sind bereits die Namen von 121 Medizinerinnen und Medizinern verzeichnet.  \\xa0Noch weniger als über Klinikbeschäftigte weiß man in Deutschland über die Anzahl bereits infizierter Altenpflegerinnen und Altenpfleger. Auch diese Zahl wird nicht zentral erfasst. Vor zwei Wochen hatte etwa Nordrhein-Westfalen mitgeteilt, dass dort im stationären und ambulanten Bereich 322 Altenpflegekräfte infiziert seien, 1485 weitere befänden sich in Quarantäne. Nun sind es bereits 1098 infizierte Altenpflegekräfte und weitere 2094, die in Quarantäne seien.  Die Tendenz hier ist also ebenfalls alarmierend.', 'Die Länderchefs haben mit der Kanzlerin zwar Eckpunkte für Regeln zur Eindämmung der Corona-Pandemie beschlossen. Doch bei der Umsetzung nutzt jedes Bundesland eigene Spielräume. Eine Übersicht.  Die einen nennen es Flickenteppich, die anderen Föderalismus. Die Bundesländer dürfen grundsätzlich in bestimmten Angelegenheiten selbst entscheiden, was sie gegen die Ausbreitung der Corona-Pandemie tun wollen. Vor allem der Bildungsbereich gilt nach dem Grundgesetz als ureigene Länderangelegenheit. Zwar betonen die einzelnen Regierungschefs, in grundlegenden Fragen einheitlich vorzugehen - aber sie nutzen Spielräume. Diese ergeben sich beispielsweise aus der Grenznähe eines Bundeslandes wie etwa Bayern zu Österreich oder unterschiedlichen Regelungen im Bildungsbereich.  Weitgehend Einigkeit herrscht aber bei den Geschäftsöffnungen bis 800 Quadratmeter, den Frisören ab dem 4. Mai und dem Verbot von Großveranstaltungen bis zum 31. August.  Auch das Tragen von Masken wird zumindest in Bussen und Bahnen sowie beim Einkauf empfohlen. Die meisten Bundesländer haben schon mit der Umsetzung der Beschlüsse vom Mittwoch begonnen. Hier die bisher bekannten Regelungen im Überblick: \\n  Am 4. Mai werden die Schulen für die Abschlussklassen wieder geöffnet. Die Kitas bleiben wegen des hohen Infektionsrisikos geschlossen - obwohl \"die Wünsche hier besonders groß sind\", sagte Ministerpräsident Winfried Kretschmann. Er möchte gern das Verbot für Gottesdienste schnell aufheben, damit diese wieder stattfinden können.  Bayerns Ministerpräsident Markus Söder kündigte an, dass die Schulen erst ab dem 11. Mai wieder starten sollen. Grund sei der spätere Ferienbeginn. Söder verwies auch auf andere Infektionszahlen in seinem Bundesland: \"Wir sind mehr betroffen als andere\" und \"wir wollen keinen übereilten Exit\". Aber Prüfungen und Prüfungsvorbereitungen starten bereits am 27. April. Die Ausgangssperren werden in Bayern bis zum 4. Mai verlängert. Ab dem 20. April werden zunächst die Baumärkte wieder öffnen.  Geschlossen bleiben auch hier Einkaufszentren ebenso wie Gastronomie und Hotels. Vielleicht werde es zum Sommer hin eine Entspannung geben. Zum Oktoberfest sagte Söder: \"Das halte ich für unrealistisch.\" Er empfiehlt das Tragen sogenannter Community-Masken im öffentlichen Personennahverkehr. Die gebe es übrigens auch in den bayerischen Landesfarben, scherzte Söder. Eine Maskenpflicht werde noch geprüft.  Der rot-rot-grüne Senat hat in einer Sondersitzung das weitere Vorgehen besprochen. Alle bisherigen Maßnahmen, die in Berlin gelten, werden um eine Woche verlängert. Erst nächsten Dienstag möchte der Berliner Senat eine neue Rechtsverordnung vorlegen. Es sei noch nicht ganz klar, welche Vorgaben der Bund-Länder-Beschlüsse einfach umgesetzt werden können und wo Berlin noch größeren Anpassungsbedarf sieht.  Schul- und Bildungssenatorin Sandra Scheeres machte klar: Die Abiturprüfungen würden wie geplant ab nächsten Montag starten. Zum Thema Kinderbetreuung sagte sie, dass bereits am 27. April die Notbetreuung in Kitas und Schulen für weitere systemrelevante Berufsgruppen geöffnet werde. Auch die Alleinerziehenden haben wohl künftig einen Anspruch darauf. In einer weiteren Phase sollen dann alle Vorschulkinder wieder in die Kita dürfen. \\n  \"Wir sind nach wie vor weit von Normalität entfernt\", sagte Ministerpräsident Dietmar Woidke. Eine große Herausforderung werde sein, die hohen Hygienestandards, die etwa im Schulbereich vorgegeben werden, zu erfüllen. Auch hier sollen, entsprechend dem Beschluss vom Mittwoch, die Schulen in den Abschlussjahrgängen schrittweise ab dem 4. Mai wieder anlaufen. Eine Öffnung der Kitas steht hier erstmal nicht zur Debatte. Der grüne Koalitionspartner der SPD findet, dass die Lockerungen \"an manchen Stellen etwas mutiger hätten ausfallen können\". Brandenburgs Gesundheitsministerin Ursula Nonnemacher sagte,  man wolle sich aber eng mit der Berliner Landesregierung abstimmen.  Das Land Bremen hat angekündigt,  in den nächsten Tagen eine konkrete Umsetzung der Regeln zur Eindämmung der Corona-Pandemie vorzustellen. Details sind noch nicht bekannt. \\n  Hamburgs Erster Bürgermeister Peter Tschentscher hatte sich bereits am Mittwochabend gemeinsam mit Bundeskanzlerin Angela Merkel zu den Beschlüssen geäußert. Eine konkrete Rechtsverordnung ist noch nicht vorgelegt worden. Diese werde am Freitag im Anschluss an die Senatssitzung vorgestellt, hieß es auf Anfrage.  Der Schulunterricht startet schrittweise ab dem 27. April. Die Klassen werden auf eine maximale Größe von 15 Schülerinnen und Schülern verkleinert. Die zentralen Haupt- und Realschulprüfungen finden vom 25. bis 29. Mai statt. Kindertagesstätten bleiben geschlossen. Einen Anspruch auf Kinderbetreuung erhalten ab dem 20. April auch alleinerziehende Berufstätige. Das Kontakt- und Besuchsverbot in Alten- und Pflegeeinrichtungen bleibt zunächst bestehen.  Die hessische Stadt Hanau hat eine Maskenpflicht angekündigt. \"Die dringende Empfehlung der Bundes- und Landesregierung, sich mit einem Mund-Nasen-Schutz verantwortungsbewusst und rücksichtsvoll in der Öffentlichkeit zu verhalten, haben wir dahingehend erweitert, dass ab Montag in Hanau jeder, der ein Ladengeschäft betritt, eine solche Behelfs- oder Alltagsmaske tragen muss\", teilte Oberbürgermeister Claus Kaminsky laut dpa mit. Diese Maskenpflicht solle auch im Öffentlichen Personennahverkehr gelten.  Mecklenburg-Vorpommern hält weiterhin am Einreiseverbot für Touristen im Zuge der Corona-Pandemie fest. Die bestehende Regelung werde zunächst bis zum 3. Mai verlängert, sagte Ministerpräsidentin Manuela Schwesig. Alle weiteren Konkretisierungen der Bund-Länder-Beschlüsse würden noch beraten und anschließend veröffentlicht. \\n  Ministerpräsident Stephan Weil (SPD) bittet Kinder und Jugendliche noch um etwas Geduld. \"Ich kann mir vorstellen, dass viele von euch froh wären, wenn Kitas und Schulen schon bald wieder öffnen würden. Leider werden wir aber erst in zweieinhalb Wochen mit einigen wenigen Klassenstufen beginnen können, und die Kleineren müssen länger warten als die Größeren\", schreibt er auf dem Internetportal der Landesregierung.  Die Kitas werden hier schneller aufgemacht, damit Eltern nicht in die Verlegenheit geraten, ihre Kinder an die besonders verletzlichen Großeltern zu geben, hieß es heute in Düsseldorf. Für zehn Prozent der Kinder soll es Plätze in der Notbetreuung geben. Wer davon profitieren kann, soll am Freitag präzisiert werden. Die Schulen öffnen in Nordrhein-Westfalen wieder am 20. April.  Aber in den ersten drei Tagen gehe es um organisatorische und hygienische Maßnahmen, die nun geschaffen werden müssten, sagte Bildungsministerin Yvonne Gebauer. Ab Donnerstag gehen dann die ersten Schüler wieder in die Schule, um sich auf ihre Prüfungen vorzubereiten - knapp 150.000 insgesamt. Die 4. Klassen dürfen am 4. Mai folgen. \\n  In Mainz arbeitet das Gesundheitsministerium noch an einer konkretisierenden Rechtsverordnung. Spätestens am Freitag solle diese vorgelegt werden. Bei den Schulen zeichnet sich allerdings schon ab, dass diese ab dem 27. April wieder beginnen sollen.  Am Freitag wird Sachsen seine aktualisierte Rechtsverordnung vorlegen, die vorerst bis zum 3. Mai in Kraft bleiben soll. Ein konkretes Datum gibt es bereits für den Schulstart. Ab dem 20./21. April sollen Lehrer in den Schulen einen Sonderlehrplan entwickeln. Am 22. April sollen die ersten Schüler der Abschlussklassen wieder direkt unterrichtet werden. Abiturienten können sich auch schon ab dem 20. April an die Schulen wenden. Der nächste Termin ist, ähnlich wie in den anderen Bundesländern, der 4. Mai. Wie es mit den Kindergärten weitergeht, ist noch offen.  Hier sollen die Prüfungsjahrgänge am Donnerstag, 23. April, mit den Prüfungsvorbereitungen beginnen. Ab 4. Mai sollen die Abschlussjahrgänge wieder einen regelmäßigen Schulbetrieb haben, mit den noch umzusetzenden Einschränkungen. Das Semester an der Uni solle als \"Digitalsemester\" organisiert werden, sagte Armin Willingmann, Wirtschafts- und Wissenschaftsminister. In wirtschaftlichen Fragen orientiert sich Sachsen-Anhalt an den Bund-Länder-Beschlüssen.  Auch im Saarland bleiben die Kontaktbeschränkungen bis einschließlich 3. Mai bestehen. Allerdings dürfen ab dem 20. April kleinere Geschäfte und Bibliotheken wieder öffnen. Großveranstaltungen bleiben bis zum 31. August untersagt. Lockerungen gibt es für Psychotherapeuten. Gerade in der Krise sei dies wichtig, sagte Saarlands Ministerpräsident Tobias Hans. \"Was die Schulen betrifft, so fassen wir ab dem 4. Mai schrittweise Öffnungen ins Auge\", sagte Hans. Auch hier geht es mit den oberen Stufen los. Er wolle aber bei der Benotung durchaus berücksichtigen, dass es für die Schüler kein normales Schuljahr werden wird. Das Saarland hatte seine Grenze zu Frankreich besonders gesichert. Einen konkreten Termin, wann die Grenze wieder geöffnet wird, nannte die Landesregierung noch nicht. \\n  Veranstaltungen mit bis zu 1000 Teilnehmern sollen schrittweise erlaubt werden. Ministerpräsident Daniel Günther sagte, dass eine entsprechende Verordnung bis zum 30. April erarbeitet und nach dem 3. Mai umgesetzt werden soll. Er betonte, dass es definitiv nicht gleich vom 4. Mai an Veranstaltungen mit 1000 Besuchern geben werde.  Kleinere Geschäfte und Tierparks dürfen ab Montag öffnen - ausgeschlossen davon ist die Gastronomie. Die Notfallbetreuung in den Schulen- und Kindertagesstätten soll ausgeweitet werden. Es sollen weitere Berufsgruppen sowie Alleinerziehende aufgenommen werden. Die Schulen werden in den Prüfungsjahrgängen schon vor dem 4. Mai starten. Danach komme die 4. Klasse der Grundschulen.  Touristen sollen in einem dreistufigen Verfahren wieder ins Land dürfen - allerdings gibt es dafür noch kein Datum.  Die Staatskanzlei Thüringen orientiert sich ebenfalls stark an den gemeinsam gefassten Beschlüssen. Jedoch ist vor allem im Bildungsbereich schon ein konkreter Fahrplan gefasst. Die ersten Schüler erhalten ab dem 27. April vereinzelt wieder Unterricht in den Schulen. Dann soll in Stufen bis zum 2. Juni wieder Präsenzunterricht an allen Schulen möglich sein. Die Kindertagesbetreuung soll schon im Mai schrittweise wieder öffnen.', 'Die Länderregierungen legen den Bund-Länder-Beschluss zum 800-Quadratmeter-Limit bei Verkaufsflächen unterschiedlich aus. Großbritannien verlängert seine Ausgangssperre, Polen will die Regeln schnell lockern.  ', '150.000 Betten auf Normalstationen sind derzeit frei. Die Krankenhäuser fordern deshalb eine Rückkehr zum Normalbetrieb. Sie wollen die wegen der Corona-Pandemie aufgeschobenen Operationen nachholen.  Die Krankenhäuser verlangen von Bund und Ländern noch im April grünes Licht für wegen der Corona-Pandemie verschobene Behandlungen. \"Wir halten es für zwingend erforderlich, dass die Lage in den Krankenhäusern und die Situation der Patienten auf den Wartelisten bei den Entscheidungen der Politik Berücksichtigung findet\", sagte der Präsident der Deutschen Krankenhausgesellschaft, Gerald Gaß. \"Bei der derzeit stabilen Corona-Lage sind wir in der Lage, den Regelbetrieb im Krankenhaus wieder anlaufen zu lassen.\"  Am Mittwoch waren Bund und Länder bei den ersten Lockerungen der Corona-Auflagen auf entsprechende Forderungen der Krankenhäuser nicht eingegangen. Am 30. April wollen sie erneut zusammenkommen. Gaß wies darauf hin, dass 10.000 Intensivbetten und über 150.000 Betten auf den Normalstationen frei seien. Klar sei, dass man Kapazitäten in der Corona-Krise auch in den kommenden Monaten frei halte. Auch auf kurzfristige Änderungen bei der Infektionsentwicklung könne man reagieren. \"Dauerhaft kann man aber Eingriffe wie Bypässe oder Gelenkersatz nicht verschieben.\" \\n \\n  In einer Reihe von Kliniken in Deutschland wird Kurzarbeit in einigen Bereichen erwogen, da zahlreiche Operationen wegen der befürchteten Welle schwerer Corona-Erkrankungen verschoben wurden. In vielen Regionen sind jedoch die für die Corona-Patienten aufgebauten Intensiv-Betten weitgehend leer. Die Ausbreitung der Epidemie hat sich deutlich verlangsamt. In den vergangenen Tagen überstieg die Zahl der Genesenen die der Neu-Infektionen.  Das Robert Koch-Institut meldete heute knapp 2500 neue Infektionen innerhalb eines Tages. Zugleich seien aber etwa 4500 Kranke genesen. Von den insgesamt rund 128.000 nachgewiesenen Infektionsfällen gelten inzwischen 72.600 als geheilt. \\n', 'Gerade ältere Menschen in Pflegeheimen treffen die Corona-Maßnahmen besonders hart. Für sie brauche es Wege, wie Besuche wieder stattfinden könnten, sagt VdK-Präsidentin Bentele im Interview mit tagesschau.de.  tagesschau.de: Seit gestern ist klar, die Kontaktbeschränkungen bestehen vorerst weiter. Was bedeutet das für ältere Menschen und solche, die auf Hilfe angewiesen sind?  Verena Bentele: Der VdK begrüßt zwar, dass der Schutz von Menschen mit chronischen Erkrankungen, mit Behinderungen und von älteren Menschen von der Politik ernst genommen wird. Aber gerade in Bundesländern wie Bayern, wo man nur mit Menschen des gleichen Hausstands rausgehen darf, ist so eine Sperre sehr schwer hinzunehmen. Für Ältere, aber auch für Jüngere unter den mehr als 16 Millionen Alleinlebenden in Deutschland.  Ein großes Problem sind auch die Aufnahmestopps in Pflegeeinrichtungen. Auch jetzt gibt es natürlich ganz viele Gründe, warum Menschen pflegebedürftig werden, wie Schlaganfälle oder Oberschenkelhalsbrüche. Und viele können nicht zu Hause gepflegt werden. Deshalb braucht es weiter die Möglichkeit, dass Pflegeeinrichtungen sie aufnehmen. \\n  tagesschau.de: Menschen in Alten- und Pflegeheimen sind doppelt betroffen. Einerseits durch das Besuchsverbot, andererseits, weil die Ansteckungsgefahr dort besonders hoch ist, wenn jemand infiziert ist. Wie geht es den Menschen damit?  Bentele: Für viele dieser Menschen ist die Einsamkeit in der jetzigen Situation ein sehr großes Problem. Das beeinträchtigt nicht nur die Psyche unverhältnismäßig, es kann auch Auswirkungen auf die Gesundheit haben.  Gerade Demente können die Situation gar nicht verstehen oder einordnen. Wir haben beispielsweise die Zuschrift eines Ehepaars bekommen, da ist die Frau dement und nimmt nur Essen zu sich, wenn ihr Mann bei ihr ist. In solchen Fällen, müsste der Kontakt ermöglicht werden. \\n \\n  tagesschau.de: Gerade für Risikogruppen besteht die Gefahr ja vermutlich, bis es einen Impfstoff oder vielleicht ein wirksames Medikament gibt. Wie lange halten diese Menschen das durch?  Bentele: Ich bin der Überzeugung, dass wir die Menschen nicht so lange isolieren können, bis es einen Impfstoff gibt. Wir müssen jetzt schnellstmöglich andere Regelungen finden, um ihnen Kontakte zu ermöglichen. Beispielsweise, indem Besuche mit mehr Abstand stattfinden, in größeren Räumlichkeiten oder in Schutzkleidung.  Die Menschen jetzt viele Monate zu isolieren, kann definitiv nicht der Weg sein. Das wäre unzumutbar für Ältere, für Menschen, die dement oder krank sind und vielleicht nicht wissen, wie lange sie noch leben können.  Eine wirklich schlimme Vorstellung ist zudem, dass man jemanden, der im Sterben liegt, nicht mehr sehen kann, um sich zu verabschieden. Bei allem Verständnis für strenge Regeln muss man hier Menschlichkeit und Augenmaß walten lassen. \\n  tagesschau.de: Es wird der Vorschlag diskutiert, dass Risikogruppen weiter in Quarantäne bleiben, damit die anderen in der Gesellschaft sich wieder freier bewegen können. Was halten Sie davon?  Bentele: Von dieser Idee halte ich gar nichts. Es kann nicht sein, dass wir älteren oder beeinträchtigten Menschen vollkommen die Teilhabe verwehren. Es muss jetzt darum gehen, dass alle Generationen zusammenarbeiten und zusammen anpacken.  Natürlich müssen wir im Blick behalten, dass beispielsweise auch Kinder und Jugendliche wieder in Kitas und Schulen können. Auch da sehen wir bereits gravierende Unterschiede. Kinder, die zu Hause keine gute Unterstützung bekommen durch die Eltern oder weil es an technischen Geräten fehlt, bleiben auf der Strecke.  Wir müssen also Konzepte entwickeln, wie ein Leben mit Corona aussehen kann. Dabei werden alle sich an bestimmte Regeln wie Abstandhalten, Händehygiene und so weiter halten müssen. Aber eine bestimmte Gruppe einfach abzuschotten, ist keine Option. \\n  tagesschau.de: Was braucht es für Menschen in Alten- und Pflegeheimen jetzt am dringendsten?  Bentele: Zunächst mal braucht es genügend Schutzkleidung für das Personal, damit alle bestmöglich vor Ansteckung geschützt sind. Aber auch, um in Zukunft Besuche mit Schutzkleidung und Atemschutzmasken zu ermöglichen. So lange das noch nicht geht, braucht es technische Geräte wie Tablets oder Smartphones, damit die Bewohner zumindest über Anrufe und Videos den Kontakt zu ihren Kindern und Enkeln aufrechterhalten können.  Die Einrichtungen sollten aber auch organisieren, wie sich die Menschen untereinander treffen können, wenn sie gesund sind. Denn auch diese Gespräche und der Kontakt untereinander sind sehr wichtig.  Und auch für ältere Menschen, die zu Hause leben und niemanden haben, der für sie einkaufen geht, braucht es Zuwendungen. Manche lassen sich beispielsweise die Einkäufe jetzt liefern. Dadurch haben sie deutlich höhere Kosten und auch dafür braucht es Unterstützung.  Das Interview führte Sandra Stalinski, tagesschau.de.', 'Die Corona-Maßnahmen schränken zahlreiche Grundrechte stark ein, so auch die Versammlungsfreiheit. Was, wenn man dagegen demonstrieren will? Das muss grundsätzlich möglich sein, meint das Bundesverfassungsgericht.   Das Bundesverfassungsgericht hat in einem Beschluss deutlich gemacht, dass pauschale Verbote von Demonstrationen nicht verfassungskonform sind.  Im konkreten Fall hatte die Stadt Gießen zwei Versammlungen verboten, die unter dem Motto \"Gesundheit stärken statt Grundrechte schwächen - Schutz vor Viren, nicht vor Menschen\" angemeldet worden waren. Sie sollten heute und morgen in der Innenstadt stattfinden. Der Veranstalter gab an, dass die Zahl der Teilnehmer auf etwa 30 Personen begrenzt werde. Ein ausreichender Abstand zwischen den Teilnehmern werde gewährleistet. \\n  Die Stadt verbot die Demonstrationen. Begründung: Nach der hessischen Corona-Verordnung seien Versammlungen von mehr als zwei Personen, die nicht dem gleichen Hausstand angehören, generell verboten. Der Veranstalter legte Widerspruch ein. Dieser wurde vom hessischen Verwaltungsgerichtshof zurückgewiesen.  Das Bundesverfassungsgericht hob diese Entscheidung nun auf. Die hessische Verordnung enthalte kein generelles Verbot von Versammlungen von mehr als zwei Personen. Vor einem Verbot müssten alle Umstände des Einzelfalls und damit auch die zugesicherten Schutzmaßnahmen hinreichend geprüft werden. Dies sei nicht geschehen. Damit habe die Stadt Gießen den Antragsteller offensichtlich in seinem Grundrecht auf Versammlungsfreiheit verletzt.  Gießen reagierte umgehend auf die Karlsruher Entscheidung: Die Versammlung sei jetzt zugelassen, sagte Bürgermeister Peter Neidel. Man habe die Kundgebung auf eine Stunde und die Teilnehmerzahl auf maximal 15 begrenzt. Alle Demonstranten müssten einen Mundschutz tragen und mindestens 1,5 Meter Abstand zueinander halten.', 'Vor der geplanten schrittweisen Öffnung der Geschäfte hat die Bundesregierung bundesweite, einheitliche Arbeitsschutzregeln beschlossen. Damit sollen Arbeitnehmer vor einer Ansteckung mit dem Corona-Virus bewahrt werden.   Die Bundesregierung hat bundesweit einheitliche, ergänzende Arbeitsschutzstandards zum Schutz vor einer Ansteckung mit dem Coronavirus beschlossen. Darin würden zehn Regeln \"konkret und verbindlich formuliert\", sagte Arbeitsminister Hubertus Heil. Wer in diesen besonderen Zeiten arbeite, brauche auch besonderen Schutz, so der SPD-Politiker.  Auf diese Standards könnten sich alle verlassen und daran müssten sich auch alle halten. Es werde zwar Kontrollen geben - im Vordergrund stünden aber \"Beispiele und Beratung\".  Konkret wird unter anderem grundsätzlich vorgegeben, dass ein Abstand von mindestens 1,5 Metern zu anderen Menschen auch bei der Arbeit einzuhalten ist - und zwar in Gebäuden, im Freien und in Fahrzeugen. Dafür müssten Absperrungen, Markierungen oder Zugangsregelungen umgesetzt werden.  Wo dies nicht möglich ist, seien alternativ etwa Trennwände zu installieren. Ist auch das nicht machbar, sollen die Arbeitgeber Nase-Mund-Bedeckungen für die Beschäftigten und auch für Kunden und Dienstleister zur Verfügung stellen. \\n  Abläufe sollen so organisiert werden, dass Beschäftigte möglichst wenig direkten Kontakt zueinander haben. Dies gelte etwa für Pausen, Schichtwechsel oder Anwesenheiten im Büro. Für Beschäftigte gelte der Grundsatz: \"Niemals krank zur Arbeit\", sagte Heil.  Wer Symptome wie leichtes Fieber habe, solle den Arbeitsplatz verlassen oder zu Hause bleiben, bis der Verdacht ärztlich aufgeklärt ist. Es handele sich um verbindliche Regeln, sagte Heil. Die Behörden würden die Einhaltung zwar stichprobenartig kontrollieren. Man gehe aber davon aus, dass sich die Unternehmen an die Vorgaben halten. Bei den Beratungen zu den neuen Regeln seien Arbeitgeber und Gewerkschaften mit an Bord gewesen.', 'Facebook gibt heute neue Funktionen zur Eindämmung von Fake News bekannt und reagiert damit nach SWR-Recherchen auch auf Kritik von Netzaktivisten. Experten warnen vor politischer Einflussnahme.  Facebook ergreift neue Maßnahmen im Kampf gegen Fake News. In Zukunft werde auf der Timeline von Accounts, die schädliche Falschinformationen über Covid-19 verbreiten, zusätzliche Warnhinweise veröffentlicht, erklärte der für Integrität des Unternehmens zuständige Manager Guy Rosen heute gegenüber der Presse.  Das Unternehmen von Mark Zuckerberg reagiert damit nach SWR-Recherchen auch auf Kritik von Netzaktivisten. Zwar habe Facebook nach eigenen Angaben bisher mehr als zwei Milliarden Menschen auf die offiziellen Informationsseiten der WHO und anderer etablierter Gesundheitsorganisationen geleitet. Dennoch waren die bisherigen Vorkehrungen gegen Falschinformationen nach Ansichten der Nichtregierungsorganisation AVAAZ nur mäßig erfolgreich.  Das geht aus zwei Studien hervor, die dem SWR vorliegen. In der ersten Studie analysierten die Netzaktivisten von Avaaz eine Stichprobe von über 100 Fehlinformationen auf Facebook zum Coronavirus in sechs Sprachen. Diese Beiträge wurden 1,7 Millionen Mal geteilt und schätzungsweise 117 Millionen Mal angesehen, obwohl sie von unabhängigen Faktenprüfern widerlegt wurden.  Es könne bis zu 22 Tage dauern, bis Facebook für Coronavirus-Fehlinformationen eine Warnung anzeigt, behaupten die Netzaktivisten. Erhebliche Verzögerungen habe es auch dann gegeben, wenn die Partner von Facebook die schädlichen Fehlinformationen rasch gemeldet hätten. \\n  Den Wissenschafter und Social-Media Experten Pascal Jürgens von der Universität Mainz überraschen die Ergebnisse der Studie nicht. \"Dass Facebook so lange braucht, um so weit verbreitete Fake News zu erkennen, ist allerdings wirklich problematisch. Die Verbreitung in sozialen Medien verläuft viel schneller, deshalb muss eine Markierung viel schneller erfolgen, um wirksam zu sein\", erklärte Jürgens gegenüber dem SWR.  Avaaz gab eine zweite Studie bei der George Washington University und der Ohio State University in Auftrag, die zeigen sollte, welche Maßnahmen besonders erfolgreich zur Eindämmung von Falschnachrichten sind. Die Studie belegt: Wenn Facebook-Nutzern, die Fehlinformationen ausgesetzt waren, jedes Mal Richtigstellungen von unabhängigen Faktenprüfern angezeigt werden, geht der Glaube an Desinformationen drastisch zurück - um durchschnittlich fast die Hälfte (49,4 Prozent) und bis zu 61 Prozent. \\n  Fadi Quran, Kampagnendirektor bei Avaaz, erklärte dazu ebenfalls heute und zeitgleich mit der Ankündigung von Facebook: \" Facebook hat selbst einen Impfstoff gegen die Infodemie in der Hand - einen Impfstoff der, wie Studien jetzt zeigen, den Glauben an Fehlinformationen halbieren kann.\"  Gegen Fehlinformationen rund um das Coronavirus vorzugehen, könne jetzt gerade Leben retten, aber nur der erste Schritt sein. \"Menschen, die der Gefahr von Fehlinformationen zu Masern, Fehlinformationen von Impfgegnern oder politischen Fehlinformationen ausgesetzt sind, verdienen ebenfalls Schutz. Wir bei Avaaz erwarten daher von Facebook die vollständige Umsetzung von \\'Correct the Record\\' in den nächsten Monaten.\"  Genau das will Facebook jetzt umsetzen: \"Wir zeigen im Newsfeed denjenigen Nutzern, die auf Covid-19-bezogene Beiträge reagiert haben, beispielsweise mittels \"Gefällt mir\" oder einer anderen Reaktion bzw. eines Kommentars, neue Informationen an, sofern wir den ursprünglichen Beitrag mittlerweile als schädliche Fehlinformation eingestuft und entfernt haben. Diese Meldungen verweisen die Menschen auf Klarstellungen der WHO zu Covid-19-Mythen\" erklärte das Unternehmen heute in einem Statement.  Social-Media Experte Jürgens begrüßt die geplanten Schritte von Facebook im Kampf gegen die Verbreitung bekannter Falschmeldungen, warnt aber auch vor zu hohen Erwartungen: \"Die Ergebnisse zeigen, dass Korrekturen von Fake News wichtig sind, aber auch, dass sie die schädliche Wirkung nicht ganz wieder gut machen können.\"  Bisher völlig ungeklärt aus Sicht der Wissenschaft und politisch hoch umstritten sei vor allem die Frage, wer zwischen Fake und Wahrheit unterscheiden solle. \"Facebook hat diese Aufgabe bisher an externe Organisationen abgegeben, aber gleichzeitig erklärt, dass politische Werbung nicht geprüft wird. Sie übertragen damit die Verantwortung an Politiker und Parteien, die diese Verantwortung nicht immer gewissenhaft genug wahrnehmen.\"  Ein ganz anderer, vielversprechender Weg zum Schutz der Verbraucher vor Falschinformationen sei nach Ansicht der Cybersicherheitsbehörde des Bundes die technische Erkennung von Social Bots, die für die massenhafte Verbreitung gezielter Desinformationskampagnen zuständig sind.  Joachim Wagner, Sprecher des Bundesamts für Sicherheit in der Informationstechnik, erklärte auf Anfrage gegenüber dem SWR, die Behörde setzte im Kampf gegen Fake News vor allem darauf, Nutzerinnen und Nutzer über die Funktion von Fake Accounts und Bots in Messenger-Diensten aufzuklären. Meist seien es diese automatisierten Accounts, verbunden mit den entsprechenden Algorithmen, die Falschnachrichten massenhaft im Netz verbreiten, nicht der einzelne User, der dem Post auf den Leim geht.', 'Die traditionelle Siegesparade auf dem Roten Platz in Moskau wird wegen der Corona-Pandemie nicht am 9. Mai stattfinden. Nach langem Zögern entschied das heute der russische Präsident Putin.  Es wäre ein großes Jubiläum gewesen: 75 Jahre Sieg der Sowjetunion über den Hitler-Faschismus, doch auch Russland muss sich der Corona-Pandemie beugen. Präsident Wladimir Putin erklärte heute, dass die traditionelle große Siegesparade auf dem Roten Platz in Moskau verschoben wird. Statt wie jedes Jahr am 9. Mai werde sie an einem anderen Tag stattfinden. Wann, das sagte der Kremlchef nicht.  Putin sprach von einer schweren Entscheidung: \"Das Datum 9. Mai ist uns heilig, aber auch das Leben jedes Menschen ist heilig.\" Die Risiken durch das Coronavirus erlaubten keine Vorbereitungen der Parade. Der Tag des Sieges werde aber trotzdem in den Familien gefeiert, im Andenken an die Helden.  Das russische Verteidigungsministerium hatte bis zuletzt an dem Termin 9. Mai festgehalten. Allerdings baten zuletzt selbst Veteranenverbände um eine Verschiebung der Feierlichkeiten.  Die Parade zur Erinnerung an das Ende des Zweiten Weltkrieges hätte die größte in der Geschichte werden sollen. Politiker aus aller Welt waren eingeladen, so auch Bundespräsident Frank-Walter Steinmeier und Bundeskanzlerin Angela Merkel. Doch Zusagen hatte es bisher wenige gegeben. Zuletzt hatte US-Präsident Donald Trump abgesagt.  Russland nutzt die Siegesparade am 9. Mai jedes Jahr als Demonstration seiner militärischen Stärke. Hunderttausende Moskauer stehen an den Straßen und schauen zu, wie Panzer, Lastwagen und Raketen durch die russische Hauptstadt gefahren werden. Auf dem Roten Platz marschieren Tausende Soldaten an der Ehrentribüne vorbei.  In Russland hat sich die Corona-Lage zuletzt verschärft. In Moskau gelten strenge Ausgangssperren.', 'In der Türkei wächst die Kritik an einem Amnestie-Gesetz. Wegen der Corona-Krise hatte die Regierung entschieden, 90.000 Gefangene freizulassen. Oppositionelle waren kaum darunter, aber Mafia-Bosse.  Mehr als 20 Jahre lang saß Alaatin Cakici insgesamt hinter Gittern. Immer wieder setzte sich Devlet Bahceli, Chef der nationalistischen Partei MHP, beim türkischen Staatspräsidenten Tayyip Recep Erdogan für Cakicis Freilassung ein. Cakici sei ein verurteilter Straftäter aus dem Bereich der organisierten Kriminalität, heißt es bei Wikipedia. In der Türkei wurde er für die Anstiftung zum Mord an seiner Ex-Frau zu 19 Jahren Haft verurteilt.  Nach eigener Aussage ist er auch für den türkischen Geheimdienst aktiv gewesen. Der \"Mafiaboss\" ist Mitglied der vom deutschen Verfassungsschutz als rechtsextrem eingestuften türkischen Bewegung \"Graue Wölfe\". Die \"Grauen Wölfe\" sind die Nachwuchs-Organisation der MHP und für gröbere Aufgaben zuständig.  Jedes Mal, wenn sich Bahceli um die Freilassung Cakicis bemühte, war der Aufschrei groß. Erdogan konnte nicht zustimmen, obwohl seine AKP Partei mit der MHP koaliert. \\n  Gestern Abend wird Cakici schließlich in einem schwarzen Mercedes Vito vom Gefängnis Sincan bei Ankara abgeholt. Er ist einer von etwa 90.000 Strafgefangenen, die freikommen, nachdem am Dienstag gegen den Willen der Opposition im Parlament ein entsprechendes Gesetz verabschiedet wurde. Bis spät in die Nacht sind Busse zu sehen, die freigelassene Straftäter vom Gelände des Gefängnisses bringen.  Die Erdoganpartei AKP hat mit den Nationalisten der MHP das Gesetz ins Parlament eingebracht, um einen Ausbruch von Covid-19 in türkischen Gefängnissen einzudämmen. 17 Inhaftierte, so das Justizministerium haben sich bereits infiziert, drei davon seien verstorben. Journalisten, Oppositionelle und Menschenrechtsaktivisten, die aufgrund fadenscheiniger Terrorvorwürfe inhaftiert sind, müssen in Haft bleiben. Einige von ihnen, obwohl sie aufgrund ihres Alters oder Vorerkrankungen zur Risikogruppe gehören.  Der Mafia-Boss Cakici sei inzwischen in einem Hotel eines Freundes bei Canakkale untergekommen, heißt es in türkischen Medien. Ob er dort entspannt Urlaub macht, ist jedoch fraglich. Kurz vor Cakicis Freilassung warnt der Unterwelt-Rivale Sedat Peker auf Twitter, man könne ihn möglicherweise umbringen, kleinkriegen lasse er sich allerdings von niemandem. Offenbar erwartet er Cakicis Besuch.  Mustafa Yeneroglu, in Deutschland aufgewachsener Jurist und Abgeordneter des türkischen Parlaments, hat vor wenigen Monaten die Erdogan-Partei AKP verlassen. Einer der Hauptgründe für ihn war der desolate Zustand des türkischen Rechtsstaats.  Zur Freilassung Cakicis sagt Yeneroglu, am Beispiel der Straftat der organisierten Kriminalität könne aufgezeigt werden, mit welchen unlauteren Tricks gearbeitet wurde, um Mafia-Bosse aus dem Gefängnis zu bekommen. \"Während die Mindeststrafhöhe für Gründer beziehungsweise Führer von kriminellen Vereinigungen scheinbar von zwei auf vier Jahre erhöht wurde, ist die Vollstreckung von drei Viertel auf zwei Drittel herabgesetzt worden\", so Yeneroglu.  Noch am Dienstag erklärt Cahit Özkan, Fraktionschef der Erdogan-Partei AKP im Parlament, wegen Mord oder Gewaltverbrechen gegen Frauen Verurteilte seien nicht unter den Inhaftierten, die nun im Rahmen der Straferleichterung freikämen. Unterdessen kritisieren Juristen das Gesetz scharf. Zwar kämen Mörder nicht frei, doch Straftäter, die wegen Beihilfe oder Anstiftung zum Mord inhaftiert waren, kommen nun vorzeitig aus der Haft. Cakicis Freilassung belegt den Vorwurf.  Auch Gewalt gegen Frauen sei keineswegs von der Straferleichterung ausgenommen, so Beobachter. Der Istanbuler Rechtsanwalt und Juraprofessor Mehmet Köksal präzisiert, tatsächlich kämen lediglich wegen Gewalt in der Ehe Verurteilte nicht in den Genuss der Straferleichterung. Männer, die beispielsweise gegen ihre geschiedenen Ehefrauen gewalttätig gewesen seien, diese bedroht oder erpresst haben, dürften vorzeitig aus der Haft. Viele Frauen hätten nun Angst, ihre früheren Peiniger würden ihnen bald wieder über den Weg laufen und erneut angreifen, warnen Frauenrechtsorganisationen.  Wie weit die Straferleichterung geht, zeigt folgende Aufzählung des Abgeordneten und Rechtsanwalts Yeneroglu. Zum Beispiel kämen Personen sofort frei, die vor dem 30. März Straftaten wie Verbreitung von Kinderpornographie oder Verleitung von Kindern zur Prostitution, Unterschlagung, schwerer Diebstahl, Bestechung, Bedrohung , Erpressung oder Straftaten gegen den Wettbewerb bei Ausschreibungen, Begünstigung begangen und dafür bis zu sechs Jahre Haftstrafe bekommen hätten - \"ohne jemals die Haftanstalt gesehen zu haben\".  Erdogan habe in der Vergangenheit wiederholt betont, der Staat dürfe nur Straftaten gegen den Staat begnadigen, aber nicht Straftaten gegen Menschen, sagt der Abgeordnete. Mit diesem Gesetz habe Erdogan genau das Gegenteil vorgenommen. Sämtliche sogenannten Straftaten gegen den Staat seien aus dem Reformpaket herausgenommen worden. Begnadigt würden allein Straftaten gegen Menschen.  Die Opposition im Parlament hat während der mehrtägigen Debatte zum Gesetz immer wieder kritisiert, dieses sei nicht verfassungskonform. In Kürze dürfte sich also das oberste türkische Gericht mit dem \"Amnestiegesetz\" befassen.', 'Die Corona-Krise sorgt für nie dagewesene Dimensionen: In der vergangenen Woche haben weitere 5,2 Millionen Amerikaner neu Arbeitslosenhilfe beantragt. Damit haben innerhalb eines Monats über 22 Millionen Menschen ihren Job verloren.  Der Vier-Wochen-Schnitt bei den Erstanträgen liege bei 5.508.500, teilte das US-Arbeitsministerium am Donnerstag mit. Allein in der Vorwoche hatten 6,6 Millionen Menschen einen Erstantrag auf Unterstützung gestellt.  Die Erstanträge gelten als Indikator für die kurzfristige Entwicklung des Arbeitsmarkts in der größten Volkswirtschaft der Welt. Sie deuten inzwischen auf einen dramatischen Wirtschaftseinbruch infolge der Corona-Krise hin. Bis zum März hatte die Zahl der Erstanträge noch regelmäßig unter 100.000 pro Woche gelegen.  \"Der Arbeitsmarkt in den USA wird von der Pandemie und den damit verbundenen Einschränkungen des öffentlichen Lebens besonders hart getroffen\", kommentierte Volkswirt Ulrich Wortberg von der Helaba. \"Auch der Bausektor wird belastet und so dürften die BIP-Wachstumszahlen auch darunter leiden.\"  An der Wall Street reagierten die Anleger dennoch zunächst mit Käufen. Offenbar hatten manche Marktteilnehmer mit noch schlimmeren Daten nach dem Rekordwert der Vorwoche gerechnet.  Weitere Kursinformationen zu Dow Jones (Indikation)  Weitere Kursinformationen zu Euro in US-Dollar  \"Der Rückgang der wirtschaftlichen Aktivität ist atemberaubend\", sagte Chefökonom Joel Naroff vom Beratungshaus Naroff Economics. Volkswirte schätzen, dass die weltgrößte Wirtschaftsmacht im ersten Quartal um bis zu 10,8 Prozent geschrumpft sein könnte. Das wäre der stärksten Rückgang seit 1947. Im März brach der Umsatz der US-Einzelhändler so stark ein wie seit 1992 nicht mehr, während die Industrie ihre Produktion so stark drosselt wie seit 1946 nicht mehr.  \"Einschließlich dieser Woche gehen wir derzeit davon aus, dass bis Ende Mai weitere 20 Millionen zusätzliche Anträge auf Arbeitslosenunterstützung gestellt werden\", sagte Volkswirt Joseph Briggs von Goldman Sachs in New York. \"Erst danach erwarten wir, dass die neuen Anträge auf ein Niveau fallen werden, das früheren Rezessionen entspricht.\"  la', 'In Großbritannien ist keine Lockerung der Einschränkungen in Sicht: Um mindestens drei Wochen hat die Regierung die Maßnahmen verlängert. Neue Zahlen geben wenig Anlass zu Optimismus.  Im Kampf gegen die Ausbreitung des Coronavirus hat Großbritannien die Beschränkungen um mindestens drei Wochen verlängert. Eine Lockerung zum jetzigen Zeitpunkt könne sowohl die öffentliche Gesundheit als auch die Wirtschaft in Gefahr bringen, sagte Außenminister Dominic Raab, der den an Covid-19 erkrankten Regierungschef Boris Johnson  vertritt. Zuvor hatte der Nationale Sicherheitsrat zum Thema getagt.  Politiker hatten bereits signalisiert, dass an eine Lockerung der Ausgangsbeschränkungen im Land noch nicht zu denken sei. Gesundheitsminister Matt Hancock sagte dem Sender BBC: \"Für Änderungen ist es noch zu früh. Die Zahlen gehen noch nicht zurück.\" \\n  Tatsächlich steigt die Zahl der Toten im Vereinigten Königreich nach jüngsten Daten wieder schneller. Wie das Gesundheitsministerium heute bekannt gab, verzeichneten die Krankenhäuser des Landes 861 Todesopfer binnen 24 Stunden - das waren fast hundert Todesfälle mehr als am Vortag. In den vergangenen Tagen hatte sich der Anstieg der Opferzahlen noch verlangsamt.  Insgesamt starben in Großbritannien bislang 13.729 Infizierte allein in den Klinken des Landes. Die Zahl der bestätigten Corona-Fälle überschritt inzwischen deutlich die Marke von 100.000.  Die Ausgangsbeschränkungen waren am 23. März verhängt worden. Die Briten dürfen ihre Wohnungen kaum noch verlassen. Erlaubt sind der Einkauf wesentlicher Dinge wie Lebensmittel und Medikamente. Alle Läden, die nicht zur Grundversorgung dienen, sind geschlossen. Sport ist nur einmal am Tag und nur mit Mitgliedern desselben Haushalts erlaubt. Versammlungen von mehr als zwei Personen sind verboten. \\n  Die Regierung hatte sich anfangs gegen härtere Maßnahmen gesträubt. Nach Ansicht von Kritikern ging so wertvolle Zeit verloren. In Großbritannien mangelt es an Tests, Beatmungsgeräten, Klinikpersonal und Schutzausrüstungen. Experten fürchten, dass es das am schlimmsten von der Pandemie betroffene europäische Land mit Blick auf die Todesrate werden könnte. Kritikern zufolge wurde der staatliche Gesundheitsdienst NHS (National Health Service) kaputt gespart.  Wegen der vergleichsweise wenigen Tests, die bisher gemacht wurden, gelten die britischen Corona-Statistiken außerdem als wenig aussagekräftig. Sie enthalten vor allem nicht die vielen Opfer in Pflegeheimen.  Der erkrankte Premier Johnson erholt sich derzeit auf dem Landsitz Chequers in der Nähe von London gemeinsam mit seiner schwangeren Verlobten Carrie Symonds. Er wurde in der vergangenen Woche drei Nächte lang auf der Intensivstation behandelt, nachdem sich sein Zustand verschlechtert hatte.', 'In den USA wird zunehmend über den Ursprung des Coronavirus spekuliert. Einige Indizien weisen in Richtung eines Bio-Labors in Wuhan. Doch Beweise gibt es keine.   China hat Behauptungen zurückgewiesen, dass die Coronavirus-Pandemie ihren Ursprung in einem Labor in der Nähe der Stadt Wuhan haben könnte, wo ansteckende Proben gelagert wurden. Der Sprecher des Außenministeriums, Zhao Lijian, zitierte den Leiter der Weltgesundheitsorganisation und andere nicht genannte Experten mit den Worten, es gebe keinen Beweis dafür, dass die Ausbreitung vom Labor aus begann, und es gebe \"keine wissenschaftliche Grundlage\" für solche Behauptungen.  Die Frage, woher das Virus stammt, ist bislang nicht abschließend wissenschaftlich geklärt. Es wird weithin angenommen, dass es von Fledermäusen stammt und über eine andere Spezies auf einem Markt für Wildtiere und Meeresfrüchte in Wuhan auf den Menschen übergegangen sei. Verschiedene Studien legen eine natürliche Herkunft des Virus nahe. \\n  In US-Medien wird nun allerdings behauptet oder zumindest spekuliert, das Virus sei aus dem Labor in Wuhan entwichen - mutmaßlich durch einen Unfall oder Sicherheitslücken. So sei zunehmend fraglich, ob die ersten infizierten Personen überhaupt irgendetwas mit dem Markt in Wuhan zu tun gehabt hätten. Die Annahme, dass eine Verkäuferin die sogenannte \"Patientin 0\" gewesen sei, wird in Frage gestellt. Insbesondere \"Fox News\" spekuliert, das Virus sei aus dem Labor entwichen.  Medien wie die \"Washington Post\" stützen sich bei ihren Berichten auf Depeschen von US-Diplomaten, in denen vor Sicherheitsproblemen in dem Labor gewarnt wurde. Allerdings sind diese Sorgen alles andere als neu: Die Depeschen stammen aus dem Jahr 2018 - und bereits 2017 hatten Experten im Wissenschaftsmagazin \"Nature\" Bedenken über mögliche Sicherheitslücken des Instituts geäußert.  Ende Januar hatte der ARD-faktenfinder über Spekulationen zum Ursprung des Virus berichtet: Damals hatte die amerikanische Seite \"Washington Times\" einen ehemaligen israelischen Geheimdienstler zitiert, der ebenfalls vermutete, dass das Virus dieser Einrichtung entkommen sein könnte.  Der US-General Mark Milley sagte zu den jüngsten Medienberichten, man habe viele Hinweise intensiv geprüft. Die Belege zeigten eher in die Richtung, dass das Virus einen natürlichen Ursprung habe, aber abschließend geklärt sei das nicht.  Die Frage nach dem Ursprung des Virus ist zum einen wichtig für die Entwicklung von Gegenstrategien, aber zum anderen eine hochbrisante politische Angelegenheit zwischen den Supermächten USA und China. \\n  US-Präsident Donald Trump und seine Regierung sprachen immer wieder vom \"Wuhan-Virus\", was zu diplomatischen und politischen Konflikten führte. Der Sprecher des chinesischen Außenministers, der nun alle Spekulationen zum Labor in Wuhan zurückweist, behauptete hingegen, das Virus stamme aus den USA. China reagiert zudem dünnhäutig auf jede Kritik, die Führung schränkte nun die internationale Zusammenarbeit ein, Forscher dürfen ihre Ergebnisse zur Herkunft des Virus nicht mehr veröffentlichen. Sie befeuert damit Spekulationen über den Ursprung weiter und behindert die Entwicklung von Maßnahmen zur Bekämpfung der Pandemie.  Das Magazin \"Forbes\" weist darauf hin, dass die USA geholfen hätten, das Labor in Wuhan aufzubauen - und dass der wachsende öffentliche Druck nun dazu führen könnte, dass Washington und Peking besser zusammenarbeiten, um künftig gemeinsam gegen die Gefahr einer Pandemie zu agieren.   \\n', 'Hunderttausende Kinder sind wegen der Folgen der Corona-Pandemie weltweit in akuter Gefahr. Laut UN-Generalsekretär Guterres könnten sie in ihren Familien nicht mehr richtig versorgt werden.   Infolge der Corona-Pandemie und der damit verbundenen globalen Rezession könnten nach Einschätzung der Vereinten Nationen Hunderttausende Kinder sterben. UN-Generalsekretär António Guterres sagte, ausbleibende Einnahmen würden arme Familien zu Einsparungen im Bereich der Gesundheit und Nahrungsmittelversorgung zwingen. Das betreffe insbesondere Kinder, Schwanger und stillende Mütter.  Guterres mahnte: \"Ich appelliere an Familien überall und an Führungskräfte auf allen Ebenen: Schützen Sie unsere Kinder!\" Wegen der Pandemie-Folgen könnten die Fortschritte der vergangenen zwei bis drei Jahre bei der Kindersterblichkeit innerhalb nur eines Jahres umgekehrt werden.  Laut einem UN-Bericht sind weltweit seien anderthalb Milliarden Kinder von Schulschließungen betroffen. Guterres sagte, mehr als 300 Millionen Kinder seien auch deshalb von der Schule abhängig, weil die Mahlzeiten dort für sie ein elementarer Bestandteil der Ernährung seien. \"Was als Notfall für die öffentliche Gesundheit begann, hat sich zum gewaltigen Test für das globale Versprechen entwickelt, niemand zurückzulassen.\"', 'Die Angst vor einem Corona-Ausbruch in den überfüllten Lagern auf den griechischen Inseln ist groß. Zum Schutz der Flüchtlinge und Inselbewohner sollen nun mehr als 2000 ältere und vorerkrankte Menschen aufs Festland gebracht werden.  Im Kampf gegen die Ausbreitung des Coronavirus will Griechenland ab der kommenden Woche 2380 Migranten aus den überfüllten Lagern auf den ostägäischen Inseln zum Festland bringen. Laut Migrationsministerium geht es dabei vor allem um ältere und kranke Menschen, die als besonders gefährdet gelten. \"Wir schützen damit vor der Pandemie die Menschen, die in den Lagern leben, und die Einwohner der Inseln\", erklärte das Ministerium.  Zu den Betroffenen gehören 200 Flüchtlinge über 60 Jahre und 1730 Menschen mit Vorerkrankungen sowie deren\\xa0Angehörige. Für sie würden auf dem Festland Wohnungen, Hotels und Lager vorbereitet. Die Umsiedlung soll nach dem 19. April, dem orthodoxen Osterfest, beginnen und etwa zwei Wochen dauern.\\xa0 \\n  Bislang sind in den Lagern auf den Inseln keine Corona-Infektionen registriert worden. Es sei aber nur eine Frage der Zeit, bis dieser Fall eintrete, sagte der Leiter der Zweigstelle der Hilfsorganisation Ärzte der Welt auf der Insel Lesbos, Dimitris Patestos.  Nach dem Ausbruch der Coronavirus-Pandemie hatte Athen die Gesundheitskontrollen rund um die Lager auf den Inseln Lesbos, Chios, Samos, Leros und Kos mit zusätzlichem Personal und Container-Isolierstationen verstärkt. Zudem dürfen Migranten die Lager nur begrenzt und mit einer Genehmigung der Polizei verlassen. Jeder neu aus der Türkei ankommende Migrant muss in geschlossenen Lagern für 14 Tage in Quarantäne.  Die Lage in den Flüchtlingslagern auf den griechischen Inseln gilt als katastrophal: Dort leben mehr als 35.000 Menschen in Camps, die eigentlich nur für etwas mehr als 6000 Menschen ausgelegt sind.\\xa0Bereits in den vergangenen Wochen hatte Athen Hunderte Migranten zum Festland bringen lassen. Seit Wochen kommen kaum noch Migranten aus der Türkei auf den Inseln an. \\n  In der EU begann unterdessen in dieser Woche ein Programm zur Verteilung von 1600 unbegleiteten minderjährigen Flüchtlingskindern aus den griechischen Lagern in mehrere europäische Länder. Zwölf junge Afghanen und Syrer im Alter zwischen elf und 15 Jahren wurden am Mittwoch nach Luxemburg gebracht.  Voraussichtlich 58 Kinder und Jugendliche sollen Ende der Woche in Deutschland eintreffen. Sie sollen zunächst nach Niedersachsen und dort 14 Tage lang in Quarantäne kommen.', 'Wegen der Corona-Pandemie soll das Rettungsschiff \"Alan Kurdi\" nicht in Italien anlegen. Drei von 149 Migranten durften nun von Bord gehen. Unter den restlichen Wartenden wächst die Verzweiflung.  Unter den Migranten auf dem vor der Küste Siziliens blockierten deutschen Rettungsschiff \"Alan Kurdi\" wächst nach Angaben der Hilfsorganisation \"Sea-Eye\" zunehmend die Verzweiflung. Ein Mann habe versucht, sich das Leben zu nehmen, teilte die Organisation mit. Ein weiterer habe sich selbst verletzt. Die italienische Küstenwache habe deshalb drei von insgesamt 149 Geflüchteten in Sicherheit gebracht.  Das Schiff liegt vor der Stadt Palermo. Eigentlich sollen die Menschen wegen der Corona-Pandemie auf ein größeres Schiff in Quarantäne kommen. Bislang ist jedoch weiter offen, wann das geschehen soll. Italien und Malta haben erklärt, dass sie keine Migranten an Land lassen könnten, weil diese nicht gesundheitlich versorgt werden könnten.  Die Menschen legen meist im Bürgerkriegsland Libyen ab, wo ihnen in Lagern schwere Misshandlungen drohen. Einsatzleiter Jan Ribbeck sagte: \"Die Menschen werden seit zehn Tagen auf der \\'Alan Kurdi\\' festgehalten und sind total verzweifelt.\" Einige hätten während des Einsatzes der Küstenwache angedeutet, ins Wasser zu springen, um die italienischen Boote zu erreichen. \"Sie ließen sich kaum beruhigen\", sagte Ribbeck.  Vor der italienischen Insel Lampedusa wartet auch das spanische Rettungsschiff \"Aita Mari\" mit etwa drei Dutzend Migranten\\xa0auf einen sicheren Hafen. Aus Gesundheitsgründen durften sieben Geflüchtete an Land: eine dreiköpfige Familie und vier Männer, wie die spanische Hilfsorganisation Salvamento Marítimo Humanitario auf Twitter mitteilte. Die\\xa0\"Aita Mari\" hatte am Montag nach Angaben der Organisation vor Malta insgesamt 43 Menschen aus einem sinkenden Schlauchboot gerettet. \\n', 'Wie viele bestätigte Coronavirus-Fälle gibt es? Die interaktiven Karten geben einen aktuellen Überblick für Deutschland und die Welt. Sie zeigen auch an, wie viele Menschen gestorben und wie viele genesen sind. \\n  Hinweis: Die Zahlen der Coronavirus-Karte für Deutschland basieren auf den Angaben des Robert Koch-Instituts, die einmal pro Tag veröffentlicht werden. \\n  Hinweis: Die Zahlen der Coronavirus-Karte für alle Länder weltweit basiert auf den Angaben der Johns Hopkins University. Durch die verschiedenen Quellen und Aktualisierungszeitpunkte kann es für die Fallzahlen in Deutschland zu Abweichungen von den Zahlen des Robert Koch-Instituts kommen. \\n  Die Angaben der Johns Hopkins Universität und die Zahlen vom Robert Koch-Institut unterscheiden sich oft. Deswegen sind sie aber nicht falsch. Entscheidend ist, wann welche Zahlen gemeldet und wie sie ermittelt werden. \\n']\n"
     ]
    }
   ],
   "source": [
    "print(corona_articles)"
   ]
  },
  {
   "cell_type": "code",
   "execution_count": 50,
   "metadata": {},
   "outputs": [
    {
     "data": {
      "text/plain": [
       "17"
      ]
     },
     "execution_count": 50,
     "metadata": {},
     "output_type": "execute_result"
    }
   ],
   "source": [
    "len(corona_articles)"
   ]
  },
  {
   "cell_type": "markdown",
   "metadata": {},
   "source": [
    "### Make into CSV file"
   ]
  },
  {
   "cell_type": "code",
   "execution_count": 51,
   "metadata": {},
   "outputs": [],
   "source": [
    "columns = [\"date\", \"url\", \"article\", \"resort\"]\n",
    "df = pd.DataFrame(columns=columns)\n",
    "df[\"url\"] = corona_links\n",
    "df[\"article\"] = corona_articles\n",
    "df[\"date\"] = todays_date\n",
    "df[\"resort\"] = df[\"url\"].apply(lambda x: x.split(\"/\")[1])"
   ]
  },
  {
   "cell_type": "code",
   "execution_count": 52,
   "metadata": {},
   "outputs": [
    {
     "data": {
      "text/html": [
       "<div>\n",
       "<style scoped>\n",
       "    .dataframe tbody tr th:only-of-type {\n",
       "        vertical-align: middle;\n",
       "    }\n",
       "\n",
       "    .dataframe tbody tr th {\n",
       "        vertical-align: top;\n",
       "    }\n",
       "\n",
       "    .dataframe thead th {\n",
       "        text-align: right;\n",
       "    }\n",
       "</style>\n",
       "<table border=\"1\" class=\"dataframe\">\n",
       "  <thead>\n",
       "    <tr style=\"text-align: right;\">\n",
       "      <th></th>\n",
       "      <th>date</th>\n",
       "      <th>url</th>\n",
       "      <th>article</th>\n",
       "      <th>resort</th>\n",
       "    </tr>\n",
       "  </thead>\n",
       "  <tbody>\n",
       "    <tr>\n",
       "      <th>0</th>\n",
       "      <td>2020-04-16 21:54:37.967161</td>\n",
       "      <td>/investigativ/ndr/corona-aerzte-pflegekraefte-...</td>\n",
       "      <td>Rund 6400 Ärzte und Pflegekräfte haben sich in...</td>\n",
       "      <td>investigativ</td>\n",
       "    </tr>\n",
       "    <tr>\n",
       "      <th>1</th>\n",
       "      <td>2020-04-16 21:54:37.967161</td>\n",
       "      <td>/inland/bund-laender-beschluss-uebersicht-101....</td>\n",
       "      <td>Die Länderchefs haben mit der Kanzlerin zwar E...</td>\n",
       "      <td>inland</td>\n",
       "    </tr>\n",
       "    <tr>\n",
       "      <th>2</th>\n",
       "      <td>2020-04-16 21:54:37.967161</td>\n",
       "      <td>/newsticker/liveblog-coronavirus-donnerstag-10...</td>\n",
       "      <td>Die Länderregierungen legen den Bund-Länder-Be...</td>\n",
       "      <td>newsticker</td>\n",
       "    </tr>\n",
       "    <tr>\n",
       "      <th>3</th>\n",
       "      <td>2020-04-16 21:54:37.967161</td>\n",
       "      <td>/inland/krankenhaeuser-op-101.html</td>\n",
       "      <td>150.000 Betten auf Normalstationen sind derzei...</td>\n",
       "      <td>inland</td>\n",
       "    </tr>\n",
       "    <tr>\n",
       "      <th>4</th>\n",
       "      <td>2020-04-16 21:54:37.967161</td>\n",
       "      <td>/inland/interview-corona-pflegeheime-101.html</td>\n",
       "      <td>Gerade ältere Menschen in Pflegeheimen treffen...</td>\n",
       "      <td>inland</td>\n",
       "    </tr>\n",
       "  </tbody>\n",
       "</table>\n",
       "</div>"
      ],
      "text/plain": [
       "                        date  \\\n",
       "0 2020-04-16 21:54:37.967161   \n",
       "1 2020-04-16 21:54:37.967161   \n",
       "2 2020-04-16 21:54:37.967161   \n",
       "3 2020-04-16 21:54:37.967161   \n",
       "4 2020-04-16 21:54:37.967161   \n",
       "\n",
       "                                                 url  \\\n",
       "0  /investigativ/ndr/corona-aerzte-pflegekraefte-...   \n",
       "1  /inland/bund-laender-beschluss-uebersicht-101....   \n",
       "2  /newsticker/liveblog-coronavirus-donnerstag-10...   \n",
       "3                 /inland/krankenhaeuser-op-101.html   \n",
       "4      /inland/interview-corona-pflegeheime-101.html   \n",
       "\n",
       "                                             article        resort  \n",
       "0  Rund 6400 Ärzte und Pflegekräfte haben sich in...  investigativ  \n",
       "1  Die Länderchefs haben mit der Kanzlerin zwar E...        inland  \n",
       "2  Die Länderregierungen legen den Bund-Länder-Be...    newsticker  \n",
       "3  150.000 Betten auf Normalstationen sind derzei...        inland  \n",
       "4  Gerade ältere Menschen in Pflegeheimen treffen...        inland  "
      ]
     },
     "execution_count": 52,
     "metadata": {},
     "output_type": "execute_result"
    }
   ],
   "source": [
    "df.head()"
   ]
  },
  {
   "cell_type": "markdown",
   "metadata": {},
   "source": [
    "### Export CSV"
   ]
  },
  {
   "cell_type": "code",
   "execution_count": 53,
   "metadata": {},
   "outputs": [],
   "source": [
    "df.to_csv(\"data/\" + date_stamp)"
   ]
  },
  {
   "cell_type": "code",
   "execution_count": null,
   "metadata": {},
   "outputs": [],
   "source": []
  }
 ],
 "metadata": {
  "kernelspec": {
   "display_name": "Python 3",
   "language": "python",
   "name": "python3"
  },
  "language_info": {
   "codemirror_mode": {
    "name": "ipython",
    "version": 3
   },
   "file_extension": ".py",
   "mimetype": "text/x-python",
   "name": "python",
   "nbconvert_exporter": "python",
   "pygments_lexer": "ipython3",
   "version": "3.6.5"
  }
 },
 "nbformat": 4,
 "nbformat_minor": 2
}
