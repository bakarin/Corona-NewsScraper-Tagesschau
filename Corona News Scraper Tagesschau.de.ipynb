{
 "cells": [
  {
   "cell_type": "markdown",
   "metadata": {},
   "source": [
    "## Corona-News Scraper from Tagesschau.de"
   ]
  },
  {
   "cell_type": "code",
   "execution_count": 15,
   "metadata": {},
   "outputs": [],
   "source": [
    "import re\n",
    "import requests\n",
    "from bs4 import BeautifulSoup\n",
    "\n",
    "import datetime\n",
    "import pandas as pd"
   ]
  },
  {
   "cell_type": "code",
   "execution_count": 16,
   "metadata": {},
   "outputs": [],
   "source": [
    "todays_date = datetime.datetime.now()\n",
    "date_stamp = str(todays_date.date())"
   ]
  },
  {
   "cell_type": "code",
   "execution_count": 17,
   "metadata": {},
   "outputs": [],
   "source": [
    "r = requests.get('https://www.tagesschau.de/')\n",
    "soup = BeautifulSoup(r.text, \"html5lib\")"
   ]
  },
  {
   "cell_type": "markdown",
   "metadata": {},
   "source": [
    "### Parse Tagesschau.de homepage for new articles"
   ]
  },
  {
   "cell_type": "code",
   "execution_count": 18,
   "metadata": {},
   "outputs": [],
   "source": [
    "headlines = []\n",
    "dachzeilen = []\n",
    "teasers = []\n",
    "links = []\n",
    "texts = []\n",
    "a = soup.find_all('a')\n",
    "for item in a:\n",
    "    if item.find('p', class_='dachzeile'):\n",
    "        links.append(item.get('href'))\n",
    "        texts.append(item.get_text())"
   ]
  },
  {
   "cell_type": "code",
   "execution_count": 19,
   "metadata": {},
   "outputs": [
    {
     "name": "stdout",
     "output_type": "stream",
     "text": [
      "\n",
      "Coronavirus-Pandemie\n",
      "+++ New Yorks Gouverneur gegen Trump +++\n",
      "Andrew Cuomo hat im Streit über eine mögliche Lockerung von Corona-Maßnahmen den US-Präsidenten zurechtgewiesen. NRW bereitet sich auf eine schrittweise Öffnung von Schulen vor. Das kündigten zwei Minister an. Alle Entwicklungen im Liveblog.\n",
      "| mehr\n",
      "\n",
      "\n",
      "/newsticker/liveblog-coronavirus-dienstag-101.html\n"
     ]
    }
   ],
   "source": [
    "# check the first text / link\n",
    "print(texts[0])\n",
    "\n",
    "print(links[0])\n"
   ]
  },
  {
   "cell_type": "markdown",
   "metadata": {},
   "source": [
    "### Check which articles on the homepage are about the Corona virus"
   ]
  },
  {
   "cell_type": "code",
   "execution_count": 20,
   "metadata": {},
   "outputs": [],
   "source": [
    "# corona, covid19, coronavirus\n",
    "corona_links = []\n",
    "corona_texts = []\n",
    "for i in range(len(texts)):\n",
    "    if (\"corona\" in texts[i].lower()) | (\"covid\" in texts[i].lower()):\n",
    "        if links[i].startswith(\"/\"):\n",
    "            corona_links.append(links[i])\n",
    "            corona_texts.append(texts[i])"
   ]
  },
  {
   "cell_type": "code",
   "execution_count": 21,
   "metadata": {},
   "outputs": [
    {
     "name": "stdout",
     "output_type": "stream",
     "text": [
      "['/newsticker/liveblog-coronavirus-dienstag-101.html', '/inland/corona-schule-105.html', '/inland/quarantaen-alte-menschen-corona-101.html', '/inland/rki-pk-101.html', '/wirtschaft/corona-krise-iwf-101.html', '/wirtschaft/coronavirus-milchbauern-101.html', '/inland/stichwort-leopoldina-101.html', '/investigativ/swr/coronakrise-gestrandete-pakistan-101.html', '/ausland/tuerkei-freilassungen-101.html', '/wirtschaft/amazon-265.html', '/ausland/coronavirus-karten-101.html']\n",
      "\n",
      "['\\nCoronavirus-Pandemie\\n+++ New Yorks Gouverneur gegen Trump +++\\nAndrew Cuomo hat im Streit über eine mögliche Lockerung von Corona-Maßnahmen den US-Präsidenten zurechtgewiesen. NRW bereitet sich auf eine schrittweise Öffnung von Schulen vor. Das kündigten zwei Minister an. Alle Entwicklungen im Liveblog.\\n|\\xa0mehr\\n\\n', '\\nCorona-Maßnahmen\\nStreitfall Schule\\nRegelmäßiges Lehren und Lernen, mehr Raum für berufstätige Eltern - der Wunsch nach einer Rückkehr in den Schulalltag ist groß. Doch wie kann die sicher gelingen? Die Experten sind sich uneins.\\n|\\xa0mehr\\n\\n', '\\nMaßnahmen gegen Corona\\nWäre Quarantäne für Ältere möglich?\\nViele ältere Menschen fühlen sich jetzt bereits einsam ohne ihre sozialen Kontakte. Es gibt Überlegungen, diese Isolierung noch auszuweiten. Aber was sagen Juristen dazu? Von Iris Marx.\\n|\\xa0mehr\\n\\n', '\\nRKI zur Corona-Lage \\n\"Wir sehen eine Verlangsamung\"\\nRKI-Präsident Wieler sieht \"einige positive Tendenzen\" in der Corona-Krise. Die Zahlen hätten sich auf einem relativ hohen Niveau stabilisiert. Er rief aber auch dazu auf, die Regeln weiterhin zu befolgen.\\n|\\xa0mehr\\n\\n', '\\nIWF zu globaler Rezession\\n\"Wesentlich schlimmer als Finanzkrise\"\\nDie Welt steht wegen der Corona-Pandemie laut IWF vor einer epochalen Rezession. Auch für Deutschland und die Eurozone ist die Prognose für dieses Jahr düster. 2021 gibt es aber zumindest Hoffnung auf eine Erholung.\\n|\\xa0mehr\\n\\n', '\\nCoronavirus-Pandemie\\nMilchbauern fürchten neue Krise\\nIm Supermarkt ist die Milchnachfrage gestiegen - doch der Export und das Geschäft mit der Gastronomie stocken in der Corona-Krise. Milchviehhalter warnen und empfehlen weniger Kraftfutter für die Kühe.\\n|\\xa0mehr\\n\\n', '\\nLeopoldina\\nGewichtige Stimme in der Krise\\nIn der Corona-Krise ist die Leopoldina eine viel zitierte Institution, berühmte Forscher prägten ihre jahrhundertealte Geschichte. Aber was macht die Akademie eigentlich - und warum wird ihr Rat gehört? Von Christopher Jähnert.   |\\xa0mehr\\n', '\\nTouristen in der Corona-Krise\\nVon der Botschaft im Stich gelassen?\\nNoch immer sitzen Hunderte Menschen aus Deutschland in Pakistan und der Türkei fest. Sie haben kaum noch Hoffnung, bald zurückzukehren. Das Auswärtige Amt zeigt sich zögerlich. Von Marcel Kolvenbach.\\n|\\xa0mehr\\n\\n', '\\nWegen Coronavirus\\nTürkei lässt Zehntausende Häftlinge frei\\nJeder dritte Gefangene soll freikommen - zum Schutz vor Corona, so die Regierung. Oppositionelle kritisieren, es ginge nicht um Gesundheit, sondern um eine Amnestie für regierungsnahe Inhaftierte. Von Christian Buttkereit.\\n|\\xa0mehr\\n\\n', '\\nAmazon in der Corona-Krise\\nBoom auf Kosten der Angestellten?\\nAmazon profitiert von der Corona-Krise und will Zehntausende Jobs schaffen. Zugleich versucht der Konzern, sich als Wohltäter darzustellen. Doch Amazon-Mitarbeiter in den USA beschreiben ihren Arbeitgeber ganz anders. Von Katharina Wilhelm. \\n|\\xa0mehr\\n\\n', '\\nKarten mit Fallzahlen\\nWo sich das Coronavirus ausbreitet\\nWie viele bestätigte Coronavirus-Fälle gibt es? Die interaktiven Karten geben einen aktuellen Überblick für Deutschland und die Welt. Sie zeigen auch an, wie viele Menschen gestorben und wie viele genesen sind.  |\\xa0mehr\\n']\n"
     ]
    }
   ],
   "source": [
    "print(corona_links)\n",
    "print(\"\")\n",
    "print(corona_texts)"
   ]
  },
  {
   "cell_type": "markdown",
   "metadata": {},
   "source": [
    "### Get full article for each news about corona virus"
   ]
  },
  {
   "cell_type": "code",
   "execution_count": 22,
   "metadata": {},
   "outputs": [
    {
     "name": "stdout",
     "output_type": "stream",
     "text": [
      "https://www.tagesschau.de/newsticker/liveblog-coronavirus-dienstag-101.html\n",
      "https://www.tagesschau.de/inland/corona-schule-105.html\n",
      "https://www.tagesschau.de/inland/quarantaen-alte-menschen-corona-101.html\n",
      "https://www.tagesschau.de/inland/rki-pk-101.html\n",
      "https://www.tagesschau.de/wirtschaft/corona-krise-iwf-101.html\n",
      "https://www.tagesschau.de/wirtschaft/coronavirus-milchbauern-101.html\n",
      "https://www.tagesschau.de/inland/stichwort-leopoldina-101.html\n",
      "https://www.tagesschau.de/investigativ/swr/coronakrise-gestrandete-pakistan-101.html\n",
      "https://www.tagesschau.de/ausland/tuerkei-freilassungen-101.html\n",
      "https://www.tagesschau.de/wirtschaft/amazon-265.html\n",
      "https://www.tagesschau.de/ausland/coronavirus-karten-101.html\n"
     ]
    }
   ],
   "source": [
    "corona_articles = []\n",
    "for link in corona_links:\n",
    "    full_link = \"https://www.tagesschau.de\" + link\n",
    "    print(full_link)\n",
    "    html = requests.get(full_link)\n",
    "    sub_soup = BeautifulSoup(html.text, \"html5lib\")\n",
    "    article = sub_soup.find_all('p', class_='text small')\n",
    "    paragraphs = []\n",
    "    for i in range(len(article)):\n",
    "        paragraphs.append(article[i].get_text())\n",
    "    # unifying the paragraphs\n",
    "    final_article = \" \".join(paragraphs)\n",
    "    corona_articles.append(final_article)\n",
    "    "
   ]
  },
  {
   "cell_type": "code",
   "execution_count": 23,
   "metadata": {},
   "outputs": [
    {
     "name": "stdout",
     "output_type": "stream",
     "text": [
      "['Andrew Cuomo hat im Streit über eine mögliche Lockerung von Corona-Maßnahmen den US-Präsidenten zurechtgewiesen. NRW bereitet sich auf eine schrittweise Öffnung von Schulen vor. Das kündigten zwei Minister an.  ', 'Regelmäßiges Lehren und Lernen, mehr Raum für berufstätige Eltern - der Wunsch nach einer Rückkehr in den Schulalltag ist groß. Doch wie kann die sicher gelingen? Die Experten sind sich uneins.  Seit Wochen sind die Schulen in Deutschland geschlossen. Eltern stemmen den Heimunterricht und ihre Büroarbeit oftmals parallel in den eigenen vier Wänden. Die Schüler bangen um ihre Abschlussprüfungen und lernen unter erschwerten Bedingungen. Die Sehnsucht nach einer Rückkehr zu einem geregelten Schulalltag ist groß, doch wie die gelingen kann, darüber streiten die Experten. \\n  Eine Schulöffnung nur in kleinen Schritten und in den Hauptfächern, die jüngeren Abschlussjahrgänge zuerst - das empfehlen die Wissenschaftler der Leopoldina in ihrem vielfach beachteten Bericht. \"Da die Jüngeren im Bildungssystem mehr auf persönliche Betreuung, Anleitung und Unterstützung angewiesen sind, sollten zuerst Grundschulen und die Sekundarstufe I wieder schrittweise geöffnet werden\", schrieben die Forscher.  Die Möglichkeiten des Fernunterrichts könnten \"mit zunehmendem Alter besser genutzt werden\".\\xa0Prüfungen sollten aber \"wenn eben möglich\" abgehalten werden. Die Leopoldina setzt auf \"deutlich reduzierte Gruppengrößen\", um das Abstandsgebot besser einhalten zu können. \\n  Das sieht das Berliner Robert Koch-Institut (RKI) anders. Die Empfehlung der Wissenschaftler: Schulen zuerst wieder für die höheren Jahrgänge öffnen. Es gehe dabei um die Annahme, dass Jugendliche Abstandsregeln besser einhalten könnten, sagte RKI-Präsident Lothar Wieler. \"Das ist eine Entscheidung der Politik\", ergänzte er. Es gebe Gründe dafür und dagegen. Vieles sei ein Ausprobieren. Es gebe derzeit noch keine Hinweise darauf, dass die Coronavirus-Epidemie in Deutschland eingedämmt sei, betonte Wieler. Es sei aber gelungen, sie zu verlangsamen, vor allem durch das Einhalten der Abstands- und Hygieneregeln. \"Diese Disziplin sollten wir weiter beibehalten.\"  Auch die Gewerkschaft Erziehung und Wissenschaft (GEW) äußerte sich skeptisch zu den Empfehlungen der Leopoldina. \"Viele Vorschläge gehen an der Realität in den Bildungseinrichtungen vorbei\", sagte die GEW-Vorsitzende Marlis Tepe. Zudem nähmen die Leopoldina-Empfehlungen nur Übergänge und Prüfungen in den Blick und entsprächen so nicht dem Bildungsauftrag etwa der Kitas und Schulen. Der Gesundheits- und Infektionsschutz müsse im Mittelpunkt stehen, so die GEW. \\n  Bislang seien sowohl Fragen des Infektionsschutzes als auch der Hygiene und Sauberkeit in den Bildungseinrichtungen vielfach nicht gelöst. So müssten ausreichend\\xa0Schutzmasken zur Verfügung gestellt werden. Zudem sei die Frage des Schülertransports ungeklärt: Im öffentlichen Nahverkehr könne die Gefahr von Infektionen kaum minimiert werden.  Auch sei die Umsetzung von Abstandsregeln in den meisten Klassenräumen problematisch. Tepe erinnerte außerdem an den hohen Anteil von Erziehern und Pädagogen, die der Risikogruppe angehören. Ein\\xa0Schichtbetrieb sei vielfach nicht möglich. \\n  Skeptisch zu einer schnellen Öffnung der Grundschulen wie sie die Leopoldina vorschlägt, äußerte sich auch Hessens Ministerpräsident Volker Bouffier: Er wolle eher mit den Abschlussjahrgängen beginnen. \"Nicht nur weil die vorm Abschluss stehen, sondern weil wir auch glauben, dass bei älteren Schülerinnen und Schülern der notwendige Appell, Abstand zu halten und Hygienevorschriften einzuhalten, wesentlich besser gelingen kann als bei Kindern in der Grundschule\", sagte er.  Wie Bouffier sprach sich auch der nordrhein-westfälische Ministerpräsident Armin Laschet für ein gemeinsames Vorgehen der 16 Bundesländer aus. \"Ich plädiere dafür, dass wir möglichst einheitliche Regelungen in allen deutschen Ländern haben\", sagte Laschet. Zu den Bedingungen einer Öffnung gehöre ein besseres Monitoring der Krisen-Daten, das Einhalten aller Abstandsgebote und der Hygiene-Vorschriften - sowie vielleicht auch das Tragen von Masken. \\n  NRW: Schrittweise Rückkehr nach den Osterferien  Nordrhein-Westfalen stellte am Dienstag als erstes Bundesland einen konkreten\\xa0Zeitplan in Aussicht: Nach der aktuellen Osterferienwoche sollen die Schulen dort nach Informationen der Deutschen Presse Agentur schrittweise wieder öffnen. Eine Woche später sollen demnach voraussichtlich auch die ersten Kita-Kinder wieder in die Kindertagesstätten zurückkehren dürfen. In den Kitas sollen zunächst die Kinder, die kurz vor der Einschulung stehen, wieder betreut werden.  In der kommenden Woche werde die Notfallbetreuung noch fortgesetzt, sagte Familienminister Joachim Stamp. \"Danach schlage ich vor, den letzten Jahrgang vor der Einschulung wieder zuzulassen.\" Mit einer \"überschaubaren Anzahl\" von Kindern könnten dann Hygienemaßnahmen spielerisch eingeübt werden, bevor auch die Jüngeren \"in mehreren Schritten\" wieder integriert werden könnten.  Bei dem Treffen der Ministerpräsidenten mit Kanzlerin Angela Merkel soll morgen auch über die Frage der Rückkehr in die Schulen beraten werden.  Bundesfamilienministerin Franziska Giffey mahnte alltagstaugliche Regelungen bei einer möglichen Lockerung der Corona-Einschränkungen an. Bei der Frage, wann Kitas und Schulen wieder öffnen könnten, müsse auch die Lage der Eltern eine Rolle spielen, sagte sie. Eltern stießen bei der Betreuung zu Hause neben ihrer Arbeit an Grenzen. Das gelte insbesondere für Alleinerziehende. Auch für Kinder aus Familien, die in beengten und schwierigen Verhältnissen leben, seien Außenkontakte in Kindergärten und Schulen besonders wichtig. Giffey regte an, auch über eine zeitweise Betreuung zu sprechen.  Der Deutsche Kitaverband lehnt die Empfehlungen der Leopoldina ab: Die Bundesvorsitzende Waltraud Weegmann nannte den Vorschlag, Kitas vorerst für Fünf- und Sechsjährige wieder zu öffnen und für alle anderen Kinder bis zum Sommer nur Notbetreuung anzubieten, einen \"weitreichenden Eingriff\". Eine Schließung bis zu den Sommerferien würde die Eltern in große Nöte bringen, sagte Weegmann der \"Heilbronner Stimme\" und dem \"Mannheimer Morgen\". Viele Eltern hätten Berufe, in denen sie nicht im Homeoffice arbeiten könnten. \"Bleiben die Kitas zu, stellt dies die Familien vor unlösbare Probleme.\"  Dass die Zeit drängt, macht ein Aufruf des Deutschen Lehrerverbandes deutlich: Der geht davon aus, dass in den vergangenen Wochen bereits \"ein Viertel der Schüler von jenen abgehängt wurde, die andere Voraussetzungen haben\". Es gehe etwa um Kinder mit schlechten Deutschkenntnissen, aus schwierigen sozialen Verhältnissen und ohne ausreichende technische Ausstattung, erläuterte der Lehrerverbandspräsident, Heinz-Peter Meidinger.  Insgesamt sind nach vorläufigen Ergebnissen des Statistischen Bundesamtes im aktuellen Schuljahr rund 8,3 Millionen Schüler an allgemeinbildenden Schulen und 2,4 Millionen an berufsbildenden Schulen von den Schulschließungen bis mindestens zum Ende der Osterferien betroffen. \\n', 'Viele ältere Menschen fühlen sich jetzt bereits einsam ohne ihre sozialen Kontakte. Es gibt Überlegungen, diese Isolierung noch auszuweiten. Aber was sagen Juristen dazu?  Tatiana Wagner ist Pastorin an der Friedenskirche der Stephanus-Stiftung im Berliner Ortsteil Weißensee. In der Einrichtung verbringen viele ältere Menschen ihren Lebensabend.  Wagner nähert sich ihnen zurzeit nur mit Handschuhen und einer Atemschutzmaske. Schon das sei für einige Bewohner schwer: \"Keine Umarmung, keine Hand, die wir im Moment reichen können.\" Dazu komme, dass die älteren Menschen sich zwar im Garten der Einrichtung frei bewegen könnten, aber Besuch gebe es zurzeit keinen. \\n  \"Das spannt die älteren Menschen schon sehr an\", sagt die Pastorin. Aber die meisten verstünden es und telefonierten jetzt eben mehr mit den Angehörigen oder suchten auf andere Weise Kontakt - sofern dies eben möglich sei.  \"Ein ehemaliger Arzt zum Beispiel, der sieht das ganz locker und hat überhaupt keine Angst, sich anzustecken.\" Aber er akzeptiere die Regeln. \"Immerhin hat er an seinem 94. Geburtstag ein Ständchen von seinen Angehörigen vor dem Fenster bekommen\" erzählt sie.  Andere hätten hingegen schon große Angst davor, dass sie sich infizieren - oder schlimmer, jemand anderen zu infizieren, sagt Pflegedienstleiterin Petra Roth-Steiner.  Pastorin Wagner erzählt, es seien neben den Angehörigen noch ganz alltägliche Dinge, die die Bewohner vermissen. \"Eine Dame sagte kürzlich, dass sie gerne zum Friseur gehen wolle.\" Sie versuche in solchen Momenten, den Menschen viel Zuversicht zu geben, dass auch diese Zeiten vorbeigingen. \\n  Quarantäne für Ältere - das ist zurzeit nur eine Idee, die diskutiert wird, um etwa auch die Kontakt- und Ausgangsbeschränkungen für die Jüngeren zu lockern. Damit diese wieder normal arbeiten können und das Leben ein Stück weit zurück zur Normalität kommt - auf Kosten allerdings der Älteren.  In den Ländern liebäugeln einige Politiker mit dieser Möglichkeit. So forderte bereits Ende März Berlins Gesundheitssenatorin Dilek Kalayci (SPD), dass Menschen über 70 Jahre ihre Wohnung freiwillig nicht mehr verlassen sollten. Diese \"Selbstquarantäne\" sei nur zu ihrem Besten. \"Abstand ist der sicherste Schutz vor einer Infektion mit dem Coronavirus\", sagte die Politikerin. Nebenbei würde auch das Gesundheitsystem geschützt.  Noch weiter geht Tübingens Oberbürgermeister Boris Palmer von den Grünen. In einem Interview sprach er davon, dass er sich vorstellen könne, die Quarantäne für Ältere sogar verpflichtend zu machen. Auch sein Vorschlage erntete Kritik. Palmers Parteifreund Hans-Christian Ströbele sagte dem Redaktionsnetzwerk Deutschland: \"Wenn sie die Alten und chronisch Kranken separieren, bin ich am nächsten Tag beim Bundesverfassungsgericht und klage\".  Aber so eine Klage könnte erfolglos bleiben. Der Staatsrechtler Christian Pestalozza hält eine Sonderregel für Ältere unter bestimmten Bedingungen für denkbar: \"Wenn so etwas erzwungen wird, dann muss das medizinisch aber sehr gut begründet sein\", sagt der emeritierte Professor der Freien Universität Berlin.  Es müsse klar sein, warum Menschen ab einem gewissen Alter besonders schutzbedürftig seien. \"Sonst wäre das eine willkürliche Ungleichbehandlung\": warum jemand mit 69 Jahren etwa nicht betroffen wäre, aber jemand mit 70 Jahren. Und warum es in einem engen Zuhause sicherer sei, als wenn sich der ältere Mensch an der frischen Luft bewege.  Ähnlich sieht das der Staatsrechtler Hinnerk Wißmann. \"Ja, es ist möglich, zwischen den Bürgern Unterschiede zu machen. Der grundgesetzliche Gleichheitssatz erlaubt das auch\", sagt der Münsteraner Professor. \"Aber sie sind, wenn man sie an starren Altersgrenzen festmacht, ganz besonders rechtfertigungsbedürftig.\"  Vielleicht müsse man jedoch gar nicht Alt gegen Jung ausspielen. Wißmann plädiert für einen Kompromiss: \"Man kann daran denken, die Einschränkungen auf alle Gruppen zu verteilen.\" Diejenigen, die nicht arbeiten, könnten den öffentlichen Raum zwischen zehn und 13 Uhr beanspruchen. Zu den anderen Zeiten könnte der Raum den anderen überlassen werden, schlägt Wißmann vor. So gebe es weniger Begegnungspunkte, und das öffentliche Leben könnte wieder etwas hochfahren.  Immerhin ein Mittelweg, der auch der Seniorin in der Stephanus-Stiftung einen Friseurgang wieder erlauben würde. In jedem Falle aber generationsgerechter.  Ob die Bewohner ihrer Einrichtung die Situation noch länger aushalten könnten, falls es etwa eine Quarantäne nur für ältere Menschen geben sollte? Das könne man nur schwer beantworten, sagt Pastorin Wagner. \"Die Älteren haben schon einiges mitgemacht. Die haben teilweise noch den Krieg erlebt\", die könnten das vielleicht verstehen. Aber Pauschalisierungen seien auch hier eben schwer.', 'RKI-Präsident Wieler sieht \"einige positive Tendenzen\" in der Corona-Krise. Die Zahlen hätten sich auf einem relativ hohen Niveau stabilisiert. Er rief aber auch dazu auf, die Regeln weiterhin zu befolgen.  Die Zahlen der an Covid-19 Erkrankten haben sich laut dem Präsidenten des Robert Koch-Instituts, Lothar Wieler, auf \"hohem Niveau eingependelt.\" Es gebe keinen eindeutigen Trend, dass sie zurückgingen. Allerdings sei es gelungen, die weitere Verbreitung des Virus zu verlangsamen, vor allem durch das Einhalten der Regeln. \"Diese Disziplin sollten wir weiter beibehalten. Wenn die Mobilität wieder zunimmt, ist das nicht schlecht - aber bitte mit Abstandsregeln\", sagte Wieler. Lassen Sie uns nicht nachlassen.\"  Positiv merkte er an, dass in den Krankenhäusern in Deutschland aktuell ausreichend Intensivbetten und Beatmungsgeräte vorhanden seien, um die Krise zu beherrschen. \"Bei der derzeitigen Dynamik werden keine Engpässe prognostiziert.\" Hilfreich sei, dass die Grippewelle in Deutschland vorbei sei und sich so nicht mehr mit der Pandemie überschneiden könne.  Nach Angaben des RKI ist die Zahl der Infektionsfälle um 2082 auf 126.600 gestiegen. Insgesamt seien in Deutschland 2998 Menschen gestorben. 68.200 Menschen haben die Infektion überstanden. Die tatsächliche Zahl dürfte noch weit darüber liegen - unter anderem, weil zahlreiche milde oder symptomlose Verläufe gar nicht durch Tests erfasst wurden.  Besonders hohe Infiziertenzahlen haben den Teststatistiken zufolge Bayern mit mehr als 33.300 nachgewiesenen Fällen und mindestens 834 Toten, Nordrhein-Westfalen mit mehr als 26.900 Fällen und mindestens 613 Toten sowie Baden-Württemberg mit mehr als 24.800 bestätigten Fällen und mindestens 702 Toten.  Gerechnet auf 100.000 Einwohner verzeichnet Bayern mit einem Wert von 254,9 die meisten Infektionen. Im Bundesschnitt waren es 152,3. Allerdings ist die Anzahl der Tests pro 100.000 Einwohner in den Bundesländern unterschiedlich hoch. Wie für andere Länder rechnen Experten auch in Deutschland mit einer hohen Dunkelziffer nicht erfasster Fälle. \\n  Das RKI berechnet die sogenannte Reproduktionszahl derzeit mit 1,2, strebt aber einen Wert von unter eins an. Dies würde bedeuten, dass ein Infizierter das Virus im Durchschnitt höchstens an eine Person oder weniger weitergebe.  In der Debatte um Lockerungen stellte sich das RKI im Wesentlichen hinter die jüngsten Empfehlungen der Nationalakademie Leopoldina. Wieler sagte lediglich, das RKI habe eine leicht abweichende Einschätzung zum Vorgehen bei den Schulöffnungen. Das RKI sei der Meinung, dass es \"epidemiologisch sehr viel Sinn macht\", erst ältere Schüler wieder zu unterrichten. Es sei zu erwarten, dass diese die Abstandsregeln besser einhielten.  Die Wissenschaftler der Leopoldina beraten die Bundesregierung und hatten am Wochenende ein Papier zu möglichen Lockerungen vorgelegt. Darin empfehlen sie unter anderem, erst Grundschulen und die Sekundardstufe eins zu öffnen. Zudem sprechen sie sich für eine Maskenpflicht in öffentlichen Verkehrsmitteln aus. \\n', 'Die Welt steht wegen der Corona-Pandemie laut IWF vor einer epochalen Rezession. Auch für Deutschland und die Eurozone ist die Prognose für dieses Jahr düster. 2021 gibt es aber zumindest Hoffnung auf eine Erholung.  Der Internationale Währungsfonds (IWF) rechnet mit der schwersten globalen Rezession seit fast hundert Jahren. Die Wirtschaftsleistung könnte um drei Prozent schrumpfen, erklärte der IWF in seiner jüngsten Prognose zur globalen Konjunkturentwicklung.  \"Die Welt hat sich in den vergangenen drei Monaten dramatisch verändert\", sagte IWF-Chefökonomin Gita Gopinath zum neuen Weltwirtschaftsausblick. Der prognostizierte Wirtschaftseinbruch werde \"die schlimmste Rezession seit der Großen Depression sein und wesentlich schlimmer als die globale Finanzkrise von 2008 bis 2009\", so Gopinath.  Im Januar hatte der IWF für 2020 noch ein weltweites Wachstum von 3,3 Prozent prognostiziert. \\n  In Deutschland wird die Wirtschaft dem IWF zufolge im Vergleich zum Vorjahr um sieben Prozent schrumpfen, in Italien sogar um 9,1 Prozent.  In der Eurozone werde die Wirtschaftsleistung demnach um 7,5 Prozent schrumpfen. Auch für die Eurozone hatte der IWF im Januar noch für das Jahr 2020 ein Wachstum von 1,3 Prozent prognostiziert. Für 2021 rechnet der IWF für die 19 Länder der Eurozone jedoch mit einer Erholung und einem Wirtschaftswachstum von 4,7 Prozent - vorausgesetzt, die wirtschaftlichen Auswirkungen der Pandemie werden im zweiten Quartal 2020 unter Kontrolle gebracht.  Für die USA, die größte Volkswirtschaft der Welt, sagt der IWF für 2020 ein Schrumpfen des Bruttoninlandsproduktes um 5,9 Prozent voraus. Für 2021 wird dort dann wiederum ein Wachstum von 4,7 Prozent erwartet. \\n  Positiv wertete der IWF die schnellen und umfangreichen Rettungsprogramme zahlreicher Regierungen, die sich auf mehrere Billionen Dollar summieren. Dazu kämen die Hilfen der Notenbanken rund um den Globus. Gopinath sagte, die wirtschaftlichen Verluste durch die Pandemie dürften sich 2020 und 2021 zusammen auf rund neun Billionen Dollar summieren - mehr als die Volkswirtschaften von Deutschland und Japan gemeinsam ausmachen.  Für das kommende Jahr erwartet der IWF eine kräftige Erholung, räumt aber ein, dass diese Schätzung in erster Linie von der Dauer der Pandemie abhänge. Die Prognosen seien noch mit \"extremer Unsicherheit\" behaftet, warnte der IWF.  Wahrscheinlich werde der Höhepunkt der Krise im Laufe des zweiten Quartals 2020 erreicht und dann eine allmähliche Erholung im zweiten Halbjahr einsetzen. Wenn es gelänge, die Pandemie einzudämmen und die wirtschaftliche Aktivität nach und nach wieder hochzufahren, könnte die Weltwirtschaft im Jahr 2021 wieder ein Wachstum von 5,8 Prozent verzeichnen, heißt es in der Prognose. Trotzdem werde die Verschuldung deutlich anziehen. \\n', 'Im Supermarkt ist die Milchnachfrage gestiegen - doch der Export und das Geschäft mit der Gastronomie stocken in der Corona-Krise. Milchviehhalter warnen und empfehlen weniger Kraftfutter für die Kühe.  Angesichts eingebrochener Absatzmärkte und sinkender Milchpreise warnt der Bundesverband Deutscher Milchviehhalter (BDM) vor einer Krise für Landwirte. Der Milchpreis sei im Bundesdurchschnitt auf bis zu 31 Cent pro Liter gefallen, sagte BDM-Sprecher Hans Foldenauer der Nachrichtenagentur AFP. Im vergangenen Jahr lag der Preis für konventionell erzeugte Rohmilch laut dem Bundeslandwirtschaftsministerium deutlich über der 32 Cent-Marke.  Derzeit liege die Milchproduktion zwischen drei und fünf Prozent über der Nachfrage auf den Märkten, sagte Foldenauer. In der letzten Milchpreis-Krise im Jahr 2015 hatte der Produktionsüberschuss demnach bei gut zwei Prozent gelegen.\\xa0 Seither hätten die Landwirte wegen der weiterhin \"zu niedrigen Preise\" zwar ihre laufende Kosten decken, aber keine Kredite begleichen oder Rücklagen bilden können.  \"Wenn wir jetzt in die nächste Krise reinrutschen, wird die Situation schlimmer als 2015\", sagte Foldenauer. \"Dann werden viele Bauern sagen: Ich kann nicht mehr, ich steige aus.\" Bereits im vergangenen Jahr hätten fünf Prozent der Höfe aufgegeben.  Foldenauer sieht nun auch die Erzeuger selbst in der Verantwortung, um für ein wenig Abkühlung auf den Milchmärkten zu sorgen: Er rät, die Milcherzeugung vorübergehend zu drosseln, etwa indem die Kühe vorübergehend etwas weniger Kraftfutter erhielten.  Auch einige deutsche Molkereien reagieren mittlerweile auf den Milchüberschuss in der Pandemie. \"Erste Molkereien haben damit begonnen, weniger Milch anzunehmen\", sagt Björn Börgermann, Referent beim Milchindustrie-Verband. Eine Forderung für die gesamte Branche wolle er daraus indes nicht machen. Er rechne mit einer Stabilisierung des Absatzmarkts in Asien. \\n  Wegen der Corona-Pandemie ist die weltweite Nachfrage nach Milch stark eingebrochen. Insbesondere auf dem wichtigen chinesischen Absatzmarkt wird derzeit weniger verkauft. Der Milchpreis sank - zugleich allerdings zog die Nachfrage nach Milch und Milchprodukten in deutschen Supermärkten zeitweilig stark an.  Bundeslandwirtschaftsministerin Julia Klöckner hatte den Lebensmitteleinzelhandel zuletzt vor einem allzu hohen Preisdruck auf die Milchbauern gewarnt. \"Wenn die Händler die Endverbraucherpreise erhöhen sollten, dann erwarte ich, dass davon auch ein fairer Anteil bei unseren Landwirten ankommt\", sagte die CDU-Politikerin der \"Rheinischen Post\".  Auch in anderen EU-Staaten reagieren Milchbauern alarmiert auf die Corona-Krise. In Frankreich mussten nach Angaben der Nachrichtenagentur AFP viele Milchbauern Tausende Liter Milch wegschütten, weil sie keinen Abnehmer mehr dafür fanden.  Auch die Käse-Produzenten leiden demnach unter der Krise. \"Vom Brie über den Rocamadour und den Münsterkäse bis hin zum Reblochon, die Lage ist katastrophal\", sagt Michel Lacoste. Er vertritt die Hersteller geschützter Milchprodukt-Marken in Frankreich. \"Wir fühlen uns sehr alleine und isoliert, wir haben auf einen Schlag all unsere Kunden verloren.\"  Der\\xa0Preis für Magermilchpulver\\xa0lag laut dem European Milk Board (EMB), dem Dachverband der europäischen Milcherzeuger, jüngst bei nur noch\\xa0211 Euro pro 100 Kilogramm. \\n', 'In der Corona-Krise ist die Leopoldina eine viel zitierte Institution, berühmte Forscher prägten ihre jahrhundertealte Geschichte. Aber was macht die Akademie eigentlich - und warum wird ihr Rat gehört?   Immer wieder ist von der Leopoldina die Rede, wenn die Bundesregierung sich wissenschaftlichen Rat holen will. Nicht nur jetzt in der Corona-Krise - auch schon davor war die Leopoldina gefragt, zum Beispiel in Sachen Klimawandel.  Die Leopoldina in Halle an der Saale ist eine Gesellschaft von Wissenschaftlern, eine Art Versammlung von Professoren. Sie hat fast 1600 Mitglieder aller Fachrichtungen. Der Vorsitzende Gerald Haug spricht von einem ganz herausragenden intellektuellen Pool. Diese Mitglieder werden gewählt, weil sie sich in verschiedenen Fachrichtungen besonders hervorgetan haben, also beispielweise nicht nur in den Naturwissenschaften. \\n  Frühere Mitglieder waren zum Beispiel Albert Einstein oder Charles Darwin, denn die Leopoldina gibt es schon seit dem 17. Jahrhundert. Sie ist damit die älteste Akademie der Welt. Seit 2008 ist sie offiziell die Nationale Akademie der Wissenschaften. Sie soll Entscheidungsträger in wichtigen Fragen beraten - und zwar unabhängig von wirtschaftlichen und politischen Interessen. Oder wie es offiziell heißt: Sie trägt zu einer verantwortungsvollen Anwendung wissenschaftlicher Erkenntnisse zum Wohle von Mensch und Natur bei. \\n  Getragen wird die Akademie vom Wissen ihrer Mitglieder - Wissenschaftlern, die zu den Besten der Welt gehören sollen. Genau das kann in Situationen wie der Corona-Krise ziemlich wertvoll sein. Gerade in der aktuellen Lage gibt es auch viele andere Empfehlungspapiere, die aber in der Regel eine einseitigere Perspektive einnehmen. Wirtschaftsinstitute vertreten zum Beispiel eher die Interessen der Wirtschaft. Das soll die Leopoldina eben anders machen. Sie soll ethische, gesellschaftliche und wirtschaftliche Aspekte gleichermaßen mitberücksichtigen.  Schirmherr der Leopoldina ist der Bundespräsident. Finanziert wird die Leopoldina auch zum größten Teil vom Bund, zum kleineren Teil vom Land Sachsen-Anhalt. \\n', 'Noch immer sitzen Hunderte Menschen aus Deutschland in Pakistan und der Türkei fest. Sie haben kaum noch Hoffnung, vor dem Ende der Covid-19 Maßnahmen zurückzukehren. Das Auswärtige Amt gibt sich in der Notsituation zögerlich.  Über das Oster-Wochenende haben Dutzende Hilferufe von Familien den SWR erreicht, die es bisher nicht geschafft haben, Pakistan zu verlassen. Die Regierung in Islamabad\\xa0hatte als Reaktion auf die Covid-19-Epidemie am 21. März den regulären Flugverkehr ausgesetzt. Betroffen sind neben kleinen Kindern auch alte Menschen und Personen mit Vorerkrankungen.  Nach Berichten des Auswärtigen Amtes wurden für 625 Reisende, die in Pakistan von der Corona-Krise überrascht worden waren, bisher zwei Rückholflüge organisiert - am 31. März und am 4. April. \"Vorrangig berücksichtigt wurden vor allem Touristen und spezifisch Covid-19-Gefährdete, also Personen mit medizinischen Vorerkrankungen und ältere Mitbürger\", war am 10. April auf der Seite der Botschaft in Islamabad zu lesen. Weitere Flüge seien derzeit nicht geplant.  Dabei hätte nach Aussagen von Betroffenen, die sich rechtzeitig auf der Website der Botschaft und bei der \"Elektronische Erfassung von Deutschen im Ausland\" (ELEFAND) registriert hatten, der deutschen Botschaft von Anfang an klar sein müssen, dass es mehr als 800 Personen gab, die nach Deutschland zurückkehren wollten. \\n  In einer Online-Petition der in Pakistan gestrandeten Personen heißt es, dass immer noch rund 300 Menschen aus Deutschland in Pakistan festsitzen. \"Viele dieser Personen haben ernste gesundheitliche Leiden wie diverse kardiologische Krankheitsbilder, Bluthochdruck, Diabetes, Asthma, oder Stoffwechselerkrankungen\" erklärt die Koordinatorin der Petition, die Frankfurter Autorin und Netzaktivistin Ayesha Khan.  Sie berichtet auch, dass die Personen mit denen sie gesprochen hat, vergeblich versuchten, mit der Botschaft in Islamabad oder dem Auswärtigen Amt Kontakt aufzunehmen, um einen Platz in einem der beiden Rückflüge zu bekommen. Einige Betroffene hätten parallel teure Flüge über Quatar Airways gebucht, doch diese seien kurzfristig von der Airline gestrichen worden.  Über einen weiteren Flug nach Europa erfuhren die Menschen unter anderem über soziale Medien. Botschafter Bernhard Schlagheck twitterte am 8. April, dass die dänische Botschaft\\xa0am 10. April einen Flug  mit einer Maschine der Pakistan International Airlines (PIA) von Islamabad nach Kopenhagen organisiere. \"Ein Teil der Tickets ist frei verkäuflich in PIA-Ticketverkaufsstellen erhältlich. First come first served\" - so heißt es am Ende lapidar.  Berhard Schlagheck, der deutsche Botschafter in Islamabad, war bisher für eine Stellungnahme nicht zu erreichen. Gegenüber dem SWR erklärten Betroffene, dass die Buchung so eines PIA-Tickets aufgrund der Ausgangssperre in der Praxis nahezu unmöglich sei. Einem Pärchen sei eine Buchung für einen anderen PIA-Flug nach Kopenhagen für 1700 Euro zunächst gelungen, via SMS hätten sie dann zunächst von der Verschiebung und dann kurz vor Abflug von der Absage des Fluges erfahren. \\n  Unterdessen sei es zu einem ersten Todesfall unter den Reisenden gekommen: Ein 61-Jähriger aus Offenbach sei aufgrund des Stresses angesichts der angespannten Situation vor Ort an Herzversagen gestorben.  Die Menschen sind verzweifelt, weil sie den Eindruck haben, die Botschaft wolle die verbleibende Zeit aussitzen, bis der reguläre Flugverkehr wieder aufgenommen wird. Dabei sei es völlig offen, wann es dann wieder Flüge nach Deutschland geben könnte.  Auch in der Türkei sollen noch immer Hunderte Reisende aus Deutschland gestrandet sein. Hier berichten die Betroffenen, dass sie wegen der Ausgangssperren es nicht zu den Flughäfen geschafft hätten.  Memet Kilic, der Vorsitzende des Bundesintegrationsrates, wies gegenüber dem SWR darauf hin, dass es sich unter den Gestrandeten nicht nur deutsche Touristen, sondern auch viele Deutsche mit türkischen Wurzeln oder türkische Staatsangehörige befänden, die auf Dauer in Deutschland lebten. Sie seien für eine Hochzeit oder einen Todesfall angereist. \"Diese Menschen sind Teil unseres Landes, sie sind hier zuhause\", betont er. \"Deshalb fordern wir das Ministerium auf, die Rückholaktion auf alle Menschen auszuweiten, die im Ausland festsitzen und ihren rechtmäßigen, dauerhaften Aufenthalt in Deutschland haben.\" \\n  \"Das Rückholprogramm richtet sich an deutsche Staatsangehörige und ihre Familienangehörigen in besonders von Reiseeinschränkungen betroffenen Regionen\", erklärte das Auswärtige Amt  gegenüber dem SWR.  Es gebe jedoch Bemühungen, im Rahmen der Kapazitäten auch für EU-Ausländer und Inhaber eines Aufenthaltstitels mit ständigem Wohnsitz in Deutschland Lösungen zu finden. Auf den vom Auswärtigen Amt direkt organisierten Flügen seien nach vorläufigen Zahlen auch 5000 EU- Staatsangehörige sowie 1000 Drittstaater.  Konkret zu der Situation der in der Türkei gestrandeten Personen heißt es: \"Seit Bestehen der weltweiten Reisewarnung ist es den allermeisten deutschen Reisenden aus der Türkei bereits gelungen zurück zu reisen.\"', 'Jeder dritte Gefangene soll freikommen - zum Schutz vor Corona, so die Regierung. Oppositionelle kritisieren, es ginge nicht um Gesundheit, sondern um eine Amnestie für regierungsnahe Inhaftierte.  Das türkische Parlament hat der Entlassung Zehntausender Häftlinge zugestimmt. Als Grund wird eine hohe Infektionsgefahr mit Corona in den Gefängnissen genannt. Dem Gesetzentwurf der Regierungspartei AKP zufolge käme etwa jeder dritte Gefangene frei. Die Opposition, Anwälte und Menschenrechtsverbände kritisieren das neue Gesetz, denn politische Gefangene sollen nicht profitieren. Unter ihnen sind auch mehrere deutsche Staatsbürger.  Veysel Ok macht sich Sorgen. Der türkische Menschenrechtsanwalt vertritt den Gießener Patrick Kraicker. Der 30-Jährige war zu einer Haftstrafe von sechs Jahren und drei Monaten verurteilt worden, weil er sich angeblich der Kurdenmiliz YPG in Nordsyrien anschließen wollte.  Sein Anwalt wartet auf die Entscheidung über den Berufungsantrag. So lange bleibt Kraicker im Gefängnis in einem Vorort von Istanbul. \"Wir haben für unsere zwölf inhaftierten Mandanten beantragt, dass sie wegen der Corona-Gefahr freigelassen werden. Bei den meisten wurden unsere Anträge abgelehnt, bei den restlichen haben wir noch keine Antwort\", so Anwalt Ok. \\n  Die Gefahr, sich im Gefängnis mit Covid-19 zu infizieren, gilt als hoch. Die Gefängnisse sind mit insgesamt 294.000 Gefangenen völlig überbelegt. Das ist auch der offizielle Grund für die Strafvollzugsreform, durch die 70.000 bis 75.000 Häftlinge freikommen werden und bis zu 20.000, die im offenen Vollzug sind, vorerst nicht ins Gefängnis zurückkehren müssen.  Anwalt Ok meint, um den Ausbruch von Corona in Gefängnissen zu verhindern, komme das aber zu spät: \"Wir wissen sowohl von unseren Mandanten, als auch aus den Medien, dass es bereits Fälle gibt.\"\\xa0Jüngstes Beispiel sei ein Gefängnis in der südtürkischen Stadt Mardin, wo gerade ein Covid-19-infizierter Häftling\\xa0freigelassen worden sei.  Nicht freigelassen werden sollen durch die Gesetzesreform Häftlinge, die wegen vorsätzlichen Mordes oder Sexualdelikten verurteilt sind - oder wegen Terrorvorwürfen. So wie\\xa0Patrick\\xa0Kraicker.\\xa0 Inhaftiert bleiben außerdem Oppositionspolitiker, Menschenrechtsaktivisten und Journalisten. Auch der deutsch-türkische Autor Enver Altayli und die Kölner Sängerin Hozan\\xa0Cane dürfen sich keine Hoffnungen machen, durch die Reform vom Corona-Risiko im Gefängnis verschont zu werden. \\n  In der Parlamentsdebatte warf die Abgeordnete Ayse Acar von der prokurdischen HDP der Regierung vor, es gehe ihr gar nicht um den Schutz der Häftlinge: \"Sie nutzen die Corona-Pandemie, um alle regierungsnahen Inhaftieren von einer Amnestie profitieren zu lassen.\\xa0Dagegen müssen Regierungskritiker und Oppositionelle weiter in Haft bleiben. Sie liefern sie dem Tod aus, ja genauer gesagt, sie verurteilen sie zum Tode. Wir werden nicht aufhören, das zu sagen.\"  Auch die Menschenrechtsorganisation IHD kritisiert das in einer Stellungnahme. Sie fordert, alle ernsthaft kranken Häftlinge freizulassen. Darunter würden auch Enver Altayli und Hozan\\xa0Cane fallen. Aber dazu wird es wohl nicht kommen. Auch prominente Häftlinge wie der der ehemalige Vorsitzende der prokurdischen Partei HDP, Selahattin Demirtas, oder der Unternehmer und Kulturmäzen Kavala werden im Gefängnis bleiben müssen.  Die Regierungspartei AKP hält das für richtig. Im Parlament wies deren Abgeordneter Yilmaz Tunc die gesundheitlichen Bedenken schroff zurück: \"Es wird behauptet, dieser Gesetzentwurf sei ungerecht. Also, wenn es einige Abgeordnete stört, dass Terroristen nicht freikommen, dann ist das deren Problem.\"  Weil mit der Gesetzesänderung auch die\\xa0Resthaftdauer neu berechnet wird, haben viele Verurteilte ihre Haftstrafe damit abgegolten oder können sie im Hausarrest absitzen. Anwälte wie Veysel Ok sprechen deshalb auch von einer indirekten Amnestie. Gefangene im Falle einer Epidemie freizulassen - das wäre auch mit dem bisherigen Gesetz möglich gewesen. \"Die Reform des Strafvollzugs hatten die Regierungspartei AKP und der MHP schon lange vor Ausbruch der Pandemie geplant. Durch Corona wird es jetzt nur beschleunigt\", so Ok.  Erdogans ultranationalistischer Bündnispartner MHP drängte schon seit Jahren auf eine Amnestie. Corona gibt dazu jetzt die Gelegenheit. Ursprünglich war sogar geplant, Täter, die wegen Vergewaltigung inhaftiert sind, ebenfalls freizulassen. Nach Protesten von Frauenverbänden wird darauf aber verzichtet.', 'Amazon profitiert von der Corona-Krise und will Zehntausende Jobs schaffen. Zugleich versucht der Konzern, sich als Wohltäter darzustellen. Doch Amazon-Mitarbeiter in den USA beschreiben ihren Arbeitgeber ganz anders.  In einem Video dankt der Onlinehändler Amazon\\xa0seinen Mitarbeitern - nennt sie \"Helden\" und verspricht, \"alles zu tun\", damit die Mitarbeiter auch während der Corona-Pandemie sicher arbeiten könnten.  Amazon will insgesamt 175.000 neue Mitarbeiter einstellen, um der gestiegenen Nachfrage nach Online-Waren Herr zu werden. Damit dürfte der Online-Riese mit Sitz in Seattle zu den wenigen Gewinnern der Coronavirus-Krise gehören.\\xa0Als Extra-Anreiz\\xa0will der Konzern seinen Mitarbeitern zwei Dollar - umgerechnet sind das etwa 1,80 Euro - mehr pro Stunde zahlen.  \\xa0 \\n  Doch einzelne Mitarbeiter in den USA zeichnen ein anderes, kritisches Bild. So zum Beispiel Terrell Worm, ein Lagerarbeiter aus Staten Island. Er erzählt gegenüber dem Radiosender NPR, dass er lieber unbezahlt zu Hause sei, seitdem ein Mitarbeiter positiv auf das Coronavirus\\xa0getestet wurde: \"Ich berühre jeden Tag, an dem ich dort arbeite, mehr als 2000 verschiedene Gegenstände. Und ich trage dabei keinen Schutz.\"\\xa0  Unzureichende Desinfektion, zu wenig Mindestabstand in Warenhäusern: Diese Kritik gab es von einigen Warenhaus-Mitarbeitern verteilt über die USA.  Proteste und Streik\\xa0  Ende März hatte es Proteste und Arbeitsniederlegungen in Staten Island gegeben. Der Streik wurde von dem Lagerarbeiter Chris Smalls angeführt. Er kritisierte Amazon unter anderem auch dafür, dass die Mitarbeiter nur dann \"paid sick leave\" bekommen - also bezahlt krank zu Hause bleiben dürfen - wenn sie nachweisen, dass sie mit Covid-19 infiziert sind. Doch die Tests seien rar, kritisierte Smalls in einem TV-Interview:\\xa0\"Man braucht viel Glück, um im Bundesstaat New York den Test zu bekommen. Und dann dauert es Tage bis man das Ergebnis hat.\"  An diesen Tagen werden die Mitarbeiter nicht bezahlt - denn Angestellte in den USA haben kein Recht auf bezahlte Krankentage. Das war schon vor der Corona-Krise ein Problem für viele Arbeitnehmer.  \\xa0 \\n  Amazon-Mitarbeiter Chris Smalls wurde kurz nach den organisierten Protesten entlassen. Laut Amazon, weil er ein 14-tägiges Quarantäne-Gebot missachtet habe. Wie nun aus einem internen Meeting mit Amazon-Chef Jeff Bezos bekannt wurde, begrüßte die Chefetage regelrecht, dass Smalls seither in den Medien präsent ist. Denn er sei \"nicht intelligent und wortgewandt\" - und damit offenbar keine Gefahr für den Konzern.  Nun wird die Entlassung des Mitarbeiters sogar von einem Menschenrechtsbeauftragten der Stadt New York untersucht. Ein PR-Problem, denn eigentlich will sich Amazon in der Pandemie als sehr sozial darstellen. Konzernchef Bezos spendete allein 100 Millionen Dollar an eine Hilfsorganisation, die sich dem Kampf gegen den Hunger in den USA verschrieben hat.  Amazon hat derweil angekündigt, dass das Unternehmen die Temperatur der Mitarbeiter zu Beginn ihrer Schicht messen will. Mitarbeiter mit erhöhter Temperatur müssten mindestens drei Tage zu Hause bleiben und würden bis zu fünf Stunden ihrer Schicht bezahlt bekommen.\\xa0', 'Wie viele bestätigte Coronavirus-Fälle gibt es? Die interaktiven Karten geben einen aktuellen Überblick für Deutschland und die Welt. Sie zeigen auch an, wie viele Menschen gestorben und wie viele genesen sind. \\n  Hinweis: Die Zahlen der Coronavirus-Karte für Deutschland basieren auf den Angaben des Robert Koch-Instituts, die einmal pro Tag veröffentlicht werden. \\n  Hinweis: Die Zahlen der Coronavirus-Karte für alle Länder weltweit basiert auf den Angaben der Johns Hopkins University. Durch die verschiedenen Quellen und Aktualisierungszeitpunkte kann es für die Fallzahlen in Deutschland zu Abweichungen von den Zahlen des Robert Koch-Instituts kommen. \\n  Die Angaben der Johns Hopkins Universität und die Zahlen vom Robert Koch-Institut unterscheiden sich oft. Deswegen sind sie aber nicht falsch. Entscheidend ist, wann welche Zahlen gemeldet und wie sie ermittelt werden. \\n']\n"
     ]
    }
   ],
   "source": [
    "print(corona_articles)"
   ]
  },
  {
   "cell_type": "code",
   "execution_count": 24,
   "metadata": {},
   "outputs": [
    {
     "data": {
      "text/plain": [
       "11"
      ]
     },
     "execution_count": 24,
     "metadata": {},
     "output_type": "execute_result"
    }
   ],
   "source": [
    "len(corona_articles)"
   ]
  },
  {
   "cell_type": "markdown",
   "metadata": {},
   "source": [
    "### Make into CSV file"
   ]
  },
  {
   "cell_type": "code",
   "execution_count": 25,
   "metadata": {},
   "outputs": [],
   "source": [
    "columns = [\"date\", \"url\", \"article\", \"resort\"]\n",
    "df = pd.DataFrame(columns=columns)\n",
    "df[\"url\"] = corona_links\n",
    "df[\"article\"] = corona_articles\n",
    "df[\"date\"] = todays_date\n",
    "df[\"resort\"] = df[\"url\"].apply(lambda x: x.split(\"/\")[1])"
   ]
  },
  {
   "cell_type": "code",
   "execution_count": 26,
   "metadata": {},
   "outputs": [
    {
     "data": {
      "text/html": [
       "<div>\n",
       "<style scoped>\n",
       "    .dataframe tbody tr th:only-of-type {\n",
       "        vertical-align: middle;\n",
       "    }\n",
       "\n",
       "    .dataframe tbody tr th {\n",
       "        vertical-align: top;\n",
       "    }\n",
       "\n",
       "    .dataframe thead th {\n",
       "        text-align: right;\n",
       "    }\n",
       "</style>\n",
       "<table border=\"1\" class=\"dataframe\">\n",
       "  <thead>\n",
       "    <tr style=\"text-align: right;\">\n",
       "      <th></th>\n",
       "      <th>date</th>\n",
       "      <th>url</th>\n",
       "      <th>article</th>\n",
       "      <th>resort</th>\n",
       "    </tr>\n",
       "  </thead>\n",
       "  <tbody>\n",
       "    <tr>\n",
       "      <th>0</th>\n",
       "      <td>2020-04-14 18:50:51.964342</td>\n",
       "      <td>/newsticker/liveblog-coronavirus-dienstag-101....</td>\n",
       "      <td>Andrew Cuomo hat im Streit über eine mögliche ...</td>\n",
       "      <td>newsticker</td>\n",
       "    </tr>\n",
       "    <tr>\n",
       "      <th>1</th>\n",
       "      <td>2020-04-14 18:50:51.964342</td>\n",
       "      <td>/inland/corona-schule-105.html</td>\n",
       "      <td>Regelmäßiges Lehren und Lernen, mehr Raum für ...</td>\n",
       "      <td>inland</td>\n",
       "    </tr>\n",
       "    <tr>\n",
       "      <th>2</th>\n",
       "      <td>2020-04-14 18:50:51.964342</td>\n",
       "      <td>/inland/quarantaen-alte-menschen-corona-101.html</td>\n",
       "      <td>Viele ältere Menschen fühlen sich jetzt bereit...</td>\n",
       "      <td>inland</td>\n",
       "    </tr>\n",
       "    <tr>\n",
       "      <th>3</th>\n",
       "      <td>2020-04-14 18:50:51.964342</td>\n",
       "      <td>/inland/rki-pk-101.html</td>\n",
       "      <td>RKI-Präsident Wieler sieht \"einige positive Te...</td>\n",
       "      <td>inland</td>\n",
       "    </tr>\n",
       "    <tr>\n",
       "      <th>4</th>\n",
       "      <td>2020-04-14 18:50:51.964342</td>\n",
       "      <td>/wirtschaft/corona-krise-iwf-101.html</td>\n",
       "      <td>Die Welt steht wegen der Corona-Pandemie laut ...</td>\n",
       "      <td>wirtschaft</td>\n",
       "    </tr>\n",
       "  </tbody>\n",
       "</table>\n",
       "</div>"
      ],
      "text/plain": [
       "                        date  \\\n",
       "0 2020-04-14 18:50:51.964342   \n",
       "1 2020-04-14 18:50:51.964342   \n",
       "2 2020-04-14 18:50:51.964342   \n",
       "3 2020-04-14 18:50:51.964342   \n",
       "4 2020-04-14 18:50:51.964342   \n",
       "\n",
       "                                                 url  \\\n",
       "0  /newsticker/liveblog-coronavirus-dienstag-101....   \n",
       "1                     /inland/corona-schule-105.html   \n",
       "2   /inland/quarantaen-alte-menschen-corona-101.html   \n",
       "3                            /inland/rki-pk-101.html   \n",
       "4              /wirtschaft/corona-krise-iwf-101.html   \n",
       "\n",
       "                                             article      resort  \n",
       "0  Andrew Cuomo hat im Streit über eine mögliche ...  newsticker  \n",
       "1  Regelmäßiges Lehren und Lernen, mehr Raum für ...      inland  \n",
       "2  Viele ältere Menschen fühlen sich jetzt bereit...      inland  \n",
       "3  RKI-Präsident Wieler sieht \"einige positive Te...      inland  \n",
       "4  Die Welt steht wegen der Corona-Pandemie laut ...  wirtschaft  "
      ]
     },
     "execution_count": 26,
     "metadata": {},
     "output_type": "execute_result"
    }
   ],
   "source": [
    "df.head()"
   ]
  },
  {
   "cell_type": "markdown",
   "metadata": {},
   "source": [
    "### Export CSV"
   ]
  },
  {
   "cell_type": "code",
   "execution_count": 27,
   "metadata": {},
   "outputs": [],
   "source": [
    "df.to_csv(\"data/\" + date_stamp)"
   ]
  },
  {
   "cell_type": "code",
   "execution_count": null,
   "metadata": {},
   "outputs": [],
   "source": []
  }
 ],
 "metadata": {
  "kernelspec": {
   "display_name": "Python 3",
   "language": "python",
   "name": "python3"
  },
  "language_info": {
   "codemirror_mode": {
    "name": "ipython",
    "version": 3
   },
   "file_extension": ".py",
   "mimetype": "text/x-python",
   "name": "python",
   "nbconvert_exporter": "python",
   "pygments_lexer": "ipython3",
   "version": "3.6.5"
  }
 },
 "nbformat": 4,
 "nbformat_minor": 2
}
